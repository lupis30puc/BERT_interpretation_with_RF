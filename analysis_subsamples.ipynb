{
  "nbformat": 4,
  "nbformat_minor": 0,
  "metadata": {
    "colab": {
      "name": "analysis_subsamples.ipynb",
      "provenance": [],
      "collapsed_sections": [
        "Qx--WzAEAMvz"
      ],
      "authorship_tag": "ABX9TyML+rXBXytQBhDlwRUOfUgS",
      "include_colab_link": true
    },
    "kernelspec": {
      "name": "python3",
      "display_name": "Python 3"
    }
  },
  "cells": [
    {
      "cell_type": "markdown",
      "metadata": {
        "id": "view-in-github",
        "colab_type": "text"
      },
      "source": [
        "<a href=\"https://colab.research.google.com/github/lupis30puc/BERT_interpretation_with_RF/blob/main/analysis_subsamples.ipynb\" target=\"_parent\"><img src=\"https://colab.research.google.com/assets/colab-badge.svg\" alt=\"Open In Colab\"/></a>"
      ]
    },
    {
      "cell_type": "markdown",
      "metadata": {
        "id": "ELKQY32r-klZ"
      },
      "source": [
        "On this notebook, I generate subsamples to analyze the feature contributions per review. \n",
        "\n",
        "I get 5% of the samples per category in a random way. \n",
        "\n",
        "And then I create length segments to compare the reviews with the different length.\n",
        "\n",
        "These subsamples will be the input for the notebook feature_contributions_analysis . "
      ]
    },
    {
      "cell_type": "markdown",
      "metadata": {
        "id": "Qx--WzAEAMvz"
      },
      "source": [
        "## Set Up"
      ]
    },
    {
      "cell_type": "code",
      "metadata": {
        "colab": {
          "base_uri": "https://localhost:8080/"
        },
        "id": "3d5Y_yn7_owl",
        "outputId": "0539819f-d717-4003-9f20-146e3cc32b52"
      },
      "source": [
        "from google.colab import drive\r\n",
        "drive.mount('/content/drive')"
      ],
      "execution_count": null,
      "outputs": [
        {
          "output_type": "stream",
          "text": [
            "Mounted at /content/drive\n"
          ],
          "name": "stdout"
        }
      ]
    },
    {
      "cell_type": "code",
      "metadata": {
        "id": "7Olhw4Uf_qSt"
      },
      "source": [
        "import pandas as pd\r\n",
        "import numpy as np\r\n",
        "import matplotlib.pyplot as plt\r\n",
        "import seaborn as sns\r\n",
        "%matplotlib inline\r\n",
        "import string\r\n",
        "import math\r\n",
        "\r\n",
        "import time\r\n"
      ],
      "execution_count": null,
      "outputs": []
    },
    {
      "cell_type": "code",
      "metadata": {
        "id": "FpYcbbcNLxBO"
      },
      "source": [
        "# function so that the graphs look good \n",
        "def set_plotting_style():\n",
        "  tw = 1.5\n",
        "  rc = {'lines.linewidth': 2,\n",
        "              'axes.labelsize': 18,\n",
        "              'axes.titlesize': 21,\n",
        "              'xtick.major' : 16,\n",
        "              'ytick.major' : 16,\n",
        "              'xtick.major.width': tw,\n",
        "              'xtick.minor.width': tw,\n",
        "              'ytick.major.width': tw,\n",
        "              'ytick.minor.width': tw,\n",
        "              'xtick.labelsize': 'large',\n",
        "              'ytick.labelsize': 'large',\n",
        "              'font.family': 'sans',\n",
        "              'weight':'bold',\n",
        "              'grid.linestyle': ':',\n",
        "              'grid.linewidth': 1.5,\n",
        "              'grid.color': '#ffffff',\n",
        "              'mathtext.fontset': 'stixsans',\n",
        "              'mathtext.sf': 'fantasy',\n",
        "              'legend.frameon': True,\n",
        "              'legend.fontsize': 12, \n",
        "            \"xtick.direction\": \"in\",\"ytick.direction\": \"in\"}\n",
        "\n",
        "  plt.rc('text.latex', preamble=r'\\usepackage{sfmath}')\n",
        "  plt.rc('mathtext', fontset='stixsans', sf='sans')\n",
        "  sns.set_style('ticks', rc=rc)\n",
        "  sns.set_context('notebook', rc=rc)\n"
      ],
      "execution_count": null,
      "outputs": []
    },
    {
      "cell_type": "code",
      "metadata": {
        "colab": {
          "base_uri": "https://localhost:8080/",
          "height": 97
        },
        "id": "tiKHRCtPDFEP",
        "outputId": "ef5abfe2-cb8b-4e7b-90e1-aa9d4663041e"
      },
      "source": [
        "# Loading all reviews to get samples\n",
        "reviews = pd.read_pickle('/content/drive/MyDrive/Yelp/sample_categories.pkl')\n",
        "reviews.head(1)"
      ],
      "execution_count": null,
      "outputs": [
        {
          "output_type": "execute_result",
          "data": {
            "text/html": [
              "<div>\n",
              "<style scoped>\n",
              "    .dataframe tbody tr th:only-of-type {\n",
              "        vertical-align: middle;\n",
              "    }\n",
              "\n",
              "    .dataframe tbody tr th {\n",
              "        vertical-align: top;\n",
              "    }\n",
              "\n",
              "    .dataframe thead th {\n",
              "        text-align: right;\n",
              "    }\n",
              "</style>\n",
              "<table border=\"1\" class=\"dataframe\">\n",
              "  <thead>\n",
              "    <tr style=\"text-align: right;\">\n",
              "      <th></th>\n",
              "      <th>text</th>\n",
              "      <th>label</th>\n",
              "      <th>categories</th>\n",
              "      <th>clean_text</th>\n",
              "      <th>category</th>\n",
              "      <th>length</th>\n",
              "    </tr>\n",
              "  </thead>\n",
              "  <tbody>\n",
              "    <tr>\n",
              "      <th>0</th>\n",
              "      <td>This actually used to be one of my favorite ho...</td>\n",
              "      <td>0</td>\n",
              "      <td>Casinos, Nightlife, Restaurants, Hotels &amp; Trav...</td>\n",
              "      <td>actually favorite hotel casinos day things cha...</td>\n",
              "      <td>Hotel Industry</td>\n",
              "      <td>265</td>\n",
              "    </tr>\n",
              "  </tbody>\n",
              "</table>\n",
              "</div>"
            ],
            "text/plain": [
              "                                                text  ...  length\n",
              "0  This actually used to be one of my favorite ho...  ...     265\n",
              "\n",
              "[1 rows x 6 columns]"
            ]
          },
          "metadata": {
            "tags": []
          },
          "execution_count": 9
        }
      ]
    },
    {
      "cell_type": "code",
      "metadata": {
        "colab": {
          "base_uri": "https://localhost:8080/"
        },
        "id": "r_tR8iQdz6IA",
        "outputId": "03ee9fbe-6f33-47b5-9b24-465b79c509ae"
      },
      "source": [
        "reviews.shape"
      ],
      "execution_count": null,
      "outputs": [
        {
          "output_type": "execute_result",
          "data": {
            "text/plain": [
              "(12993, 6)"
            ]
          },
          "metadata": {
            "tags": []
          },
          "execution_count": 24
        }
      ]
    },
    {
      "cell_type": "code",
      "metadata": {
        "colab": {
          "base_uri": "https://localhost:8080/"
        },
        "id": "Jdfukf7CsR8b",
        "outputId": "28485b14-e692-46e4-bc92-8b9f7503f345"
      },
      "source": [
        "below_length = reviews[reviews['length']<4]\n",
        "all_reviews = reviews[reviews.isin(below_length)==False]\n",
        "all_reviews.dropna(inplace=True)\n",
        "all_reviews.shape"
      ],
      "execution_count": null,
      "outputs": [
        {
          "output_type": "execute_result",
          "data": {
            "text/plain": [
              "(12987, 6)"
            ]
          },
          "metadata": {
            "tags": []
          },
          "execution_count": 23
        }
      ]
    },
    {
      "cell_type": "markdown",
      "metadata": {
        "id": "4gV9dbWgnPuy"
      },
      "source": [
        "## Samples per category"
      ]
    },
    {
      "cell_type": "code",
      "metadata": {
        "colab": {
          "base_uri": "https://localhost:8080/"
        },
        "id": "KVLu3i7SsYK_",
        "outputId": "0c45ce95-8d65-4c5b-8890-89035f971cdb"
      },
      "source": [
        "reviews['length'].describe()"
      ],
      "execution_count": null,
      "outputs": [
        {
          "output_type": "execute_result",
          "data": {
            "text/plain": [
              "count    12993.000000\n",
              "mean        47.718464\n",
              "std         42.064071\n",
              "min          1.000000\n",
              "25%         20.000000\n",
              "50%         34.000000\n",
              "75%         61.000000\n",
              "max        396.000000\n",
              "Name: length, dtype: float64"
            ]
          },
          "metadata": {
            "tags": []
          },
          "execution_count": 25
        }
      ]
    },
    {
      "cell_type": "code",
      "metadata": {
        "colab": {
          "base_uri": "https://localhost:8080/"
        },
        "id": "nIix93zCK9tW",
        "outputId": "2d275a34-d755-4789-e45e-c87b2c4f82c9"
      },
      "source": [
        "all_reviews['category'].value_counts().apply(lambda c: round(c / len(all_reviews) *100), print('Percentages:'))"
      ],
      "execution_count": null,
      "outputs": [
        {
          "output_type": "stream",
          "text": [
            "Percentages:\n"
          ],
          "name": "stdout"
        },
        {
          "output_type": "execute_result",
          "data": {
            "text/plain": [
              "Restaurant Industry    71\n",
              "Other Industries       11\n",
              "Service Industry        7\n",
              "Hotel Industry          6\n",
              "Beauty Industry         5\n",
              "Name: category, dtype: object"
            ]
          },
          "metadata": {
            "tags": []
          },
          "execution_count": 26
        }
      ]
    },
    {
      "cell_type": "code",
      "metadata": {
        "colab": {
          "base_uri": "https://localhost:8080/"
        },
        "id": "6rpc2eFWrT8V",
        "outputId": "88826f95-d597-42cf-d673-1d34df128ac1"
      },
      "source": [
        "all_reviews['length'].describe()"
      ],
      "execution_count": null,
      "outputs": [
        {
          "output_type": "execute_result",
          "data": {
            "text/plain": [
              "count    12987.000000\n",
              "mean        47.739586\n",
              "std         42.062299\n",
              "min          4.000000\n",
              "25%         20.000000\n",
              "50%         34.000000\n",
              "75%         61.000000\n",
              "max        396.000000\n",
              "Name: length, dtype: float64"
            ]
          },
          "metadata": {
            "tags": []
          },
          "execution_count": 27
        }
      ]
    },
    {
      "cell_type": "code",
      "metadata": {
        "colab": {
          "base_uri": "https://localhost:8080/"
        },
        "id": "fU9YxMshQ_CZ",
        "outputId": "5b803816-4e8c-4612-bc6c-c521eff73622"
      },
      "source": [
        "# determining the categories samples\n",
        "restaurant = all_reviews[all_reviews['category'] == 'Restaurant Industry'].sample(frac=0.050, random_state=42)\n",
        "beauty = all_reviews[all_reviews['category'] == 'Beauty Industry'].sample(frac=0.050, random_state=42)\n",
        "other = all_reviews[all_reviews['category'] == 'Other Industries'].sample(frac=0.050, random_state=42)\n",
        "hotel = all_reviews[all_reviews['category'] == 'Hotel Industry'].sample(frac=0.050, random_state=42)\n",
        "service = all_reviews[all_reviews['category'] == 'Service Industry'].sample(frac=0.050, random_state=42)\n",
        "print(len(restaurant), len(beauty), len(other), len(hotel), len(service))"
      ],
      "execution_count": null,
      "outputs": [
        {
          "output_type": "stream",
          "text": [
            "459 35 72 36 47\n"
          ],
          "name": "stdout"
        }
      ]
    },
    {
      "cell_type": "code",
      "metadata": {
        "colab": {
          "base_uri": "https://localhost:8080/",
          "height": 1000
        },
        "id": "lR6GlU0HWZVg",
        "outputId": "18f89ee2-6f3a-40e9-9e62-35d400d02c0a"
      },
      "source": [
        "cat_samples = [restaurant, beauty, other, hotel, service]\n",
        "for df in cat_samples:\n",
        "  plot =sns.displot(data=df, x='length', hue='label', multiple='stack')\n",
        "  plt.title(df.category.max())"
      ],
      "execution_count": null,
      "outputs": [
        {
          "output_type": "display_data",
          "data": {
            "image/png": "[encoded data removed]",
            "text/plain": [
              "<Figure size 411.875x360 with 1 Axes>"
            ]
          },
          "metadata": {
            "tags": [],
            "needs_background": "light"
          }
        },
        {
          "output_type": "display_data",
          "data": {
            "image/png": "[encoded data removed]",
            "text/plain": [
              "<Figure size 411.875x360 with 1 Axes>"
            ]
          },
          "metadata": {
            "tags": [],
            "needs_background": "light"
          }
        },
        {
          "output_type": "display_data",
          "data": {
            "image/png": "[encoded data removed]",
            "text/plain": [
              "<Figure size 411.875x360 with 1 Axes>"
            ]
          },
          "metadata": {
            "tags": [],
            "needs_background": "light"
          }
        },
        {
          "output_type": "display_data",
          "data": {
            "image/png": "[encoded data removed]",
            "text/plain": [
              "<Figure size 411.875x360 with 1 Axes>"
            ]
          },
          "metadata": {
            "tags": [],
            "needs_background": "light"
          }
        },
        {
          "output_type": "display_data",
          "data": {
            "image/png": "[encoded data removed]",
            "text/plain": [
              "<Figure size 411.875x360 with 1 Axes>"
            ]
          },
          "metadata": {
            "tags": [],
            "needs_background": "light"
          }
        }
      ]
    },
    {
      "cell_type": "markdown",
      "metadata": {
        "id": "iiX3uH7OOL5V"
      },
      "source": [
        "## Samples per length"
      ]
    },
    {
      "cell_type": "code",
      "metadata": {
        "colab": {
          "base_uri": "https://localhost:8080/"
        },
        "id": "NQGTW2KIUB2F",
        "outputId": "b803faea-d89d-4450-c293-ab7d28d2b14e"
      },
      "source": [
        "quant = [0.25, 0.50, 0.75, 0.95, 0.98]\n",
        "print([np.quantile(all_reviews['length'], q) for q in quant])\n",
        "# meaning that the reviews of more that 173 words are less than 0.2 percent of the whole sample"
      ],
      "execution_count": null,
      "outputs": [
        {
          "output_type": "stream",
          "text": [
            "[20.0, 34.0, 61.0, 128.0, 173.0]\n"
          ],
          "name": "stdout"
        }
      ]
    },
    {
      "cell_type": "code",
      "metadata": {
        "colab": {
          "base_uri": "https://localhost:8080/"
        },
        "id": "CZmd2GBvUBjD",
        "outputId": "a9f6d1e2-9a87-4f3e-82d1-51f8dc54d170"
      },
      "source": [
        "len(all_reviews['length'][all_reviews.length > 173])"
      ],
      "execution_count": null,
      "outputs": [
        {
          "output_type": "execute_result",
          "data": {
            "text/plain": [
              "258"
            ]
          },
          "metadata": {
            "tags": []
          },
          "execution_count": 65
        }
      ]
    },
    {
      "cell_type": "code",
      "metadata": {
        "colab": {
          "base_uri": "https://localhost:8080/"
        },
        "id": "dKmAI1TPPis6",
        "outputId": "17aaa168-3685-468f-cbee-dcb2471a4e0a"
      },
      "source": [
        "l_25 = pd.concat([restaurant[restaurant['length'] <= 20], other[other['length'] <= 20], beauty[beauty['length'] <= 20], hotel[hotel['length'] <= 20], service[service['length'] <= 20]])\n",
        "len(l_25)"
      ],
      "execution_count": null,
      "outputs": [
        {
          "output_type": "execute_result",
          "data": {
            "text/plain": [
              "172"
            ]
          },
          "metadata": {
            "tags": []
          },
          "execution_count": 66
        }
      ]
    },
    {
      "cell_type": "code",
      "metadata": {
        "colab": {
          "base_uri": "https://localhost:8080/"
        },
        "id": "P3pIxU1PUmd9",
        "outputId": "5a210af0-edd5-4379-f0dc-87623c9e8796"
      },
      "source": [
        "l_25.length.sort_values(ascending=True)[:10]"
      ],
      "execution_count": null,
      "outputs": [
        {
          "output_type": "execute_result",
          "data": {
            "text/plain": [
              "11648    5.0\n",
              "8198     6.0\n",
              "3991     7.0\n",
              "7364     7.0\n",
              "11160    7.0\n",
              "7881     7.0\n",
              "11315    8.0\n",
              "5496     8.0\n",
              "7586     8.0\n",
              "1498     8.0\n",
              "Name: length, dtype: float64"
            ]
          },
          "metadata": {
            "tags": []
          },
          "execution_count": 67
        }
      ]
    },
    {
      "cell_type": "code",
      "metadata": {
        "colab": {
          "base_uri": "https://localhost:8080/"
        },
        "id": "IPxBu43bQ8P7",
        "outputId": "e269eb3d-eaff-44b3-a9bf-3c22fc1e5756"
      },
      "source": [
        "l_50 = pd.concat([restaurant[restaurant['length'] <= 34], other[other['length'] <= 34], beauty[beauty['length'] <= 34], hotel[hotel['length'] <= 34], service[service['length']<= 34]])\n",
        "len(l_50)"
      ],
      "execution_count": null,
      "outputs": [
        {
          "output_type": "execute_result",
          "data": {
            "text/plain": [
              "328"
            ]
          },
          "metadata": {
            "tags": []
          },
          "execution_count": 68
        }
      ]
    },
    {
      "cell_type": "code",
      "metadata": {
        "colab": {
          "base_uri": "https://localhost:8080/"
        },
        "id": "FfBk9GfIRcwG",
        "outputId": "e6bea62f-1e8f-4c03-ac10-9fd16329ebbc"
      },
      "source": [
        "l_50 = l_50[l_50.index.isin(l_25.index)==False]\n",
        "len(l_50)"
      ],
      "execution_count": null,
      "outputs": [
        {
          "output_type": "execute_result",
          "data": {
            "text/plain": [
              "156"
            ]
          },
          "metadata": {
            "tags": []
          },
          "execution_count": 69
        }
      ]
    },
    {
      "cell_type": "code",
      "metadata": {
        "colab": {
          "base_uri": "https://localhost:8080/"
        },
        "id": "ehsXP5TWUe60",
        "outputId": "1c18d607-d513-4a36-953e-00af7cfe6567"
      },
      "source": [
        "l_50.length.sort_values(ascending=True)[:10]"
      ],
      "execution_count": null,
      "outputs": [
        {
          "output_type": "execute_result",
          "data": {
            "text/plain": [
              "12237    21.0\n",
              "1158     21.0\n",
              "2637     21.0\n",
              "11650    21.0\n",
              "7988     21.0\n",
              "11210    21.0\n",
              "5066     21.0\n",
              "12817    21.0\n",
              "4625     21.0\n",
              "8183     22.0\n",
              "Name: length, dtype: float64"
            ]
          },
          "metadata": {
            "tags": []
          },
          "execution_count": 70
        }
      ]
    },
    {
      "cell_type": "code",
      "metadata": {
        "colab": {
          "base_uri": "https://localhost:8080/"
        },
        "id": "uGsrnUlAUYI4",
        "outputId": "9120d9bc-1f92-48ee-a3b8-d7292b70f412"
      },
      "source": [
        "l_75 = pd.concat([restaurant[restaurant['length'] <= 61], other[other['length'] <= 61], beauty[beauty['length'] <= 61], hotel[hotel['length'] <= 61], service[service['length']<= 61]])\n",
        "len(l_75)"
      ],
      "execution_count": null,
      "outputs": [
        {
          "output_type": "execute_result",
          "data": {
            "text/plain": [
              "481"
            ]
          },
          "metadata": {
            "tags": []
          },
          "execution_count": 71
        }
      ]
    },
    {
      "cell_type": "code",
      "metadata": {
        "colab": {
          "base_uri": "https://localhost:8080/"
        },
        "id": "mKUafudQRBl8",
        "outputId": "4729572b-b0f6-4228-bc04-6cc5a41112ce"
      },
      "source": [
        "l_75 = l_75[l_75.index.isin(l_25.index.append(l_50.index))==False]\n",
        "len(l_75)"
      ],
      "execution_count": null,
      "outputs": [
        {
          "output_type": "execute_result",
          "data": {
            "text/plain": [
              "153"
            ]
          },
          "metadata": {
            "tags": []
          },
          "execution_count": 72
        }
      ]
    },
    {
      "cell_type": "code",
      "metadata": {
        "colab": {
          "base_uri": "https://localhost:8080/"
        },
        "id": "y3WD96PAUYFu",
        "outputId": "6b51385b-250e-47ee-fd8e-c52e27e452d4"
      },
      "source": [
        "l_75.length.sort_values(ascending=True)[:10]"
      ],
      "execution_count": null,
      "outputs": [
        {
          "output_type": "execute_result",
          "data": {
            "text/plain": [
              "5534     35.0\n",
              "5262     35.0\n",
              "10357    35.0\n",
              "7044     35.0\n",
              "7034     35.0\n",
              "10241    35.0\n",
              "3484     35.0\n",
              "2805     35.0\n",
              "9414     35.0\n",
              "11989    35.0\n",
              "Name: length, dtype: float64"
            ]
          },
          "metadata": {
            "tags": []
          },
          "execution_count": 73
        }
      ]
    },
    {
      "cell_type": "code",
      "metadata": {
        "colab": {
          "base_uri": "https://localhost:8080/"
        },
        "id": "sloj0WzKW7W4",
        "outputId": "8ef2e0ca-1a3d-46b9-d0bd-c9bd1096b774"
      },
      "source": [
        "l_100 = pd.concat([restaurant[restaurant['length'] > 61], other[other['length'] > 61], beauty[beauty['length'] > 61], hotel[hotel['length'] > 61], service[service['length']>61]])\n",
        "len(l_100)"
      ],
      "execution_count": null,
      "outputs": [
        {
          "output_type": "execute_result",
          "data": {
            "text/plain": [
              "168"
            ]
          },
          "metadata": {
            "tags": []
          },
          "execution_count": 74
        }
      ]
    },
    {
      "cell_type": "code",
      "metadata": {
        "colab": {
          "base_uri": "https://localhost:8080/"
        },
        "id": "5SKlsd5gXQaD",
        "outputId": "596be142-db26-4933-b7b9-99a9c87c27b2"
      },
      "source": [
        "l_100.length.sort_values(ascending=False)[:10]"
      ],
      "execution_count": null,
      "outputs": [
        {
          "output_type": "execute_result",
          "data": {
            "text/plain": [
              "3469     296.0\n",
              "5956     263.0\n",
              "2530     258.0\n",
              "7549     252.0\n",
              "10741    249.0\n",
              "5468     235.0\n",
              "2464     232.0\n",
              "2766     223.0\n",
              "1388     220.0\n",
              "2604     216.0\n",
              "Name: length, dtype: float64"
            ]
          },
          "metadata": {
            "tags": []
          },
          "execution_count": 75
        }
      ]
    },
    {
      "cell_type": "code",
      "metadata": {
        "colab": {
          "base_uri": "https://localhost:8080/",
          "height": 1000
        },
        "id": "ocCF1B1WZwAq",
        "outputId": "0bc2123a-9e34-4beb-e7b5-8602cea22c89"
      },
      "source": [
        "len_samples = [l_100, l_75, l_50, l_25]\n",
        "for df in len_samples:\n",
        "  plot =sns.displot(data=df, x='category', hue='label', multiple='stack')\n",
        "  plt.xticks(rotation=90)\n",
        "  plt.title(df.length.max())"
      ],
      "execution_count": null,
      "outputs": [
        {
          "output_type": "display_data",
          "data": {
            "image/png": "[encoded data removed]",
            "text/plain": [
              "<Figure size 411.875x360 with 1 Axes>"
            ]
          },
          "metadata": {
            "tags": [],
            "needs_background": "light"
          }
        },
        {
          "output_type": "display_data",
          "data": {
            "image/png": "[encoded data removed]",
            "text/plain": [
              "<Figure size 411.875x360 with 1 Axes>"
            ]
          },
          "metadata": {
            "tags": [],
            "needs_background": "light"
          }
        },
        {
          "output_type": "display_data",
          "data": {
            "image/png": "[encoded data removed]",
            "text/plain": [
              "<Figure size 411.875x360 with 1 Axes>"
            ]
          },
          "metadata": {
            "tags": [],
            "needs_background": "light"
          }
        },
        {
          "output_type": "display_data",
          "data": {
            "image/png": "[encoded data removed]",
            "text/plain": [
              "<Figure size 411.875x360 with 1 Axes>"
            ]
          },
          "metadata": {
            "tags": [],
            "needs_background": "light"
          }
        }
      ]
    },
    {
      "cell_type": "markdown",
      "metadata": {
        "id": "PGr2AN8HdYet"
      },
      "source": [
        "## Saving the samples for analysis"
      ]
    },
    {
      "cell_type": "code",
      "metadata": {
        "id": "SiaWAEl7da8c",
        "colab": {
          "base_uri": "https://localhost:8080/"
        },
        "outputId": "62ecac05-e7d6-44a1-df91-a5a33cd6f820"
      },
      "source": [
        "print(len(restaurant), len(beauty), len(other), len(hotel), len(service))\n",
        "print(len(l_100), len(l_75), len(l_50), len(l_25))"
      ],
      "execution_count": null,
      "outputs": [
        {
          "output_type": "stream",
          "text": [
            "459 35 72 36 47\n",
            "168 153 156 172\n"
          ],
          "name": "stdout"
        }
      ]
    },
    {
      "cell_type": "code",
      "metadata": {
        "id": "tQLwSVwVfmHT",
        "colab": {
          "base_uri": "https://localhost:8080/"
        },
        "outputId": "25ebb51e-a61a-4e06-8bde-5c13e6ba3d47"
      },
      "source": [
        "print(len(restaurant)+len(beauty)+len(other)+len(hotel)+len(service))\n",
        "print(len(l_100)+len(l_75)+len(l_50)+len(l_25))"
      ],
      "execution_count": null,
      "outputs": [
        {
          "output_type": "stream",
          "text": [
            "649\n",
            "649\n"
          ],
          "name": "stdout"
        }
      ]
    },
    {
      "cell_type": "code",
      "metadata": {
        "id": "Aw34BF4KeLlG",
        "colab": {
          "base_uri": "https://localhost:8080/"
        },
        "outputId": "9ae336ba-c436-4cbf-caa8-6a350b16e4d3"
      },
      "source": [
        "samples = [restaurant, beauty, other, hotel, service, l_100, l_75, l_50, l_25]\n",
        "names = ['restaurant', 'beauty', 'other', 'hotel', 'service', 'quantile_100', 'quantile_75', 'quantile_50', 'quantile_25']\n",
        "for df in range(len(samples)):\n",
        "  samples[df].to_pickle('/content/drive/MyDrive/Yelp/features_analysis/' + names[df] +'_5perc.pkl')\n",
        "  print(names[df] + ' is saved.')"
      ],
      "execution_count": null,
      "outputs": [
        {
          "output_type": "stream",
          "text": [
            "restaurant is saved.\n",
            "beauty is saved.\n",
            "other is saved.\n",
            "hotel is saved.\n",
            "service is saved.\n",
            "quantile_100 is saved.\n",
            "quantile_75 is saved.\n",
            "quantile_50 is saved.\n",
            "quantile_25 is saved.\n"
          ],
          "name": "stdout"
        }
      ]
    },
    {
      "cell_type": "code",
      "metadata": {
        "colab": {
          "base_uri": "https://localhost:8080/"
        },
        "id": "0vWDjzeN-t2I",
        "outputId": "d7593209-708d-4da9-de15-2f88b876163f"
      },
      "source": [
        "649/len(all_reviews)"
      ],
      "execution_count": null,
      "outputs": [
        {
          "output_type": "execute_result",
          "data": {
            "text/plain": [
              "0.04997304997304997"
            ]
          },
          "metadata": {
            "tags": []
          },
          "execution_count": 81
        }
      ]
    },
    {
      "cell_type": "code",
      "metadata": {
        "id": "iAiLlnJ3AcX1"
      },
      "source": [
        ""
      ],
      "execution_count": null,
      "outputs": []
    }
  ]
}