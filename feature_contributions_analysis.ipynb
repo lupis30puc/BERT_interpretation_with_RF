{
  "nbformat": 4,
  "nbformat_minor": 0,
  "metadata": {
    "colab": {
      "name": "feature_contributions_analysis.ipynb",
      "provenance": [],
      "collapsed_sections": [
        "Qx--WzAEAMvz"
      ],
      "authorship_tag": "ABX9TyMfA6nDTIcOK0dF6YY1KyAf",
      "include_colab_link": true
    },
    "kernelspec": {
      "name": "python3",
      "display_name": "Python 3"
    }
  },
  "cells": [
    {
      "cell_type": "markdown",
      "metadata": {
        "id": "view-in-github",
        "colab_type": "text"
      },
      "source": [
        "<a href=\"https://colab.research.google.com/github/lupis30puc/BERT_interpretation_with_RF/blob/main/feature_contributions_analysis.ipynb\" target=\"_parent\"><img src=\"https://colab.research.google.com/assets/colab-badge.svg\" alt=\"Open In Colab\"/></a>"
      ]
    },
    {
      "cell_type": "markdown",
      "metadata": {
        "id": "Qx--WzAEAMvz"
      },
      "source": [
        "## Set Up"
      ]
    },
    {
      "cell_type": "code",
      "metadata": {
        "colab": {
          "base_uri": "https://localhost:8080/"
        },
        "id": "3d5Y_yn7_owl",
        "outputId": "e5d07905-2376-4672-cc85-784e81eaab4c"
      },
      "source": [
        "from google.colab import drive\r\n",
        "drive.mount('/content/drive')"
      ],
      "execution_count": null,
      "outputs": [
        {
          "output_type": "stream",
          "text": [
            "Drive already mounted at /content/drive; to attempt to forcibly remount, call drive.mount(\"/content/drive\", force_remount=True).\n"
          ],
          "name": "stdout"
        }
      ]
    },
    {
      "cell_type": "code",
      "metadata": {
        "id": "7Olhw4Uf_qSt"
      },
      "source": [
        "import pandas as pd\r\n",
        "import numpy as np\r\n",
        "import matplotlib.pyplot as plt\r\n",
        "import seaborn as sns\r\n",
        "%matplotlib inline\r\n",
        "import string\r\n",
        "import math\r\n",
        "import random\r\n",
        "\r\n",
        "from sklearn.model_selection import train_test_split, cross_val_score, GridSearchCV\r\n",
        "from sklearn.metrics import classification_report\r\n",
        "from sklearn.metrics import confusion_matrix, accuracy_score, roc_auc_score, roc_curve\r\n",
        "from sklearn.ensemble import RandomForestClassifier\r\n",
        "\r\n",
        "import time\r\n",
        "import pickle\r\n",
        "#from treeinterpreter import treeinterpreter as ti\r\n",
        "import joblib\r\n",
        "#from transformers import BertTokenizer\r\n",
        "import torch"
      ],
      "execution_count": null,
      "outputs": []
    },
    {
      "cell_type": "code",
      "metadata": {
        "id": "FpYcbbcNLxBO"
      },
      "source": [
        "# function so that the graphs look good \n",
        "def set_plotting_style():\n",
        "  tw = 1.5\n",
        "  rc = {'lines.linewidth': 2,\n",
        "              'axes.labelsize': 18,\n",
        "              'axes.titlesize': 21,\n",
        "              'xtick.major' : 16,\n",
        "              'ytick.major' : 16,\n",
        "              'xtick.major.width': tw,\n",
        "              'xtick.minor.width': tw,\n",
        "              'ytick.major.width': tw,\n",
        "              'ytick.minor.width': tw,\n",
        "              'xtick.labelsize': 'large',\n",
        "              'ytick.labelsize': 'large',\n",
        "              'font.family': 'sans',\n",
        "              'weight':'bold',\n",
        "              'grid.linestyle': ':',\n",
        "              'grid.linewidth': 1.5,\n",
        "              'grid.color': '#ffffff',\n",
        "              'mathtext.fontset': 'stixsans',\n",
        "              'mathtext.sf': 'fantasy',\n",
        "              'legend.frameon': True,\n",
        "              'legend.fontsize': 12, \n",
        "            \"xtick.direction\": \"in\",\"ytick.direction\": \"in\"}\n",
        "\n",
        "  plt.rc('text.latex', preamble=r'\\usepackage{sfmath}')\n",
        "  plt.rc('mathtext', fontset='stixsans', sf='sans')\n",
        "  sns.set_style('ticks', rc=rc)\n",
        "  sns.set_context('notebook', rc=rc)\n"
      ],
      "execution_count": null,
      "outputs": []
    },
    {
      "cell_type": "markdown",
      "metadata": {
        "id": "4lAJ1WldAJai"
      },
      "source": [
        "## Initializing the RF model and the x and y values"
      ]
    },
    {
      "cell_type": "code",
      "metadata": {
        "id": "7lE3CO56APFx"
      },
      "source": [
        "y_train = torch.load('/content/drive/MyDrive/Yelp/model_128_/pred_labels_train')\r\n",
        "y_test = torch.load('/content/drive/MyDrive/Yelp/model_128_/pred_labels_test')"
      ],
      "execution_count": null,
      "outputs": []
    },
    {
      "cell_type": "code",
      "metadata": {
        "colab": {
          "base_uri": "https://localhost:8080/",
          "height": 111
        },
        "id": "JE00ipMQK2D6",
        "outputId": "ce99b538-e2dd-43b6-a0b6-4068f26aadf0"
      },
      "source": [
        "train_df = pd.read_pickle('/content/drive/MyDrive/Yelp/sample_train_10394.pkl')\n",
        "test_df = pd.read_pickle('/content/drive/MyDrive/Yelp/sample_test_2599.pkl')\n",
        "\n",
        "train_df.head(2)"
      ],
      "execution_count": null,
      "outputs": [
        {
          "output_type": "execute_result",
          "data": {
            "text/html": [
              "<div>\n",
              "<style scoped>\n",
              "    .dataframe tbody tr th:only-of-type {\n",
              "        vertical-align: middle;\n",
              "    }\n",
              "\n",
              "    .dataframe tbody tr th {\n",
              "        vertical-align: top;\n",
              "    }\n",
              "\n",
              "    .dataframe thead th {\n",
              "        text-align: right;\n",
              "    }\n",
              "</style>\n",
              "<table border=\"1\" class=\"dataframe\">\n",
              "  <thead>\n",
              "    <tr style=\"text-align: right;\">\n",
              "      <th></th>\n",
              "      <th>text</th>\n",
              "      <th>label</th>\n",
              "      <th>clean_text</th>\n",
              "      <th>category</th>\n",
              "      <th>length</th>\n",
              "    </tr>\n",
              "  </thead>\n",
              "  <tbody>\n",
              "    <tr>\n",
              "      <th>11349</th>\n",
              "      <td>Second best pool in Las Vegas!  Pay the $20, c...</td>\n",
              "      <td>1</td>\n",
              "      <td>second best pool las vegas pay commit day drin...</td>\n",
              "      <td>Hotel Industry</td>\n",
              "      <td>33</td>\n",
              "    </tr>\n",
              "    <tr>\n",
              "      <th>12582</th>\n",
              "      <td>We went there on a Tuesday night in Jan. 2010....</td>\n",
              "      <td>0</td>\n",
              "      <td>went tuesday night jan weather nice course dec...</td>\n",
              "      <td>Restaurant Industry</td>\n",
              "      <td>56</td>\n",
              "    </tr>\n",
              "  </tbody>\n",
              "</table>\n",
              "</div>"
            ],
            "text/plain": [
              "                                                    text  ...  length\n",
              "11349  Second best pool in Las Vegas!  Pay the $20, c...  ...      33\n",
              "12582  We went there on a Tuesday night in Jan. 2010....  ...      56\n",
              "\n",
              "[2 rows x 5 columns]"
            ]
          },
          "metadata": {
            "tags": []
          },
          "execution_count": 40
        }
      ]
    },
    {
      "cell_type": "code",
      "metadata": {
        "id": "cJu-RP2l3foR",
        "colab": {
          "base_uri": "https://localhost:8080/"
        },
        "outputId": "85fbe8c4-1e89-4143-824e-90b427babc70"
      },
      "source": [
        "#unify the y values\n",
        "train_pred = dict(zip(list(train_df.index), y_train))\n",
        "test_pred = dict(zip(list(test_df.index), y_test))\n",
        "y_all = train_pred.copy()\n",
        "y_all.update(test_pred)\n",
        "len(y_all.keys())"
      ],
      "execution_count": null,
      "outputs": [
        {
          "output_type": "execute_result",
          "data": {
            "text/plain": [
              "12993"
            ]
          },
          "metadata": {
            "tags": []
          },
          "execution_count": 41
        }
      ]
    },
    {
      "cell_type": "code",
      "metadata": {
        "colab": {
          "base_uri": "https://localhost:8080/"
        },
        "id": "wShAgiLtLb8o",
        "outputId": "e59fbc54-23ea-4a1e-a74e-a3e04e13c01b"
      },
      "source": [
        "y_all = {key: val for key, val in sorted(y_all.items(), key = lambda ele: ele[0])} \n",
        "list(y_all.keys())[:5]"
      ],
      "execution_count": null,
      "outputs": [
        {
          "output_type": "execute_result",
          "data": {
            "text/plain": [
              "[0, 1, 2, 3, 4]"
            ]
          },
          "metadata": {
            "tags": []
          },
          "execution_count": 42
        }
      ]
    },
    {
      "cell_type": "markdown",
      "metadata": {
        "id": "AIhP3doGvtQU"
      },
      "source": [
        "## Loading all reviews, contributions, feature importances and ids"
      ]
    },
    {
      "cell_type": "code",
      "metadata": {
        "id": "uortuBX0QYEn"
      },
      "source": [
        "ft_imp = pd.read_pickle('/content/drive/MyDrive/Yelp/random_forest/importance_df.pkl')"
      ],
      "execution_count": null,
      "outputs": []
    },
    {
      "cell_type": "code",
      "metadata": {
        "id": "z0DDkG-EP4n3",
        "colab": {
          "base_uri": "https://localhost:8080/"
        },
        "outputId": "617c8e53-67c6-4c7d-8005-d0ec8d18c4f7"
      },
      "source": [
        "all_ids = pickle.load(open('/content/drive/MyDrive/Yelp/random_forest/all_ids.pkl', 'rb'))\n",
        "len(all_ids)"
      ],
      "execution_count": null,
      "outputs": [
        {
          "output_type": "execute_result",
          "data": {
            "text/plain": [
              "12993"
            ]
          },
          "metadata": {
            "tags": []
          },
          "execution_count": 45
        }
      ]
    },
    {
      "cell_type": "code",
      "metadata": {
        "colab": {
          "base_uri": "https://localhost:8080/"
        },
        "id": "7Ap9TAXGPaHE",
        "outputId": "e0fe3326-8a5d-452b-fffd-77d9d22d33bf"
      },
      "source": [
        "all_contribs = pickle.load(open('/content/drive/MyDrive/Yelp/random_forest/all_contribs.pkl', 'rb'))\n",
        "len(all_contribs)"
      ],
      "execution_count": null,
      "outputs": [
        {
          "output_type": "execute_result",
          "data": {
            "text/plain": [
              "12993"
            ]
          },
          "metadata": {
            "tags": []
          },
          "execution_count": 46
        }
      ]
    },
    {
      "cell_type": "code",
      "metadata": {
        "colab": {
          "base_uri": "https://localhost:8080/",
          "height": 97
        },
        "id": "tiKHRCtPDFEP",
        "outputId": "9603ed42-17b6-45df-cc28-77315627f060"
      },
      "source": [
        "all_reviews = pd.read_pickle('/content/drive/MyDrive/Yelp/sample_categories.pkl')\n",
        "all_reviews.head(1)"
      ],
      "execution_count": null,
      "outputs": [
        {
          "output_type": "execute_result",
          "data": {
            "text/html": [
              "<div>\n",
              "<style scoped>\n",
              "    .dataframe tbody tr th:only-of-type {\n",
              "        vertical-align: middle;\n",
              "    }\n",
              "\n",
              "    .dataframe tbody tr th {\n",
              "        vertical-align: top;\n",
              "    }\n",
              "\n",
              "    .dataframe thead th {\n",
              "        text-align: right;\n",
              "    }\n",
              "</style>\n",
              "<table border=\"1\" class=\"dataframe\">\n",
              "  <thead>\n",
              "    <tr style=\"text-align: right;\">\n",
              "      <th></th>\n",
              "      <th>text</th>\n",
              "      <th>label</th>\n",
              "      <th>categories</th>\n",
              "      <th>clean_text</th>\n",
              "      <th>category</th>\n",
              "      <th>length</th>\n",
              "    </tr>\n",
              "  </thead>\n",
              "  <tbody>\n",
              "    <tr>\n",
              "      <th>0</th>\n",
              "      <td>This actually used to be one of my favorite ho...</td>\n",
              "      <td>0</td>\n",
              "      <td>Casinos, Nightlife, Restaurants, Hotels &amp; Trav...</td>\n",
              "      <td>actually favorite hotel casinos day things cha...</td>\n",
              "      <td>Hotel Industry</td>\n",
              "      <td>265</td>\n",
              "    </tr>\n",
              "  </tbody>\n",
              "</table>\n",
              "</div>"
            ],
            "text/plain": [
              "                                                text  ...  length\n",
              "0  This actually used to be one of my favorite ho...  ...     265\n",
              "\n",
              "[1 rows x 6 columns]"
            ]
          },
          "metadata": {
            "tags": []
          },
          "execution_count": 47
        }
      ]
    },
    {
      "cell_type": "markdown",
      "metadata": {
        "id": "UxX2897oxpOA"
      },
      "source": [
        "## Loading subsamples for analysis and getting random reviews from them"
      ]
    },
    {
      "cell_type": "code",
      "metadata": {
        "id": "xLnY-2QQgJOf"
      },
      "source": [
        "restaurant = pd.read_pickle('/content/drive/MyDrive/Yelp/features_analysis/restaurant_5perc.pkl')\n",
        "beauty = pd.read_pickle('/content/drive/MyDrive/Yelp/features_analysis/beauty_5perc.pkl')\n",
        "other = pd.read_pickle('/content/drive/MyDrive/Yelp/features_analysis/other_5perc.pkl')\n",
        "hotel = pd.read_pickle('/content/drive/MyDrive/Yelp/features_analysis/hotel_5perc.pkl')\n",
        "service = pd.read_pickle('/content/drive/MyDrive/Yelp/features_analysis/service_5perc.pkl')\n",
        "q_100 = pd.read_pickle('/content/drive/MyDrive/Yelp/features_analysis/quantile_100_5perc.pkl')\n",
        "q_75 = pd.read_pickle('/content/drive/MyDrive/Yelp/features_analysis/quantile_75_5perc.pkl')\n",
        "q_50 = pd.read_pickle('/content/drive/MyDrive/Yelp/features_analysis/quantile_50_5perc.pkl')\n",
        "q_25 = pd.read_pickle('/content/drive/MyDrive/Yelp/features_analysis/quantile_25_5perc.pkl')"
      ],
      "execution_count": null,
      "outputs": []
    },
    {
      "cell_type": "code",
      "metadata": {
        "colab": {
          "base_uri": "https://localhost:8080/"
        },
        "id": "eQ-pmYn9iTgV",
        "outputId": "b5508235-5d00-4ced-a97f-e0ec41d3df65"
      },
      "source": [
        "print(len(restaurant), len(beauty), len(other), len(hotel))\n",
        "print(len(q_100), len(q_75), len(q_50), len(q_25))"
      ],
      "execution_count": null,
      "outputs": [
        {
          "output_type": "stream",
          "text": [
            "459 35 72 36\n",
            "168 153 156 172\n"
          ],
          "name": "stdout"
        }
      ]
    },
    {
      "cell_type": "code",
      "metadata": {
        "colab": {
          "base_uri": "https://localhost:8080/"
        },
        "id": "NXelNs-djQjx",
        "outputId": "8368a093-1340-43dd-aad5-7e5af19f94bb"
      },
      "source": [
        "q_100.category.value_counts()"
      ],
      "execution_count": null,
      "outputs": [
        {
          "output_type": "execute_result",
          "data": {
            "text/plain": [
              "Restaurant Industry    111\n",
              "Other Industries        23\n",
              "Hotel Industry          13\n",
              "Service Industry        11\n",
              "Beauty Industry         10\n",
              "Name: category, dtype: int64"
            ]
          },
          "metadata": {
            "tags": []
          },
          "execution_count": 13
        }
      ]
    },
    {
      "cell_type": "code",
      "metadata": {
        "colab": {
          "base_uri": "https://localhost:8080/"
        },
        "id": "5LftMqrVjhCK",
        "outputId": "76c855bf-3e95-4d63-fae7-de165583681f"
      },
      "source": [
        "q_75.category.value_counts()"
      ],
      "execution_count": null,
      "outputs": [
        {
          "output_type": "execute_result",
          "data": {
            "text/plain": [
              "Restaurant Industry    105\n",
              "Other Industries        20\n",
              "Service Industry        11\n",
              "Hotel Industry          10\n",
              "Beauty Industry          7\n",
              "Name: category, dtype: int64"
            ]
          },
          "metadata": {
            "tags": []
          },
          "execution_count": 14
        }
      ]
    },
    {
      "cell_type": "code",
      "metadata": {
        "colab": {
          "base_uri": "https://localhost:8080/"
        },
        "id": "MfMoBvAdjk-H",
        "outputId": "28949132-e2f9-4a61-d133-c74324d9041e"
      },
      "source": [
        "q_50.category.value_counts()"
      ],
      "execution_count": null,
      "outputs": [
        {
          "output_type": "execute_result",
          "data": {
            "text/plain": [
              "Restaurant Industry    116\n",
              "Service Industry        12\n",
              "Other Industries        11\n",
              "Beauty Industry          9\n",
              "Hotel Industry           8\n",
              "Name: category, dtype: int64"
            ]
          },
          "metadata": {
            "tags": []
          },
          "execution_count": 15
        }
      ]
    },
    {
      "cell_type": "code",
      "metadata": {
        "colab": {
          "base_uri": "https://localhost:8080/"
        },
        "id": "Ng-EtKYZjnb2",
        "outputId": "f6611f04-39c1-4796-c56c-204e72a254eb"
      },
      "source": [
        "q_25.category.value_counts()"
      ],
      "execution_count": null,
      "outputs": [
        {
          "output_type": "execute_result",
          "data": {
            "text/plain": [
              "Restaurant Industry    127\n",
              "Other Industries        18\n",
              "Service Industry        13\n",
              "Beauty Industry          9\n",
              "Hotel Industry           5\n",
              "Name: category, dtype: int64"
            ]
          },
          "metadata": {
            "tags": []
          },
          "execution_count": 16
        }
      ]
    },
    {
      "cell_type": "markdown",
      "metadata": {
        "id": "yek-KIdxlZ61"
      },
      "source": [
        "Since I want to analyze the reviews per length and category, and there is at least 5 reviews present in all the length groups I'll take 5 reviews to analyze per length segment."
      ]
    },
    {
      "cell_type": "code",
      "metadata": {
        "colab": {
          "base_uri": "https://localhost:8080/",
          "height": 35
        },
        "id": "Z8hTuZY6JuYD",
        "outputId": "e4ed79f3-aabf-4e1b-e075-2f9159576ac3"
      },
      "source": [
        "cats[4]"
      ],
      "execution_count": null,
      "outputs": [
        {
          "output_type": "execute_result",
          "data": {
            "application/vnd.google.colaboratory.intrinsic+json": {
              "type": "string"
            },
            "text/plain": [
              "'Beauty Industry'"
            ]
          },
          "metadata": {
            "tags": []
          },
          "execution_count": 25
        }
      ]
    },
    {
      "cell_type": "code",
      "metadata": {
        "colab": {
          "base_uri": "https://localhost:8080/"
        },
        "id": "YkysNHEWoOZY",
        "outputId": "6090feb5-720d-4b02-f25c-414a9157ab54"
      },
      "source": [
        "# obtaining random reviews to analyze\n",
        "cats = ['Restaurant Industry',\n",
        " 'Other Industries',\n",
        " 'Beauty Industry',\n",
        " 'Hotel Industry', \n",
        " 'Service Industry']\n",
        "\n",
        "samples = [q_100, q_75, q_50, q_25]\n",
        "\n",
        "rand_rev = []\n",
        "\n",
        "for n in range(4):\n",
        "  for c in range(5):\n",
        "    random_sample = random.choice(samples[n][samples[n].category == cats[c]].index) #obtaining a random review\n",
        "    rand_rev.append(random_sample)\n",
        "    print('Ready: ' + str(n) + ' ' + cats[c])"
      ],
      "execution_count": null,
      "outputs": [
        {
          "output_type": "stream",
          "text": [
            "Ready: 0 Restaurant Industry\n",
            "Ready: 0 Other Industries\n",
            "Ready: 0 Beauty Industry\n",
            "Ready: 0 Hotel Industry\n",
            "Ready: 0 Service Industry\n",
            "Ready: 1 Restaurant Industry\n",
            "Ready: 1 Other Industries\n",
            "Ready: 1 Beauty Industry\n",
            "Ready: 1 Hotel Industry\n",
            "Ready: 1 Service Industry\n",
            "Ready: 2 Restaurant Industry\n",
            "Ready: 2 Other Industries\n",
            "Ready: 2 Beauty Industry\n",
            "Ready: 2 Hotel Industry\n",
            "Ready: 2 Service Industry\n",
            "Ready: 3 Restaurant Industry\n",
            "Ready: 3 Other Industries\n",
            "Ready: 3 Beauty Industry\n",
            "Ready: 3 Hotel Industry\n",
            "Ready: 3 Service Industry\n"
          ],
          "name": "stdout"
        }
      ]
    },
    {
      "cell_type": "code",
      "metadata": {
        "id": "MSqEi3ETQwmA"
      },
      "source": [
        "special_q50 = q_50[q_50.label==1]"
      ],
      "execution_count": null,
      "outputs": []
    },
    {
      "cell_type": "code",
      "metadata": {
        "colab": {
          "base_uri": "https://localhost:8080/"
        },
        "id": "lZ4flypWSMzp",
        "outputId": "bc3640b9-e7f1-4fbd-f682-bdba3f2a8f1c"
      },
      "source": [
        "random.choice(special_q50[special_q50.category == 'Beauty Industry'].index)"
      ],
      "execution_count": null,
      "outputs": [
        {
          "output_type": "execute_result",
          "data": {
            "text/plain": [
              "7279"
            ]
          },
          "metadata": {
            "tags": []
          },
          "execution_count": 149
        }
      ]
    },
    {
      "cell_type": "code",
      "metadata": {
        "colab": {
          "base_uri": "https://localhost:8080/"
        },
        "id": "fLHo6U2-Qi9n",
        "outputId": "a59a3b4b-db15-4c7a-c33b-d2d7bb4585d6"
      },
      "source": [
        "special = []\n",
        "for c in range(5):\n",
        "    random_sample = random.choice(special_q50[special_q50.category == cats[c]].index) #obtaining a random review\n",
        "    special.append(random_sample)\n",
        "    print('Ready: ' + ' ' + cats[c])"
      ],
      "execution_count": null,
      "outputs": [
        {
          "output_type": "stream",
          "text": [
            "Ready:  Restaurant Industry\n",
            "Ready:  Other Industries\n",
            "Ready:  Beauty Industry\n",
            "Ready:  Hotel Industry\n",
            "Ready:  Service Industry\n"
          ],
          "name": "stdout"
        }
      ]
    },
    {
      "cell_type": "code",
      "metadata": {
        "colab": {
          "base_uri": "https://localhost:8080/"
        },
        "id": "L9prckBEQwcj",
        "outputId": "d3928f41-ff7a-4448-b890-2a4fadc16e99"
      },
      "source": [
        "special_q50['label'][special[1]]"
      ],
      "execution_count": null,
      "outputs": [
        {
          "output_type": "execute_result",
          "data": {
            "text/plain": [
              "1.0"
            ]
          },
          "metadata": {
            "tags": []
          },
          "execution_count": 157
        }
      ]
    },
    {
      "cell_type": "code",
      "metadata": {
        "id": "3jY7V2axrgQp"
      },
      "source": [
        "rand_rev2 = rand_rev.copy()\n",
        "#rand_rev1 = rand_rev.copy()"
      ],
      "execution_count": null,
      "outputs": []
    },
    {
      "cell_type": "code",
      "metadata": {
        "colab": {
          "base_uri": "https://localhost:8080/"
        },
        "id": "YG6lAO3jXC3m",
        "outputId": "8896d548-0835-429d-e976-2af7ec2b35a7"
      },
      "source": [
        "special_q75 = q_75[q_75.label==1]\n",
        "special_random = random.choice(special_q75[special_q75.category == 'Restaurant Industry'].index) #obtaining a random review\n",
        "special_random"
      ],
      "execution_count": null,
      "outputs": [
        {
          "output_type": "execute_result",
          "data": {
            "text/plain": [
              "8749"
            ]
          },
          "metadata": {
            "tags": []
          },
          "execution_count": 174
        }
      ]
    },
    {
      "cell_type": "markdown",
      "metadata": {
        "id": "7AaADCZZ9A4I"
      },
      "source": [
        "## Analyzing with contributions"
      ]
    },
    {
      "cell_type": "code",
      "metadata": {
        "id": "ZeIF5Okg8wbG"
      },
      "source": [
        "#this function is based on the one appearing on https://coderzcolumn.com/tutorials/machine-learning/treeinterpreter-interpreting-tree-based-models-prediction-of-individual-sample\n",
        "def create_contrbutions_df(contributions, review, features_df, input_ids):\n",
        "  #extracting only the relevant ids index. the ones that the observed review has\n",
        "  review_ids = list(features_df[features_df['ids'].isin(input_ids[review])].index) \n",
        "\n",
        "  #creating a dictionary of the contributions for the specific id on the observed review\n",
        "  contribs = {}\n",
        "  for i in review_ids:\n",
        "    c = contributions[review][i] \n",
        "    feature = features_df['words'][i] \n",
        "    contribs[feature] = list(c)\n",
        "  \n",
        "  # creating a dataframe out of it \n",
        "  contrib_df = pd.DataFrame(data=contribs.values(), index = contribs.keys(), columns=[\"negative\", \"positive\"])\n",
        "  # inserting the predicted label at the end\n",
        "  prediction = contrib_df[[\"negative\", \"positive\"]].sum()\n",
        "  contrib_df.loc[\"PREDICTION\"] = np.argmax(prediction)\n",
        "  return contrib_df"
      ],
      "execution_count": null,
      "outputs": []
    },
    {
      "cell_type": "markdown",
      "metadata": {
        "id": "Y8W6t_dTuVY3"
      },
      "source": [
        "first rev"
      ]
    },
    {
      "cell_type": "code",
      "metadata": {
        "colab": {
          "base_uri": "https://localhost:8080/"
        },
        "id": "uM3rIyTslS0D",
        "outputId": "26708e74-6850-49ac-942e-05cf80559bb9"
      },
      "source": [
        "r8035_df = create_contrbutions_df(all_contribs, 8035, ft_imp, all_ids)\n",
        "print(\"Selected Sample     : %d\"%8035)\n",
        "print(\"Original Value : %s\"%all_reviews.label[8035])\n",
        "print(\"BERT predicted Value : %s\"%y_all[8035]) #actual target value since RF mimics BERT results...\n",
        "print(\"RF predicted Value     : %s\"%r8035_df.positive['PREDICTION'])\n",
        "  #print(\"Predicted Value     : %s\"%np.argmax(preds_400[random_sample]))"
      ],
      "execution_count": null,
      "outputs": [
        {
          "output_type": "stream",
          "text": [
            "Selected Sample     : 8035\n",
            "Original Value : 0\n",
            "BERT predicted Value : 0\n",
            "RF predicted Value     : 0.0\n"
          ],
          "name": "stdout"
        }
      ]
    },
    {
      "cell_type": "code",
      "metadata": {
        "colab": {
          "base_uri": "https://localhost:8080/",
          "height": 111
        },
        "id": "j-X6wmuwMPYW",
        "outputId": "60040ed7-39c6-428e-f5ad-2e7ff2bc0386"
      },
      "source": [
        "#relevant-top positive features\n",
        "r8035_df[r8035_df['positive'] > 0.01].sort_values(by=['positive'], ascending=False)"
      ],
      "execution_count": null,
      "outputs": [
        {
          "output_type": "execute_result",
          "data": {
            "text/html": [
              "<div>\n",
              "<style scoped>\n",
              "    .dataframe tbody tr th:only-of-type {\n",
              "        vertical-align: middle;\n",
              "    }\n",
              "\n",
              "    .dataframe tbody tr th {\n",
              "        vertical-align: top;\n",
              "    }\n",
              "\n",
              "    .dataframe thead th {\n",
              "        text-align: right;\n",
              "    }\n",
              "</style>\n",
              "<table border=\"1\" class=\"dataframe\">\n",
              "  <thead>\n",
              "    <tr style=\"text-align: right;\">\n",
              "      <th></th>\n",
              "      <th>negative</th>\n",
              "      <th>positive</th>\n",
              "    </tr>\n",
              "  </thead>\n",
              "  <tbody>\n",
              "    <tr>\n",
              "      <th>sweet</th>\n",
              "      <td>-0.015289</td>\n",
              "      <td>0.015289</td>\n",
              "    </tr>\n",
              "    <tr>\n",
              "      <th>try</th>\n",
              "      <td>-0.011467</td>\n",
              "      <td>0.011467</td>\n",
              "    </tr>\n",
              "  </tbody>\n",
              "</table>\n",
              "</div>"
            ],
            "text/plain": [
              "       negative  positive\n",
              "sweet -0.015289  0.015289\n",
              "try   -0.011467  0.011467"
            ]
          },
          "metadata": {
            "tags": []
          },
          "execution_count": 168
        }
      ]
    },
    {
      "cell_type": "code",
      "metadata": {
        "colab": {
          "base_uri": "https://localhost:8080/",
          "height": 235
        },
        "id": "3kHn1ml1MPYY",
        "outputId": "90b82915-3efa-40de-e9e8-8e300fe3e94a"
      },
      "source": [
        "#relevant/top negative\n",
        "r8035_df[r8035_df['negative'] > 0.01].sort_values(by=['negative'], ascending=False)"
      ],
      "execution_count": null,
      "outputs": [
        {
          "output_type": "execute_result",
          "data": {
            "text/html": [
              "<div>\n",
              "<style scoped>\n",
              "    .dataframe tbody tr th:only-of-type {\n",
              "        vertical-align: middle;\n",
              "    }\n",
              "\n",
              "    .dataframe tbody tr th {\n",
              "        vertical-align: top;\n",
              "    }\n",
              "\n",
              "    .dataframe thead th {\n",
              "        text-align: right;\n",
              "    }\n",
              "</style>\n",
              "<table border=\"1\" class=\"dataframe\">\n",
              "  <thead>\n",
              "    <tr style=\"text-align: right;\">\n",
              "      <th></th>\n",
              "      <th>negative</th>\n",
              "      <th>positive</th>\n",
              "    </tr>\n",
              "  </thead>\n",
              "  <tbody>\n",
              "    <tr>\n",
              "      <th>said</th>\n",
              "      <td>0.078484</td>\n",
              "      <td>-0.078484</td>\n",
              "    </tr>\n",
              "    <tr>\n",
              "      <th>apparently</th>\n",
              "      <td>0.033612</td>\n",
              "      <td>-0.033612</td>\n",
              "    </tr>\n",
              "    <tr>\n",
              "      <th>order</th>\n",
              "      <td>0.026757</td>\n",
              "      <td>-0.026757</td>\n",
              "    </tr>\n",
              "    <tr>\n",
              "      <th>line</th>\n",
              "      <td>0.020557</td>\n",
              "      <td>-0.020557</td>\n",
              "    </tr>\n",
              "    <tr>\n",
              "      <th>working</th>\n",
              "      <td>0.013323</td>\n",
              "      <td>-0.013323</td>\n",
              "    </tr>\n",
              "    <tr>\n",
              "      <th>water</th>\n",
              "      <td>0.010053</td>\n",
              "      <td>-0.010053</td>\n",
              "    </tr>\n",
              "  </tbody>\n",
              "</table>\n",
              "</div>"
            ],
            "text/plain": [
              "            negative  positive\n",
              "said        0.078484 -0.078484\n",
              "apparently  0.033612 -0.033612\n",
              "order       0.026757 -0.026757\n",
              "line        0.020557 -0.020557\n",
              "working     0.013323 -0.013323\n",
              "water       0.010053 -0.010053"
            ]
          },
          "metadata": {
            "tags": []
          },
          "execution_count": 169
        }
      ]
    },
    {
      "cell_type": "code",
      "metadata": {
        "colab": {
          "base_uri": "https://localhost:8080/",
          "height": 80
        },
        "id": "fLkoT6JdxDAY",
        "outputId": "ef56f994-8032-4c09-88a8-2a3ed54d48e8"
      },
      "source": [
        "all_reviews[all_reviews.index == 12683]"
      ],
      "execution_count": null,
      "outputs": [
        {
          "output_type": "execute_result",
          "data": {
            "text/html": [
              "<div>\n",
              "<style scoped>\n",
              "    .dataframe tbody tr th:only-of-type {\n",
              "        vertical-align: middle;\n",
              "    }\n",
              "\n",
              "    .dataframe tbody tr th {\n",
              "        vertical-align: top;\n",
              "    }\n",
              "\n",
              "    .dataframe thead th {\n",
              "        text-align: right;\n",
              "    }\n",
              "</style>\n",
              "<table border=\"1\" class=\"dataframe\">\n",
              "  <thead>\n",
              "    <tr style=\"text-align: right;\">\n",
              "      <th></th>\n",
              "      <th>text</th>\n",
              "      <th>label</th>\n",
              "      <th>categories</th>\n",
              "      <th>clean_text</th>\n",
              "      <th>category</th>\n",
              "      <th>length</th>\n",
              "    </tr>\n",
              "  </thead>\n",
              "  <tbody>\n",
              "    <tr>\n",
              "      <th>12683</th>\n",
              "      <td>One of my favourite places to go to for Korean...</td>\n",
              "      <td>1</td>\n",
              "      <td>Korean, Restaurants</td>\n",
              "      <td>favourite places korean food usually sunday lu...</td>\n",
              "      <td>Restaurant Industry</td>\n",
              "      <td>136</td>\n",
              "    </tr>\n",
              "  </tbody>\n",
              "</table>\n",
              "</div>"
            ],
            "text/plain": [
              "                                                    text  ...  length\n",
              "12683  One of my favourite places to go to for Korean...  ...     136\n",
              "\n",
              "[1 rows x 6 columns]"
            ]
          },
          "metadata": {
            "tags": []
          },
          "execution_count": 42
        }
      ]
    },
    {
      "cell_type": "code",
      "metadata": {
        "colab": {
          "base_uri": "https://localhost:8080/",
          "height": 97
        },
        "id": "cxYT6TOgM1C8",
        "outputId": "9e7949fb-ba89-4de2-fec5-0722dbe5f3cd"
      },
      "source": [
        "all_reviews[all_reviews.index == rand_rev1[1]]"
      ],
      "execution_count": null,
      "outputs": [
        {
          "output_type": "execute_result",
          "data": {
            "text/html": [
              "<div>\n",
              "<style scoped>\n",
              "    .dataframe tbody tr th:only-of-type {\n",
              "        vertical-align: middle;\n",
              "    }\n",
              "\n",
              "    .dataframe tbody tr th {\n",
              "        vertical-align: top;\n",
              "    }\n",
              "\n",
              "    .dataframe thead th {\n",
              "        text-align: right;\n",
              "    }\n",
              "</style>\n",
              "<table border=\"1\" class=\"dataframe\">\n",
              "  <thead>\n",
              "    <tr style=\"text-align: right;\">\n",
              "      <th></th>\n",
              "      <th>text</th>\n",
              "      <th>label</th>\n",
              "      <th>categories</th>\n",
              "      <th>clean_text</th>\n",
              "      <th>category</th>\n",
              "      <th>length</th>\n",
              "    </tr>\n",
              "  </thead>\n",
              "  <tbody>\n",
              "    <tr>\n",
              "      <th>9520</th>\n",
              "      <td>The CRG was sold within the last few years, an...</td>\n",
              "      <td>1</td>\n",
              "      <td>Fitness &amp; Instruction, Climbing, Active Life, ...</td>\n",
              "      <td>crg sold years new owners making modifications...</td>\n",
              "      <td>Other Industries</td>\n",
              "      <td>69</td>\n",
              "    </tr>\n",
              "  </tbody>\n",
              "</table>\n",
              "</div>"
            ],
            "text/plain": [
              "                                                   text  ...  length\n",
              "9520  The CRG was sold within the last few years, an...  ...      69\n",
              "\n",
              "[1 rows x 6 columns]"
            ]
          },
          "metadata": {
            "tags": []
          },
          "execution_count": 43
        }
      ]
    },
    {
      "cell_type": "markdown",
      "metadata": {
        "id": "R4NMFl9b2TgD"
      },
      "source": [
        "## Function to analyze in dataframe everything!"
      ]
    },
    {
      "cell_type": "code",
      "metadata": {
        "colab": {
          "base_uri": "https://localhost:8080/"
        },
        "id": "zowqdZyuN1J4",
        "outputId": "00d7808a-64b4-49ef-b296-cd8f174fc637"
      },
      "source": [
        "rand_rev2"
      ],
      "execution_count": null,
      "outputs": [
        {
          "output_type": "execute_result",
          "data": {
            "text/plain": [
              "[11020,\n",
              " 3954,\n",
              " 7737,\n",
              " 5468,\n",
              " 1404,\n",
              " 11251,\n",
              " 555,\n",
              " 6274,\n",
              " 4281,\n",
              " 5833,\n",
              " 5231,\n",
              " 3825,\n",
              " 5601,\n",
              " 1158,\n",
              " 5013,\n",
              " 855,\n",
              " 11952,\n",
              " 9048,\n",
              " 5285,\n",
              " 4210]"
            ]
          },
          "metadata": {
            "tags": []
          },
          "execution_count": 51
        }
      ]
    },
    {
      "cell_type": "code",
      "metadata": {
        "id": "LFajdkGWi1vd"
      },
      "source": [
        "#exam_rev = [5468,5757,952,7968,903,2372,11656,11459,8050,12586,639,9965,4660,10144,12196,7619]\n",
        "#exam_rev2 = [10717, 312, 3261, 1979, 8018, 1165, 12669, 10933, 1841, 11055, 12468, 8090, 7745, 5285, 1400]\n",
        "rand_rev1 = [12683,\n",
        " 9520,\n",
        " 7850,\n",
        " 1135,\n",
        " 10871,\n",
        " 11251,\n",
        " 8957,\n",
        " 11900,\n",
        " 2751,\n",
        " 5813,\n",
        " 8183,\n",
        " 6003,\n",
        " 2896,\n",
        " 8050,\n",
        " 1816,\n",
        " 3207,\n",
        " 6829,\n",
        " 6853,\n",
        " 5076,\n",
        " 4580]\n",
        "\n",
        "rand_rev2=[11020,\n",
        " 3954,\n",
        " 7737,\n",
        " 5468,\n",
        " 1404,\n",
        " 11251,\n",
        " 555,\n",
        " 6274,\n",
        " 4281,\n",
        " 5833,\n",
        " 5231,\n",
        " 3825,\n",
        " 5601,\n",
        " 1158,\n",
        " 5013,\n",
        " 855,\n",
        " 11952,\n",
        " 9048,\n",
        " 5285,\n",
        " 4210]"
      ],
      "execution_count": null,
      "outputs": []
    },
    {
      "cell_type": "code",
      "metadata": {
        "colab": {
          "base_uri": "https://localhost:8080/"
        },
        "id": "5BVTVH8LjRX_",
        "outputId": "82243145-d017-4aff-ca31-47ccb2eb8e73"
      },
      "source": [
        "len(rand_rev2) # 4 per category, there are 5 categories. 4 because there are 4 length segments"
      ],
      "execution_count": null,
      "outputs": [
        {
          "output_type": "execute_result",
          "data": {
            "text/plain": [
              "20"
            ]
          },
          "metadata": {
            "tags": []
          },
          "execution_count": 52
        }
      ]
    },
    {
      "cell_type": "code",
      "metadata": {
        "id": "fEpNVUPR5NmH"
      },
      "source": [
        "all_reviews['bert_pred'] = list(y_all.values())"
      ],
      "execution_count": null,
      "outputs": []
    },
    {
      "cell_type": "code",
      "metadata": {
        "id": "Fjlr5WRB-oMH"
      },
      "source": [
        "analyzed_rev = all_reviews[all_reviews.index.isin(rand_rev2)]\n",
        "analyzed_rev['positive_c'] = ''\n",
        "analyzed_rev['negative_c'] = ''\n",
        "analyzed_rev['rf_pred'] = ''"
      ],
      "execution_count": null,
      "outputs": []
    },
    {
      "cell_type": "code",
      "metadata": {
        "colab": {
          "base_uri": "https://localhost:8080/"
        },
        "id": "3T1vZxxj_PL1",
        "outputId": "c2aadf58-4aed-4d73-911d-fbd4543a323d"
      },
      "source": [
        "analyzed_rev.columns"
      ],
      "execution_count": null,
      "outputs": [
        {
          "output_type": "execute_result",
          "data": {
            "text/plain": [
              "Index(['text', 'label', 'categories', 'clean_text', 'category', 'length',\n",
              "       'bert_pred', 'positive_c', 'negative_c', 'rf_pred'],\n",
              "      dtype='object')"
            ]
          },
          "metadata": {
            "tags": []
          },
          "execution_count": 55
        }
      ]
    },
    {
      "cell_type": "code",
      "metadata": {
        "id": "ocMBGmzd5MXo"
      },
      "source": [
        "def add_contributions(analysis_df, contributions, review, features_df, input_ids):\n",
        "  \n",
        "  #extracting only the relevant ids index. the ones that the observed review has \n",
        "  r_c = create_contrbutions_df(contributions, review, features_df, input_ids)\n",
        "  pos = r_c[r_c['positive'] > 0].sort_values(by=['positive'], ascending=False)\n",
        "  pos_dict = { i : pos.positive[i] for i in pos.index}\n",
        "  try:\n",
        "    del pos_dict['PREDICTION']\n",
        "  except KeyError:\n",
        "    pass\n",
        "\n",
        "  neg = r_c[r_c['negative'] > 0].sort_values(by=['negative'], ascending=False)\n",
        "  neg_dict = { i : neg.negative[i] for i in neg.index}\n",
        "  try:\n",
        "    del neg_dict['PREDICTION']\n",
        "  except KeyError:\n",
        "    pass\n",
        "\n",
        "  # creating a dataframe out of the observed review:\n",
        "  analysis_df['positive_c'][review] = pos_dict\n",
        "  analysis_df['negative_c'][review] = neg_dict\n",
        "  analysis_df['rf_pred'][review] = r_c.loc[\"PREDICTION\"][0]\n"
      ],
      "execution_count": null,
      "outputs": []
    },
    {
      "cell_type": "code",
      "metadata": {
        "id": "_bnj35rI_j0X"
      },
      "source": [
        "for r in rand_rev2:\n",
        "  add_contributions(analyzed_rev, all_contribs, r, ft_imp, all_ids)"
      ],
      "execution_count": null,
      "outputs": []
    },
    {
      "cell_type": "code",
      "metadata": {
        "id": "d7Jxk4RZAL-r"
      },
      "source": [
        "analyzed_rev.head()"
      ],
      "execution_count": null,
      "outputs": []
    },
    {
      "cell_type": "code",
      "metadata": {
        "id": "VrETuro72W48",
        "colab": {
          "base_uri": "https://localhost:8080/",
          "height": 547
        },
        "outputId": "6d2cae67-305b-4d7b-a5fb-a2a7793d1918"
      },
      "source": [
        "summary = analyzed_rev.copy()\n",
        "summary.reset_index(inplace=True)\n",
        "summary.head()"
      ],
      "execution_count": null,
      "outputs": [
        {
          "output_type": "execute_result",
          "data": {
            "text/html": [
              "<div>\n",
              "<style scoped>\n",
              "    .dataframe tbody tr th:only-of-type {\n",
              "        vertical-align: middle;\n",
              "    }\n",
              "\n",
              "    .dataframe tbody tr th {\n",
              "        vertical-align: top;\n",
              "    }\n",
              "\n",
              "    .dataframe thead th {\n",
              "        text-align: right;\n",
              "    }\n",
              "</style>\n",
              "<table border=\"1\" class=\"dataframe\">\n",
              "  <thead>\n",
              "    <tr style=\"text-align: right;\">\n",
              "      <th></th>\n",
              "      <th>index</th>\n",
              "      <th>text</th>\n",
              "      <th>label</th>\n",
              "      <th>categories</th>\n",
              "      <th>clean_text</th>\n",
              "      <th>category</th>\n",
              "      <th>length</th>\n",
              "      <th>bert_pred</th>\n",
              "      <th>positive_c</th>\n",
              "      <th>negative_c</th>\n",
              "      <th>rf_pred</th>\n",
              "    </tr>\n",
              "  </thead>\n",
              "  <tbody>\n",
              "    <tr>\n",
              "      <th>0</th>\n",
              "      <td>555</td>\n",
              "      <td>I went to the Fragrance department to pick up ...</td>\n",
              "      <td>0</td>\n",
              "      <td>Department Stores, Fashion, Men's Clothing, Wo...</td>\n",
              "      <td>went fragrance department pick bottle versace ...</td>\n",
              "      <td>Other Industries</td>\n",
              "      <td>54</td>\n",
              "      <td>0</td>\n",
              "      <td>{'mall': 0.0014292788633557055, 'er': 0.001085...</td>\n",
              "      <td>{'asked': 0.051271851229870706, 'said': 0.0446...</td>\n",
              "      <td>0</td>\n",
              "    </tr>\n",
              "    <tr>\n",
              "      <th>1</th>\n",
              "      <td>855</td>\n",
              "      <td>My friend found a hair in his food. Definitely...</td>\n",
              "      <td>0</td>\n",
              "      <td>Arts &amp; Entertainment, Nightlife, Breakfast &amp; B...</td>\n",
              "      <td>friend hair food definitely lost appetite pull...</td>\n",
              "      <td>Restaurant Industry</td>\n",
              "      <td>19</td>\n",
              "      <td>0</td>\n",
              "      <td>{'definitely': 0.07466639315626142, 'good': 0....</td>\n",
              "      <td>{'wasn': 0.043493839409041064, 'lost': 0.02648...</td>\n",
              "      <td>0</td>\n",
              "    </tr>\n",
              "    <tr>\n",
              "      <th>2</th>\n",
              "      <td>1158</td>\n",
              "      <td>Some selections are pretty good. Unfortunately...</td>\n",
              "      <td>0</td>\n",
              "      <td>Asian Fusion, Event Planning &amp; Services, Resta...</td>\n",
              "      <td>selections pretty good unfortunately dishes we...</td>\n",
              "      <td>Hotel Industry</td>\n",
              "      <td>21</td>\n",
              "      <td>0</td>\n",
              "      <td>{'great': 0.06918939498428471, 'good': 0.01815...</td>\n",
              "      <td>{'unfortunately': 0.08739752310228917, 'wasn':...</td>\n",
              "      <td>0</td>\n",
              "    </tr>\n",
              "    <tr>\n",
              "      <th>3</th>\n",
              "      <td>1404</td>\n",
              "      <td>WTF!!  WTF!!  WTF!!\\n1st off this place was do...</td>\n",
              "      <td>0</td>\n",
              "      <td>Laundry Services, Dry Cleaning &amp; Laundry, Loca...</td>\n",
              "      <td>wtf wtf wtf place downright filthy walked righ...</td>\n",
              "      <td>Service Industry</td>\n",
              "      <td>75</td>\n",
              "      <td>0</td>\n",
              "      <td>{'clean': 0.012399755825582762, 'soft': 0.0095...</td>\n",
              "      <td>{'said': 0.0466807978957219, 'dirty': 0.039079...</td>\n",
              "      <td>0</td>\n",
              "    </tr>\n",
              "    <tr>\n",
              "      <th>4</th>\n",
              "      <td>3825</td>\n",
              "      <td>We got very lucky as far as insurance coverage...</td>\n",
              "      <td>0</td>\n",
              "      <td>Shopping, Health &amp; Medical, Ophthalmologists, ...</td>\n",
              "      <td>got lucky far insurance coverage goes new glas...</td>\n",
              "      <td>Other Industries</td>\n",
              "      <td>33</td>\n",
              "      <td>0</td>\n",
              "      <td>{'knowledge': 0.0352074956753434, 'professiona...</td>\n",
              "      <td>{'left': 0.04591727101771179, 'took': 0.034729...</td>\n",
              "      <td>0</td>\n",
              "    </tr>\n",
              "  </tbody>\n",
              "</table>\n",
              "</div>"
            ],
            "text/plain": [
              "   index  ... rf_pred\n",
              "0    555  ...       0\n",
              "1    855  ...       0\n",
              "2   1158  ...       0\n",
              "3   1404  ...       0\n",
              "4   3825  ...       0\n",
              "\n",
              "[5 rows x 11 columns]"
            ]
          },
          "metadata": {
            "tags": []
          },
          "execution_count": 61
        }
      ]
    },
    {
      "cell_type": "code",
      "metadata": {
        "id": "H7I6kFiGZjBD"
      },
      "source": [
        "summary.to_pickle('/content/drive/MyDrive/Yelp/results2.pkl')\n"
      ],
      "execution_count": null,
      "outputs": []
    },
    {
      "cell_type": "markdown",
      "metadata": {
        "id": "Vto-JPyt_Q9r"
      },
      "source": [
        "## Rounding and summarizying results"
      ]
    },
    {
      "cell_type": "code",
      "metadata": {
        "colab": {
          "base_uri": "https://localhost:8080/",
          "height": 386
        },
        "id": "CSgipTIGe-5r",
        "outputId": "2a5a3b5f-2c78-48c7-ef3e-d1fd19a3d513"
      },
      "source": [
        "summary1 = pd.read_pickle('/content/drive/MyDrive/Yelp/results1.pkl')\n",
        "summary1.head(2)"
      ],
      "execution_count": null,
      "outputs": [
        {
          "output_type": "execute_result",
          "data": {
            "text/html": [
              "<div>\n",
              "<style scoped>\n",
              "    .dataframe tbody tr th:only-of-type {\n",
              "        vertical-align: middle;\n",
              "    }\n",
              "\n",
              "    .dataframe tbody tr th {\n",
              "        vertical-align: top;\n",
              "    }\n",
              "\n",
              "    .dataframe thead th {\n",
              "        text-align: right;\n",
              "    }\n",
              "</style>\n",
              "<table border=\"1\" class=\"dataframe\">\n",
              "  <thead>\n",
              "    <tr style=\"text-align: right;\">\n",
              "      <th></th>\n",
              "      <th>index</th>\n",
              "      <th>text</th>\n",
              "      <th>label</th>\n",
              "      <th>categories</th>\n",
              "      <th>clean_text</th>\n",
              "      <th>category</th>\n",
              "      <th>length</th>\n",
              "      <th>bert_pred</th>\n",
              "      <th>positive_c</th>\n",
              "      <th>negative_c</th>\n",
              "      <th>rf_pred</th>\n",
              "      <th>relevant_pos_c</th>\n",
              "      <th>relevant_neg_c</th>\n",
              "    </tr>\n",
              "  </thead>\n",
              "  <tbody>\n",
              "    <tr>\n",
              "      <th>0</th>\n",
              "      <td>1135</td>\n",
              "      <td>Good: \\n1. Elegant \\n2. The rooms have a nice ...</td>\n",
              "      <td>0</td>\n",
              "      <td>Wedding Planning, Event Planning &amp; Services, B...</td>\n",
              "      <td>good elegant rooms nice style loved kitchen be...</td>\n",
              "      <td>Hotel Industry</td>\n",
              "      <td>86</td>\n",
              "      <td>0</td>\n",
              "      <td>{'loved': 0.033431089996246784, 'nice': 0.0137...</td>\n",
              "      <td>{'asked': 0.05015832844026933, 'dirty': 0.0291...</td>\n",
              "      <td>0</td>\n",
              "      <td>[(loved, 0.033431089996246784), (nice, 0.01378...</td>\n",
              "      <td>[(asked, 0.05015832844026933), (dirty, 0.02918...</td>\n",
              "    </tr>\n",
              "    <tr>\n",
              "      <th>1</th>\n",
              "      <td>1816</td>\n",
              "      <td>These guys look like they do good work, too ba...</td>\n",
              "      <td>0</td>\n",
              "      <td>Home Services, Flooring, Contractors</td>\n",
              "      <td>guys look like good work bad return calls emai...</td>\n",
              "      <td>Service Industry</td>\n",
              "      <td>24</td>\n",
              "      <td>0</td>\n",
              "      <td>{'good': 0.019764806897246724, '[PAD]': 0.0004...</td>\n",
              "      <td>{'poor': 0.13657416317548124, 'bad': 0.0555959...</td>\n",
              "      <td>0</td>\n",
              "      <td>[(good, 0.019764806897246724)]</td>\n",
              "      <td>[(poor, 0.13657416317548124), (bad, 0.05559598...</td>\n",
              "    </tr>\n",
              "  </tbody>\n",
              "</table>\n",
              "</div>"
            ],
            "text/plain": [
              "   index  ...                                     relevant_neg_c\n",
              "0   1135  ...  [(asked, 0.05015832844026933), (dirty, 0.02918...\n",
              "1   1816  ...  [(poor, 0.13657416317548124), (bad, 0.05559598...\n",
              "\n",
              "[2 rows x 13 columns]"
            ]
          },
          "metadata": {
            "tags": []
          },
          "execution_count": 103
        }
      ]
    },
    {
      "cell_type": "code",
      "metadata": {
        "colab": {
          "base_uri": "https://localhost:8080/"
        },
        "id": "ysEQcIVhS8cf",
        "outputId": "0048d9e2-fadc-4329-faf3-416bd772cef4"
      },
      "source": [
        "print('Negative contributions: ')\n",
        "for i in range(len(summary.negative_c[0])):\n",
        "  if list(summary.negative_c[0].values())[i] > 0.01:\n",
        "    #print(list(analyzed_rev.positive_c[1135].keys())[i])\n",
        "    #print(list(analyzed_rev.positive_c[1135].values())[i])\n",
        "    print(i)\n",
        "    print(list(summary.negative_c[0].items())[i])"
      ],
      "execution_count": null,
      "outputs": [
        {
          "output_type": "stream",
          "text": [
            "Negative contributions: \n",
            "0\n",
            "('asked', 0.051271851229870706)\n",
            "1\n",
            "('said', 0.04467408898365459)\n",
            "2\n",
            "('phone', 0.039025407637245435)\n",
            "3\n",
            "('minutes', 0.03611555506152559)\n",
            "4\n",
            "('called', 0.028856732600068533)\n",
            "5\n",
            "('customer', 0.019433742487794163)\n",
            "6\n",
            "('inc', 0.01749209060524957)\n",
            "7\n",
            "('got', 0.01528525316690704)\n",
            "8\n",
            "('lady', 0.013060704011726959)\n",
            "9\n",
            "('went', 0.011922317700750078)\n"
          ],
          "name": "stdout"
        }
      ]
    },
    {
      "cell_type": "code",
      "metadata": {
        "colab": {
          "base_uri": "https://localhost:8080/"
        },
        "id": "fohHFu46CPK8",
        "outputId": "a583b9d8-4b7b-40c8-9089-58e313b13806"
      },
      "source": [
        "exp2.r_neg_c[0]"
      ],
      "execution_count": null,
      "outputs": [
        {
          "output_type": "execute_result",
          "data": {
            "text/plain": [
              "[('asked', 0.05),\n",
              " ('dirty', 0.029),\n",
              " ('bad', 0.027),\n",
              " ('pay', 0.025),\n",
              " ('called', 0.024),\n",
              " ('finally', 0.02),\n",
              " ('maybe', 0.013),\n",
              " ('hours', 0.011)]"
            ]
          },
          "metadata": {
            "tags": []
          },
          "execution_count": 36
        }
      ]
    },
    {
      "cell_type": "code",
      "metadata": {
        "id": "-LjbIgF8N5nG"
      },
      "source": [
        "#def roundingVals(d):\n",
        "    for k, v in d.items():\n",
        "        v = round(v, 3)\n",
        "        d[k] = v"
      ],
      "execution_count": null,
      "outputs": []
    },
    {
      "cell_type": "code",
      "metadata": {
        "id": "6kr0vCWkqEkM"
      },
      "source": [
        "def rounded(df):\n",
        "  df['r_pos_c'] = None\n",
        "  df['r_neg_c'] = None\n",
        "  for r in range(20):\n",
        "  #Positive contributions:\n",
        "    pos = df.positive_c[r].copy()\n",
        "    #roundingVals(pos)\n",
        "    pos_it = []\n",
        "    for i in range(len(pos)):\n",
        "      if list(pos.values())[i] > 0.01:\n",
        "        pos_it.append(str(list(pos.keys())[i]) + ': ' + str(round(list(pos.values())[i], 3)))\n",
        "        #pos_it.append(list(pos.items())[i])\n",
        "    df['r_pos_c'][r] = pos_it\n",
        "\n",
        "  #Negative contributions:\n",
        "    neg = df.negative_c[r].copy()\n",
        "    #roundingVals(neg)\n",
        "    neg_it = []\n",
        "    for i in range(len(neg)):\n",
        "      if list(neg.values())[i] > 0.01:\n",
        "        neg_it.append(str(list(neg.keys())[i]) + ': ' + str(round(list(neg.values())[i], 3)))\n",
        "        #neg_it.append(list(neg.items())[i])\n",
        "    df['r_neg_c'][r] = neg_it"
      ],
      "execution_count": null,
      "outputs": []
    },
    {
      "cell_type": "code",
      "metadata": {
        "colab": {
          "base_uri": "https://localhost:8080/"
        },
        "id": "XwfG8BIUIk_v",
        "outputId": "c934e9b1-9478-4164-9805-25e792d29cbe"
      },
      "source": [
        "summary.positive_c[0]"
      ],
      "execution_count": null,
      "outputs": [
        {
          "output_type": "execute_result",
          "data": {
            "text/plain": [
              "dict_values([0.0014292788633557055, 0.0010853489332953675, 0.0010713508977031163, 0.0009914480867356942, 0.0005578970898222899, 0.0005537389339354949, 0.0005088235294117646, 0.00043017465331893386, 0.0003509921089443151, 0.00012165163894078986, 9.116008418833422e-05])"
            ]
          },
          "metadata": {
            "tags": []
          },
          "execution_count": 85
        }
      ]
    },
    {
      "cell_type": "code",
      "metadata": {
        "colab": {
          "base_uri": "https://localhost:8080/"
        },
        "id": "3Ybm3Xg9IKRW",
        "outputId": "903db10e-c48a-4524-9f22-34f8e10f9866"
      },
      "source": [
        "pos = summary.positive_c[1].copy()\n",
        "res = ''\n",
        "for i in range(len(pos)):\n",
        "  if list(pos.values())[i] > 0.01:\n",
        "    res+= '\\n ' + str(list(pos.keys())[i]) + ': ' + str(round(list(pos.values())[i], 3))\n",
        "print(res)"
      ],
      "execution_count": null,
      "outputs": [
        {
          "output_type": "stream",
          "text": [
            "\n",
            " definitely: 0.075\n",
            " good: 0.024\n"
          ],
          "name": "stdout"
        }
      ]
    },
    {
      "cell_type": "code",
      "metadata": {
        "colab": {
          "base_uri": "https://localhost:8080/"
        },
        "id": "O3jrO_OU_0UO",
        "outputId": "e8fc30d7-b9a4-497b-9a7f-3f8eb3dde503"
      },
      "source": [
        "exp2 = summary1.copy()\n",
        "exp2.shape"
      ],
      "execution_count": null,
      "outputs": [
        {
          "output_type": "execute_result",
          "data": {
            "text/plain": [
              "(20, 13)"
            ]
          },
          "metadata": {
            "tags": []
          },
          "execution_count": 132
        }
      ]
    },
    {
      "cell_type": "code",
      "metadata": {
        "colab": {
          "base_uri": "https://localhost:8080/",
          "height": 539
        },
        "id": "ek1vy0kj6Tzr",
        "outputId": "1ef1f25b-8413-45a7-9ab6-2c2348d3667c"
      },
      "source": [
        "rounded(exp2)\n",
        "exp2.head(2)"
      ],
      "execution_count": null,
      "outputs": [
        {
          "output_type": "stream",
          "text": [
            "/usr/local/lib/python3.7/dist-packages/ipykernel_launcher.py:13: SettingWithCopyWarning: \n",
            "A value is trying to be set on a copy of a slice from a DataFrame\n",
            "\n",
            "See the caveats in the documentation: https://pandas.pydata.org/pandas-docs/stable/user_guide/indexing.html#returning-a-view-versus-a-copy\n",
            "  del sys.path[0]\n",
            "/usr/local/lib/python3.7/dist-packages/ipykernel_launcher.py:23: SettingWithCopyWarning: \n",
            "A value is trying to be set on a copy of a slice from a DataFrame\n",
            "\n",
            "See the caveats in the documentation: https://pandas.pydata.org/pandas-docs/stable/user_guide/indexing.html#returning-a-view-versus-a-copy\n"
          ],
          "name": "stderr"
        },
        {
          "output_type": "execute_result",
          "data": {
            "text/html": [
              "<div>\n",
              "<style scoped>\n",
              "    .dataframe tbody tr th:only-of-type {\n",
              "        vertical-align: middle;\n",
              "    }\n",
              "\n",
              "    .dataframe tbody tr th {\n",
              "        vertical-align: top;\n",
              "    }\n",
              "\n",
              "    .dataframe thead th {\n",
              "        text-align: right;\n",
              "    }\n",
              "</style>\n",
              "<table border=\"1\" class=\"dataframe\">\n",
              "  <thead>\n",
              "    <tr style=\"text-align: right;\">\n",
              "      <th></th>\n",
              "      <th>index</th>\n",
              "      <th>text</th>\n",
              "      <th>label</th>\n",
              "      <th>categories</th>\n",
              "      <th>clean_text</th>\n",
              "      <th>category</th>\n",
              "      <th>length</th>\n",
              "      <th>bert_pred</th>\n",
              "      <th>positive_c</th>\n",
              "      <th>negative_c</th>\n",
              "      <th>rf_pred</th>\n",
              "      <th>relevant_pos_c</th>\n",
              "      <th>relevant_neg_c</th>\n",
              "      <th>r_pos_c</th>\n",
              "      <th>r_neg_c</th>\n",
              "    </tr>\n",
              "  </thead>\n",
              "  <tbody>\n",
              "    <tr>\n",
              "      <th>0</th>\n",
              "      <td>1135</td>\n",
              "      <td>Good: \\n1. Elegant \\n2. The rooms have a nice ...</td>\n",
              "      <td>0</td>\n",
              "      <td>Wedding Planning, Event Planning &amp; Services, B...</td>\n",
              "      <td>good elegant rooms nice style loved kitchen be...</td>\n",
              "      <td>Hotel Industry</td>\n",
              "      <td>86</td>\n",
              "      <td>0</td>\n",
              "      <td>{'loved': 0.033431089996246784, 'nice': 0.0137...</td>\n",
              "      <td>{'asked': 0.05015832844026933, 'dirty': 0.0291...</td>\n",
              "      <td>0</td>\n",
              "      <td>[(loved, 0.033431089996246784), (nice, 0.01378...</td>\n",
              "      <td>[(asked, 0.05015832844026933), (dirty, 0.02918...</td>\n",
              "      <td>[loved: 0.033, nice: 0.014, clean: 0.013, good...</td>\n",
              "      <td>[asked: 0.05, dirty: 0.029, bad: 0.027, pay: 0...</td>\n",
              "    </tr>\n",
              "    <tr>\n",
              "      <th>1</th>\n",
              "      <td>1816</td>\n",
              "      <td>These guys look like they do good work, too ba...</td>\n",
              "      <td>0</td>\n",
              "      <td>Home Services, Flooring, Contractors</td>\n",
              "      <td>guys look like good work bad return calls emai...</td>\n",
              "      <td>Service Industry</td>\n",
              "      <td>24</td>\n",
              "      <td>0</td>\n",
              "      <td>{'good': 0.019764806897246724, '[PAD]': 0.0004...</td>\n",
              "      <td>{'poor': 0.13657416317548124, 'bad': 0.0555959...</td>\n",
              "      <td>0</td>\n",
              "      <td>[(good, 0.019764806897246724)]</td>\n",
              "      <td>[(poor, 0.13657416317548124), (bad, 0.05559598...</td>\n",
              "      <td>[good: 0.02]</td>\n",
              "      <td>[poor: 0.137, bad: 0.056, customer: 0.034, for...</td>\n",
              "    </tr>\n",
              "  </tbody>\n",
              "</table>\n",
              "</div>"
            ],
            "text/plain": [
              "   index  ...                                            r_neg_c\n",
              "0   1135  ...  [asked: 0.05, dirty: 0.029, bad: 0.027, pay: 0...\n",
              "1   1816  ...  [poor: 0.137, bad: 0.056, customer: 0.034, for...\n",
              "\n",
              "[2 rows x 15 columns]"
            ]
          },
          "metadata": {
            "tags": []
          },
          "execution_count": 133
        }
      ]
    },
    {
      "cell_type": "code",
      "metadata": {
        "id": "h_DlC-dkPh5_",
        "colab": {
          "base_uri": "https://localhost:8080/",
          "height": 204
        },
        "outputId": "c2d58713-b241-4591-940e-cce57635378c"
      },
      "source": [
        "results = exp2[['index', 'label', 'bert_pred', 'rf_pred', 'category', 'length', 'r_pos_c', 'r_neg_c']]\n",
        "results.head()"
      ],
      "execution_count": null,
      "outputs": [
        {
          "output_type": "execute_result",
          "data": {
            "text/html": [
              "<div>\n",
              "<style scoped>\n",
              "    .dataframe tbody tr th:only-of-type {\n",
              "        vertical-align: middle;\n",
              "    }\n",
              "\n",
              "    .dataframe tbody tr th {\n",
              "        vertical-align: top;\n",
              "    }\n",
              "\n",
              "    .dataframe thead th {\n",
              "        text-align: right;\n",
              "    }\n",
              "</style>\n",
              "<table border=\"1\" class=\"dataframe\">\n",
              "  <thead>\n",
              "    <tr style=\"text-align: right;\">\n",
              "      <th></th>\n",
              "      <th>index</th>\n",
              "      <th>label</th>\n",
              "      <th>bert_pred</th>\n",
              "      <th>rf_pred</th>\n",
              "      <th>category</th>\n",
              "      <th>length</th>\n",
              "      <th>r_pos_c</th>\n",
              "      <th>r_neg_c</th>\n",
              "    </tr>\n",
              "  </thead>\n",
              "  <tbody>\n",
              "    <tr>\n",
              "      <th>0</th>\n",
              "      <td>1135</td>\n",
              "      <td>0</td>\n",
              "      <td>0</td>\n",
              "      <td>0</td>\n",
              "      <td>Hotel Industry</td>\n",
              "      <td>86</td>\n",
              "      <td>[loved: 0.033, nice: 0.014, clean: 0.013, good...</td>\n",
              "      <td>[asked: 0.05, dirty: 0.029, bad: 0.027, pay: 0...</td>\n",
              "    </tr>\n",
              "    <tr>\n",
              "      <th>1</th>\n",
              "      <td>1816</td>\n",
              "      <td>0</td>\n",
              "      <td>0</td>\n",
              "      <td>0</td>\n",
              "      <td>Service Industry</td>\n",
              "      <td>24</td>\n",
              "      <td>[good: 0.02]</td>\n",
              "      <td>[poor: 0.137, bad: 0.056, customer: 0.034, for...</td>\n",
              "    </tr>\n",
              "    <tr>\n",
              "      <th>2</th>\n",
              "      <td>2751</td>\n",
              "      <td>0</td>\n",
              "      <td>0</td>\n",
              "      <td>0</td>\n",
              "      <td>Hotel Industry</td>\n",
              "      <td>57</td>\n",
              "      <td>[definitely: 0.055]</td>\n",
              "      <td>[terrible: 0.085, told: 0.062, clearly: 0.025,...</td>\n",
              "    </tr>\n",
              "    <tr>\n",
              "      <th>3</th>\n",
              "      <td>2896</td>\n",
              "      <td>0</td>\n",
              "      <td>0</td>\n",
              "      <td>0</td>\n",
              "      <td>Beauty Industry</td>\n",
              "      <td>27</td>\n",
              "      <td>[love: 0.063]</td>\n",
              "      <td>[worst: 0.115, horrible: 0.114, ignored: 0.038...</td>\n",
              "    </tr>\n",
              "    <tr>\n",
              "      <th>4</th>\n",
              "      <td>3207</td>\n",
              "      <td>0</td>\n",
              "      <td>0</td>\n",
              "      <td>0</td>\n",
              "      <td>Restaurant Industry</td>\n",
              "      <td>10</td>\n",
              "      <td>[recommend: 0.049]</td>\n",
              "      <td>[bad: 0.085, crap: 0.048, gave: 0.016, expensi...</td>\n",
              "    </tr>\n",
              "  </tbody>\n",
              "</table>\n",
              "</div>"
            ],
            "text/plain": [
              "   index  ...                                            r_neg_c\n",
              "0   1135  ...  [asked: 0.05, dirty: 0.029, bad: 0.027, pay: 0...\n",
              "1   1816  ...  [poor: 0.137, bad: 0.056, customer: 0.034, for...\n",
              "2   2751  ...  [terrible: 0.085, told: 0.062, clearly: 0.025,...\n",
              "3   2896  ...  [worst: 0.115, horrible: 0.114, ignored: 0.038...\n",
              "4   3207  ...  [bad: 0.085, crap: 0.048, gave: 0.016, expensi...\n",
              "\n",
              "[5 rows x 8 columns]"
            ]
          },
          "metadata": {
            "tags": []
          },
          "execution_count": 134
        }
      ]
    },
    {
      "cell_type": "code",
      "metadata": {
        "id": "yjC6b42LgEQT"
      },
      "source": [
        "results.to_csv('/content/drive/MyDrive/Yelp/results1_.csv')"
      ],
      "execution_count": null,
      "outputs": []
    },
    {
      "cell_type": "code",
      "metadata": {
        "colab": {
          "base_uri": "https://localhost:8080/"
        },
        "id": "qbSNPE88GZ0p",
        "outputId": "0457debe-ffcc-4aed-9ac3-33f78b1cbfd7"
      },
      "source": [
        "exp3 = summary.copy()\n",
        "exp3.shape"
      ],
      "execution_count": null,
      "outputs": [
        {
          "output_type": "execute_result",
          "data": {
            "text/plain": [
              "(20, 11)"
            ]
          },
          "metadata": {
            "tags": []
          },
          "execution_count": 122
        }
      ]
    },
    {
      "cell_type": "code",
      "metadata": {
        "colab": {
          "base_uri": "https://localhost:8080/",
          "height": 437
        },
        "id": "6PDL1iy0GnRi",
        "outputId": "9237fa68-29fc-4aa9-9826-327295961373"
      },
      "source": [
        "rounded(exp3)\n",
        "exp3.head(2)"
      ],
      "execution_count": null,
      "outputs": [
        {
          "output_type": "stream",
          "text": [
            "/usr/local/lib/python3.7/dist-packages/ipykernel_launcher.py:17: SettingWithCopyWarning: \n",
            "A value is trying to be set on a copy of a slice from a DataFrame\n",
            "\n",
            "See the caveats in the documentation: https://pandas.pydata.org/pandas-docs/stable/user_guide/indexing.html#returning-a-view-versus-a-copy\n",
            "/usr/local/lib/python3.7/dist-packages/ipykernel_launcher.py:27: SettingWithCopyWarning: \n",
            "A value is trying to be set on a copy of a slice from a DataFrame\n",
            "\n",
            "See the caveats in the documentation: https://pandas.pydata.org/pandas-docs/stable/user_guide/indexing.html#returning-a-view-versus-a-copy\n"
          ],
          "name": "stderr"
        },
        {
          "output_type": "execute_result",
          "data": {
            "text/html": [
              "<div>\n",
              "<style scoped>\n",
              "    .dataframe tbody tr th:only-of-type {\n",
              "        vertical-align: middle;\n",
              "    }\n",
              "\n",
              "    .dataframe tbody tr th {\n",
              "        vertical-align: top;\n",
              "    }\n",
              "\n",
              "    .dataframe thead th {\n",
              "        text-align: right;\n",
              "    }\n",
              "</style>\n",
              "<table border=\"1\" class=\"dataframe\">\n",
              "  <thead>\n",
              "    <tr style=\"text-align: right;\">\n",
              "      <th></th>\n",
              "      <th>index</th>\n",
              "      <th>text</th>\n",
              "      <th>label</th>\n",
              "      <th>categories</th>\n",
              "      <th>clean_text</th>\n",
              "      <th>category</th>\n",
              "      <th>length</th>\n",
              "      <th>bert_pred</th>\n",
              "      <th>positive_c</th>\n",
              "      <th>negative_c</th>\n",
              "      <th>rf_pred</th>\n",
              "      <th>r_pos_c</th>\n",
              "      <th>r_neg_c</th>\n",
              "    </tr>\n",
              "  </thead>\n",
              "  <tbody>\n",
              "    <tr>\n",
              "      <th>0</th>\n",
              "      <td>555</td>\n",
              "      <td>I went to the Fragrance department to pick up ...</td>\n",
              "      <td>0</td>\n",
              "      <td>Department Stores, Fashion, Men's Clothing, Wo...</td>\n",
              "      <td>went fragrance department pick bottle versace ...</td>\n",
              "      <td>Other Industries</td>\n",
              "      <td>54</td>\n",
              "      <td>0</td>\n",
              "      <td>{'mall': 0.0014292788633557055, 'er': 0.001085...</td>\n",
              "      <td>{'asked': 0.051271851229870706, 'said': 0.0446...</td>\n",
              "      <td>0</td>\n",
              "      <td></td>\n",
              "      <td>\\n asked: 0.051 \\n said: 0.045 \\n phone: 0.039...</td>\n",
              "    </tr>\n",
              "    <tr>\n",
              "      <th>1</th>\n",
              "      <td>855</td>\n",
              "      <td>My friend found a hair in his food. Definitely...</td>\n",
              "      <td>0</td>\n",
              "      <td>Arts &amp; Entertainment, Nightlife, Breakfast &amp; B...</td>\n",
              "      <td>friend hair food definitely lost appetite pull...</td>\n",
              "      <td>Restaurant Industry</td>\n",
              "      <td>19</td>\n",
              "      <td>0</td>\n",
              "      <td>{'definitely': 0.07466639315626142, 'good': 0....</td>\n",
              "      <td>{'wasn': 0.043493839409041064, 'lost': 0.02648...</td>\n",
              "      <td>0</td>\n",
              "      <td>\\n definitely: 0.075 \\n good: 0.024</td>\n",
              "      <td>\\n wasn: 0.043 \\n lost: 0.026 \\n probably: 0.0...</td>\n",
              "    </tr>\n",
              "  </tbody>\n",
              "</table>\n",
              "</div>"
            ],
            "text/plain": [
              "   index  ...                                            r_neg_c\n",
              "0    555  ...  \\n asked: 0.051 \\n said: 0.045 \\n phone: 0.039...\n",
              "1    855  ...  \\n wasn: 0.043 \\n lost: 0.026 \\n probably: 0.0...\n",
              "\n",
              "[2 rows x 13 columns]"
            ]
          },
          "metadata": {
            "tags": []
          },
          "execution_count": 123
        }
      ]
    },
    {
      "cell_type": "code",
      "metadata": {
        "colab": {
          "base_uri": "https://localhost:8080/",
          "height": 204
        },
        "id": "kLbEvZ6rGsxH",
        "outputId": "adc6fa2e-862a-4dd3-de76-85040dfb3a26"
      },
      "source": [
        "results2 = exp3[['index', 'label', 'bert_pred', 'rf_pred', 'category', 'length', 'r_pos_c', 'r_neg_c']]\n",
        "results2.head()"
      ],
      "execution_count": null,
      "outputs": [
        {
          "output_type": "execute_result",
          "data": {
            "text/html": [
              "<div>\n",
              "<style scoped>\n",
              "    .dataframe tbody tr th:only-of-type {\n",
              "        vertical-align: middle;\n",
              "    }\n",
              "\n",
              "    .dataframe tbody tr th {\n",
              "        vertical-align: top;\n",
              "    }\n",
              "\n",
              "    .dataframe thead th {\n",
              "        text-align: right;\n",
              "    }\n",
              "</style>\n",
              "<table border=\"1\" class=\"dataframe\">\n",
              "  <thead>\n",
              "    <tr style=\"text-align: right;\">\n",
              "      <th></th>\n",
              "      <th>index</th>\n",
              "      <th>label</th>\n",
              "      <th>bert_pred</th>\n",
              "      <th>rf_pred</th>\n",
              "      <th>category</th>\n",
              "      <th>length</th>\n",
              "      <th>r_pos_c</th>\n",
              "      <th>r_neg_c</th>\n",
              "    </tr>\n",
              "  </thead>\n",
              "  <tbody>\n",
              "    <tr>\n",
              "      <th>0</th>\n",
              "      <td>555</td>\n",
              "      <td>0</td>\n",
              "      <td>0</td>\n",
              "      <td>0</td>\n",
              "      <td>Other Industries</td>\n",
              "      <td>54</td>\n",
              "      <td></td>\n",
              "      <td>\\n asked: 0.051 \\n said: 0.045 \\n phone: 0.039...</td>\n",
              "    </tr>\n",
              "    <tr>\n",
              "      <th>1</th>\n",
              "      <td>855</td>\n",
              "      <td>0</td>\n",
              "      <td>0</td>\n",
              "      <td>0</td>\n",
              "      <td>Restaurant Industry</td>\n",
              "      <td>19</td>\n",
              "      <td>\\n definitely: 0.075 \\n good: 0.024</td>\n",
              "      <td>\\n wasn: 0.043 \\n lost: 0.026 \\n probably: 0.0...</td>\n",
              "    </tr>\n",
              "    <tr>\n",
              "      <th>2</th>\n",
              "      <td>1158</td>\n",
              "      <td>0</td>\n",
              "      <td>0</td>\n",
              "      <td>0</td>\n",
              "      <td>Hotel Industry</td>\n",
              "      <td>21</td>\n",
              "      <td>\\n great: 0.069 \\n good: 0.018</td>\n",
              "      <td>\\n unfortunately: 0.087 \\n wasn: 0.049 \\n edib...</td>\n",
              "    </tr>\n",
              "    <tr>\n",
              "      <th>3</th>\n",
              "      <td>1404</td>\n",
              "      <td>0</td>\n",
              "      <td>0</td>\n",
              "      <td>0</td>\n",
              "      <td>Service Industry</td>\n",
              "      <td>75</td>\n",
              "      <td>\\n clean: 0.012</td>\n",
              "      <td>\\n said: 0.047 \\n dirty: 0.039 \\n dry: 0.028 \\...</td>\n",
              "    </tr>\n",
              "    <tr>\n",
              "      <th>4</th>\n",
              "      <td>3825</td>\n",
              "      <td>0</td>\n",
              "      <td>0</td>\n",
              "      <td>0</td>\n",
              "      <td>Other Industries</td>\n",
              "      <td>33</td>\n",
              "      <td>\\n knowledge: 0.035 \\n professional: 0.022</td>\n",
              "      <td>\\n left: 0.046 \\n took: 0.035 \\n wouldn: 0.035...</td>\n",
              "    </tr>\n",
              "  </tbody>\n",
              "</table>\n",
              "</div>"
            ],
            "text/plain": [
              "   index  ...                                            r_neg_c\n",
              "0    555  ...  \\n asked: 0.051 \\n said: 0.045 \\n phone: 0.039...\n",
              "1    855  ...  \\n wasn: 0.043 \\n lost: 0.026 \\n probably: 0.0...\n",
              "2   1158  ...  \\n unfortunately: 0.087 \\n wasn: 0.049 \\n edib...\n",
              "3   1404  ...  \\n said: 0.047 \\n dirty: 0.039 \\n dry: 0.028 \\...\n",
              "4   3825  ...  \\n left: 0.046 \\n took: 0.035 \\n wouldn: 0.035...\n",
              "\n",
              "[5 rows x 8 columns]"
            ]
          },
          "metadata": {
            "tags": []
          },
          "execution_count": 124
        }
      ]
    },
    {
      "cell_type": "code",
      "metadata": {
        "id": "rcht1OYAGz4u"
      },
      "source": [
        "results2.to_csv('/content/drive/MyDrive/Yelp/results2.csv')"
      ],
      "execution_count": null,
      "outputs": []
    },
    {
      "cell_type": "code",
      "metadata": {
        "colab": {
          "base_uri": "https://localhost:8080/"
        },
        "id": "GRzbws0pG21S",
        "outputId": "202234cf-0bf9-4d30-84a0-edb862438c95"
      },
      "source": [
        "results2['index'].unique()"
      ],
      "execution_count": null,
      "outputs": [
        {
          "output_type": "execute_result",
          "data": {
            "text/plain": [
              "array([  555,   855,  1158,  1404,  3825,  3954,  4210,  4281,  5013,\n",
              "        5231,  5285,  5468,  5601,  5833,  6274,  7737,  9048, 11020,\n",
              "       11251, 11952])"
            ]
          },
          "metadata": {
            "tags": []
          },
          "execution_count": 72
        }
      ]
    },
    {
      "cell_type": "code",
      "metadata": {
        "colab": {
          "base_uri": "https://localhost:8080/"
        },
        "id": "rc4CevwGHBfx",
        "outputId": "43da8e9f-f54a-4380-88f2-08ec5b803f50"
      },
      "source": [
        "results['index'].unique()"
      ],
      "execution_count": null,
      "outputs": [
        {
          "output_type": "execute_result",
          "data": {
            "text/plain": [
              "array([ 1135,  1816,  2751,  2896,  3207,  4580,  5076,  5813,  6003,\n",
              "        6829,  6853,  7850,  8050,  8183,  8957,  9520, 10871, 11251,\n",
              "       11900, 12683])"
            ]
          },
          "metadata": {
            "tags": []
          },
          "execution_count": 73
        }
      ]
    },
    {
      "cell_type": "code",
      "metadata": {
        "id": "gMyHgZEYHRZ5"
      },
      "source": [
        "uni_ids =[  555,   855,  1158,  1404,  3825,  3954,  4210,  4281,  5013,\n",
        "        5231,  5285,  5468,  5601,  5833,  6274,  7737,  9048, 11020,\n",
        "       11251, 11952] + [ 1135,  1816,  2751,  2896,  3207,  4580,  5076,  5813,  6003,\n",
        "        6829,  6853,  7850,  8050,  8183,  8957,  9520, 10871, 11251,\n",
        "       11900, 12683]"
      ],
      "execution_count": null,
      "outputs": []
    },
    {
      "cell_type": "code",
      "metadata": {
        "colab": {
          "base_uri": "https://localhost:8080/"
        },
        "id": "DAa2cqT5HXgj",
        "outputId": "84fac2a8-8d8b-419e-dd91-6d091522e4bd"
      },
      "source": [
        "np.unique(uni_ids)"
      ],
      "execution_count": null,
      "outputs": [
        {
          "output_type": "execute_result",
          "data": {
            "text/plain": [
              "array([  555,   855,  1135,  1158,  1404,  1816,  2751,  2896,  3207,\n",
              "        3825,  3954,  4210,  4281,  4580,  5013,  5076,  5231,  5285,\n",
              "        5468,  5601,  5813,  5833,  6003,  6274,  6829,  6853,  7737,\n",
              "        7850,  8050,  8183,  8957,  9048,  9520, 10871, 11020, 11251,\n",
              "       11900, 11952, 12683])"
            ]
          },
          "metadata": {
            "tags": []
          },
          "execution_count": 79
        }
      ]
    },
    {
      "cell_type": "code",
      "metadata": {
        "colab": {
          "base_uri": "https://localhost:8080/"
        },
        "id": "TXdmq6K2HrKJ",
        "outputId": "d39abf8f-7a71-40f0-eede-e525493a6146"
      },
      "source": [
        "len(np.unique(uni_ids))"
      ],
      "execution_count": null,
      "outputs": [
        {
          "output_type": "execute_result",
          "data": {
            "text/plain": [
              "39"
            ]
          },
          "metadata": {
            "tags": []
          },
          "execution_count": 80
        }
      ]
    },
    {
      "cell_type": "code",
      "metadata": {
        "id": "nfVBzUQGSyC7"
      },
      "source": [
        "special_rev = all_reviews[all_reviews.index.isin(special)]\n",
        "special_rev['positive_c'] = ''\n",
        "special_rev['negative_c'] = ''\n",
        "special_rev['rf_pred'] = ''\n",
        "for r in special:\n",
        "  add_contributions(special_rev, all_contribs, r, ft_imp, all_ids)\n",
        "special_rev.reset_index(inplace=True)\n",
        "rounded(special_rev)\n",
        "res_special = special_rev[['index', 'label', 'bert_pred', 'rf_pred', 'category', 'length', 'r_pos_c', 'r_neg_c']]\n",
        "res_special.head()"
      ],
      "execution_count": null,
      "outputs": []
    },
    {
      "cell_type": "code",
      "metadata": {
        "id": "-VNdrZNoTnFd"
      },
      "source": [
        "res_special = special_rev[['index', 'label', 'bert_pred', 'rf_pred', 'category', 'length', 'r_pos_c', 'r_neg_c']]"
      ],
      "execution_count": null,
      "outputs": []
    },
    {
      "cell_type": "code",
      "metadata": {
        "colab": {
          "base_uri": "https://localhost:8080/",
          "height": 204
        },
        "id": "-Y26vNTATsSb",
        "outputId": "04756be8-71e9-41da-dc9e-916c037c40e8"
      },
      "source": [
        "res_special"
      ],
      "execution_count": null,
      "outputs": [
        {
          "output_type": "execute_result",
          "data": {
            "text/html": [
              "<div>\n",
              "<style scoped>\n",
              "    .dataframe tbody tr th:only-of-type {\n",
              "        vertical-align: middle;\n",
              "    }\n",
              "\n",
              "    .dataframe tbody tr th {\n",
              "        vertical-align: top;\n",
              "    }\n",
              "\n",
              "    .dataframe thead th {\n",
              "        text-align: right;\n",
              "    }\n",
              "</style>\n",
              "<table border=\"1\" class=\"dataframe\">\n",
              "  <thead>\n",
              "    <tr style=\"text-align: right;\">\n",
              "      <th></th>\n",
              "      <th>index</th>\n",
              "      <th>label</th>\n",
              "      <th>bert_pred</th>\n",
              "      <th>rf_pred</th>\n",
              "      <th>category</th>\n",
              "      <th>length</th>\n",
              "      <th>r_pos_c</th>\n",
              "      <th>r_neg_c</th>\n",
              "    </tr>\n",
              "  </thead>\n",
              "  <tbody>\n",
              "    <tr>\n",
              "      <th>0</th>\n",
              "      <td>5685</td>\n",
              "      <td>1</td>\n",
              "      <td>1</td>\n",
              "      <td>1</td>\n",
              "      <td>Restaurant Industry</td>\n",
              "      <td>27</td>\n",
              "      <td>[helpful: 0.069, good: 0.026, reasonably: 0.02...</td>\n",
              "      <td>[company: 0.017, going: 0.016]</td>\n",
              "    </tr>\n",
              "    <tr>\n",
              "      <th>1</th>\n",
              "      <td>6654</td>\n",
              "      <td>1</td>\n",
              "      <td>1</td>\n",
              "      <td>1</td>\n",
              "      <td>Hotel Industry</td>\n",
              "      <td>27</td>\n",
              "      <td>[fantastic: 0.106, spot: 0.041, lovely: 0.018,...</td>\n",
              "      <td>[know: 0.019]</td>\n",
              "    </tr>\n",
              "    <tr>\n",
              "      <th>2</th>\n",
              "      <td>8455</td>\n",
              "      <td>1</td>\n",
              "      <td>1</td>\n",
              "      <td>1</td>\n",
              "      <td>Beauty Industry</td>\n",
              "      <td>28</td>\n",
              "      <td>[definitely: 0.069, best: 0.063, perfectly: 0....</td>\n",
              "      <td>[like: 0.012]</td>\n",
              "    </tr>\n",
              "    <tr>\n",
              "      <th>3</th>\n",
              "      <td>8662</td>\n",
              "      <td>1</td>\n",
              "      <td>1</td>\n",
              "      <td>1</td>\n",
              "      <td>Other Industries</td>\n",
              "      <td>32</td>\n",
              "      <td>[amazing: 0.06, awesome: 0.06, great: 0.049, d...</td>\n",
              "      <td>[minutes: 0.068]</td>\n",
              "    </tr>\n",
              "    <tr>\n",
              "      <th>4</th>\n",
              "      <td>8973</td>\n",
              "      <td>1</td>\n",
              "      <td>1</td>\n",
              "      <td>1</td>\n",
              "      <td>Service Industry</td>\n",
              "      <td>26</td>\n",
              "      <td>[nice: 0.067, fresh: 0.059]</td>\n",
              "      <td>[]</td>\n",
              "    </tr>\n",
              "  </tbody>\n",
              "</table>\n",
              "</div>"
            ],
            "text/plain": [
              "   index  ...                         r_neg_c\n",
              "0   5685  ...  [company: 0.017, going: 0.016]\n",
              "1   6654  ...                   [know: 0.019]\n",
              "2   8455  ...                   [like: 0.012]\n",
              "3   8662  ...                [minutes: 0.068]\n",
              "4   8973  ...                              []\n",
              "\n",
              "[5 rows x 8 columns]"
            ]
          },
          "metadata": {
            "tags": []
          },
          "execution_count": 162
        }
      ]
    },
    {
      "cell_type": "code",
      "metadata": {
        "id": "jMGy2JsOT3YM"
      },
      "source": [
        "res_special.to_csv('/content/drive/MyDrive/Yelp/results3.csv')"
      ],
      "execution_count": null,
      "outputs": []
    },
    {
      "cell_type": "code",
      "metadata": {
        "id": "yupGcsSFX87X"
      },
      "source": [
        "rev8749 = all_reviews[all_reviews.index ==8749]\n",
        "rev8749['positive_c'] = ''\n",
        "rev8749['negative_c'] = ''\n",
        "rev8749['rf_pred'] = ''\n",
        "\n",
        "add_contributions(rev8749, all_contribs, 8749, ft_imp, all_ids)\n",
        "rev8749.reset_index(inplace=True)\n"
      ],
      "execution_count": null,
      "outputs": []
    },
    {
      "cell_type": "code",
      "metadata": {
        "colab": {
          "base_uri": "https://localhost:8080/",
          "height": 148
        },
        "id": "v_eH262DYdXA",
        "outputId": "c9a8cde3-2f7e-42d8-f8c3-4072c01b3ac5"
      },
      "source": [
        "rev8749"
      ],
      "execution_count": null,
      "outputs": [
        {
          "output_type": "execute_result",
          "data": {
            "text/html": [
              "<div>\n",
              "<style scoped>\n",
              "    .dataframe tbody tr th:only-of-type {\n",
              "        vertical-align: middle;\n",
              "    }\n",
              "\n",
              "    .dataframe tbody tr th {\n",
              "        vertical-align: top;\n",
              "    }\n",
              "\n",
              "    .dataframe thead th {\n",
              "        text-align: right;\n",
              "    }\n",
              "</style>\n",
              "<table border=\"1\" class=\"dataframe\">\n",
              "  <thead>\n",
              "    <tr style=\"text-align: right;\">\n",
              "      <th></th>\n",
              "      <th>index</th>\n",
              "      <th>text</th>\n",
              "      <th>label</th>\n",
              "      <th>categories</th>\n",
              "      <th>clean_text</th>\n",
              "      <th>category</th>\n",
              "      <th>length</th>\n",
              "      <th>bert_pred</th>\n",
              "      <th>positive_c</th>\n",
              "      <th>negative_c</th>\n",
              "      <th>rf_pred</th>\n",
              "    </tr>\n",
              "  </thead>\n",
              "  <tbody>\n",
              "    <tr>\n",
              "      <th>0</th>\n",
              "      <td>8749</td>\n",
              "      <td>A friend took me here for the first time. I wa...</td>\n",
              "      <td>1</td>\n",
              "      <td>Nightlife, Bars, Persian/Iranian, Lounges, Foo...</td>\n",
              "      <td>friend took time persian food knew place rarel...</td>\n",
              "      <td>Restaurant Industry</td>\n",
              "      <td>60</td>\n",
              "      <td>1</td>\n",
              "      <td>{'great': 0.06734059322579866, 'glad': 0.02766...</td>\n",
              "      <td>{'took': 0.035617427447430884, 'people': 0.011...</td>\n",
              "      <td>1</td>\n",
              "    </tr>\n",
              "  </tbody>\n",
              "</table>\n",
              "</div>"
            ],
            "text/plain": [
              "   index  ... rf_pred\n",
              "0   8749  ...       1\n",
              "\n",
              "[1 rows x 11 columns]"
            ]
          },
          "metadata": {
            "tags": []
          },
          "execution_count": 176
        }
      ]
    },
    {
      "cell_type": "code",
      "metadata": {
        "id": "N2_ATxG0ZKfn"
      },
      "source": [
        "rounded(rev8749)"
      ],
      "execution_count": null,
      "outputs": []
    },
    {
      "cell_type": "code",
      "metadata": {
        "colab": {
          "base_uri": "https://localhost:8080/",
          "height": 80
        },
        "id": "1eiVhKsUYXC3",
        "outputId": "f4f25750-8379-429f-a5cc-d72e825f75cc"
      },
      "source": [
        "\n",
        "res_special2 = rev8749[['index', 'label', 'bert_pred', 'rf_pred', 'category', 'length', 'r_pos_c', 'r_neg_c']]\n",
        "res_special2.head()"
      ],
      "execution_count": null,
      "outputs": [
        {
          "output_type": "execute_result",
          "data": {
            "text/html": [
              "<div>\n",
              "<style scoped>\n",
              "    .dataframe tbody tr th:only-of-type {\n",
              "        vertical-align: middle;\n",
              "    }\n",
              "\n",
              "    .dataframe tbody tr th {\n",
              "        vertical-align: top;\n",
              "    }\n",
              "\n",
              "    .dataframe thead th {\n",
              "        text-align: right;\n",
              "    }\n",
              "</style>\n",
              "<table border=\"1\" class=\"dataframe\">\n",
              "  <thead>\n",
              "    <tr style=\"text-align: right;\">\n",
              "      <th></th>\n",
              "      <th>index</th>\n",
              "      <th>label</th>\n",
              "      <th>bert_pred</th>\n",
              "      <th>rf_pred</th>\n",
              "      <th>category</th>\n",
              "      <th>length</th>\n",
              "      <th>r_pos_c</th>\n",
              "      <th>r_neg_c</th>\n",
              "    </tr>\n",
              "  </thead>\n",
              "  <tbody>\n",
              "    <tr>\n",
              "      <th>0</th>\n",
              "      <td>8749</td>\n",
              "      <td>1</td>\n",
              "      <td>1</td>\n",
              "      <td>1</td>\n",
              "      <td>Restaurant Industry</td>\n",
              "      <td>60</td>\n",
              "      <td>[great: 0.067, glad: 0.028, quick: 0.022, good...</td>\n",
              "      <td>[took: 0.036, people: 0.012, waiter: 0.012]</td>\n",
              "    </tr>\n",
              "  </tbody>\n",
              "</table>\n",
              "</div>"
            ],
            "text/plain": [
              "   index  ...                                      r_neg_c\n",
              "0   8749  ...  [took: 0.036, people: 0.012, waiter: 0.012]\n",
              "\n",
              "[1 rows x 8 columns]"
            ]
          },
          "metadata": {
            "tags": []
          },
          "execution_count": 178
        }
      ]
    },
    {
      "cell_type": "code",
      "metadata": {
        "colab": {
          "base_uri": "https://localhost:8080/"
        },
        "id": "BPU4OKDVZaPf",
        "outputId": "ee92e12c-4686-4fc2-9714-26dadf429042"
      },
      "source": [
        "print(rev8749['r_neg_c'][0])"
      ],
      "execution_count": null,
      "outputs": [
        {
          "output_type": "stream",
          "text": [
            "['took: 0.036', 'people: 0.012', 'waiter: 0.012']\n"
          ],
          "name": "stdout"
        }
      ]
    },
    {
      "cell_type": "markdown",
      "metadata": {
        "id": "6fsZM4qI2RBO"
      },
      "source": [
        "## Other revs manual"
      ]
    },
    {
      "cell_type": "code",
      "metadata": {
        "id": "vPFZwQY8bELJ"
      },
      "source": [
        "def rev_analysis(rev_i):\n",
        "  print('Positive contributions: ')\n",
        "  for i in range(len(analyzed_rev.positive_c[rev_i])):\n",
        "    if list(analyzed_rev.positive_c[rev_i].values())[i] > 0.01:\n",
        "      print(list(analyzed_rev.positive_c[rev_i].keys())[i])\n",
        "      print(list(analyzed_rev.positive_c[rev_i].values())[i])\n",
        "  print('')\n",
        "  print('Negative contributions: ')\n",
        "  for i in range(len(analyzed_rev.negative_c[rev_i])):\n",
        "    if list(analyzed_rev.negative_c[rev_i].values())[i] > 0.01:\n",
        "      print(list(analyzed_rev.negative_c[rev_i].keys())[i])\n",
        "      print(list(analyzed_rev.negative_c[rev_i].values())[i])\n",
        "  print('')\n",
        "  print(analyzed_rev[['label', 'rf_pred', 'length', 'category']][analyzed_rev.index == rev_i])\n",
        "  print('')\n",
        "  print(analyzed_rev.clean_text[rev_i])\n",
        "  print('' + '\\nOriginal Text: ')\n",
        "  print(analyzed_rev.text[rev_i])"
      ],
      "execution_count": null,
      "outputs": []
    }
  ]
}