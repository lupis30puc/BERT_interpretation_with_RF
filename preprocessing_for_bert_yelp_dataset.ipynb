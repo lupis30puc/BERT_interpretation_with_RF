{
  "nbformat": 4,
  "nbformat_minor": 0,
  "metadata": {
    "kernelspec": {
      "display_name": "Python 3",
      "language": "python",
      "name": "python3"
    },
    "language_info": {
      "codemirror_mode": {
        "name": "ipython",
        "version": 3
      },
      "file_extension": ".py",
      "mimetype": "text/x-python",
      "name": "python",
      "nbconvert_exporter": "python",
      "pygments_lexer": "ipython3",
      "version": "3.7.6"
    },
    "papermill": {
      "duration": 41.410024,
      "end_time": "2021-01-22T11:55:16.015306",
      "environment_variables": {},
      "exception": null,
      "input_path": "__notebook__.ipynb",
      "output_path": "__notebook__.ipynb",
      "parameters": {},
      "start_time": "2021-01-22T11:54:34.605282",
      "version": "2.1.0"
    },
    "colab": {
      "name": "preprocessing-for-bert-yelp-dataset.ipynb",
      "provenance": [],
      "collapsed_sections": [
        "5H57DsPpYibQ",
        "7ov5QcAcYZ6K",
        "mo37J-B6YZ6P"
      ],
      "include_colab_link": true
    }
  },
  "cells": [
    {
      "cell_type": "markdown",
      "metadata": {
        "id": "view-in-github",
        "colab_type": "text"
      },
      "source": [
        "<a href=\"https://colab.research.google.com/github/lupis30puc/BERT_interpretation_with_RF/blob/main/preprocessing_for_bert_yelp_dataset.ipynb\" target=\"_parent\"><img src=\"https://colab.research.google.com/assets/colab-badge.svg\" alt=\"Open In Colab\"/></a>"
      ]
    },
    {
      "cell_type": "markdown",
      "metadata": {
        "papermill": {
          "duration": 0.038874,
          "end_time": "2021-01-22T11:54:41.442233",
          "exception": false,
          "start_time": "2021-01-22T11:54:41.403359",
          "status": "completed"
        },
        "tags": [],
        "id": "Qu5TShkBYZ59"
      },
      "source": [
        "[Yelp dataset on kaggle](https://www.kaggle.com/yelp-dataset/yelp-dataset)\n",
        "\n",
        "On this notebook I obtain a sample of 12k reviews from the original Yelp dataset. \n",
        "\n",
        "For analysis purposes I simplify the starts rating into two labels: 0 ( negative) and 1 (positive). \n",
        "\n",
        "The sample dataset contains the review text, the label, the reviews' business categories, the cleaned version of the reviews and the reviews' length.\n",
        "\n",
        "These are the noteboooks I take as reference to process the Yelp dataset: [Sentiment analysis with Yelp and BERT](https://signal.onepointltd.com/post/102gc83/sentiment-analysis-with-yelp-and-bert), [Gil Mendez's repository](https://github.com/onepointconsulting/yelp_bert/blob/master/preprocess_data.ipynb), [Sentiment Analysis on Yelp reviews](https://github.com/Sonull/Sentiment-Analysis-on-Yelp-Reviews/blob/master/RF_and_SVM1.ipynb)\n",
        "\n"
      ]
    },
    {
      "cell_type": "markdown",
      "metadata": {
        "id": "5H57DsPpYibQ"
      },
      "source": [
        "## Connecting with Kaggle for the dataset"
      ]
    },
    {
      "cell_type": "code",
      "metadata": {
        "id": "Wog58Sf7YnsR"
      },
      "source": [
        "# as the dataset is very big (around 4GB), it's btter to connect to kaggle a pull the necessary sample only\n",
        "import json\n",
        "\n",
        "with open('kaggle.json', 'r') as myfile:\n",
        "    data=myfile.read()\n",
        "\n",
        "# parse file\n",
        "obj = json.loads(data)\n",
        "\n",
        "# show values\n",
        "print(\"username: \" + str(obj['username']))\n",
        "print(\"key: \" + str(obj['key']))\n"
      ],
      "execution_count": null,
      "outputs": []
    },
    {
      "cell_type": "code",
      "metadata": {
        "id": "Gz6U5QvQZmz3"
      },
      "source": [
        "!mkdir ~/.kaggle #create the .kaggle folder in your root directory\n",
        "!echo '{\"username\": \"angelapuc\", \"key\": \"59d8152009b75546f66c636d8b551bee\"}' > ~/.kaggle/kaggle.json #write kaggle API credentials to kaggle.json\n",
        "!chmod 600 ~/.kaggle/kaggle.json  # set permissions\n",
        "!pip install kaggle #install the kaggle library\n"
      ],
      "execution_count": null,
      "outputs": []
    },
    {
      "cell_type": "code",
      "metadata": {
        "id": "3d48W7ltaWYv"
      },
      "source": [
        "!kaggle datasets download -d {'yelp-dataset/yelp-dataset'} -p /content/kaggle/"
      ],
      "execution_count": null,
      "outputs": []
    },
    {
      "cell_type": "code",
      "metadata": {
        "id": "q7krzrHYb93h"
      },
      "source": [
        "!apt install unzip"
      ],
      "execution_count": null,
      "outputs": []
    },
    {
      "cell_type": "code",
      "metadata": {
        "id": "TOTmHsiIcalA"
      },
      "source": [
        "!unzip  /content/kaggle/yelp-dataset.zip -d /content/kaggle/yelp-dataset"
      ],
      "execution_count": null,
      "outputs": []
    },
    {
      "cell_type": "markdown",
      "metadata": {
        "papermill": {
          "duration": 0.056388,
          "end_time": "2021-01-22T11:54:43.376381",
          "exception": false,
          "start_time": "2021-01-22T11:54:43.319993",
          "status": "completed"
        },
        "tags": [],
        "id": "7ov5QcAcYZ6K"
      },
      "source": [
        "## Obtaining a sample of the reviews"
      ]
    },
    {
      "cell_type": "code",
      "metadata": {
        "_cell_guid": "b1076dfc-b9ad-4769-8c92-a6c4dae69d19",
        "_uuid": "8f2839f25d086af736a60e9eeb907d3b93b6e0e5",
        "execution": {
          "iopub.execute_input": "2021-01-22T11:54:41.520396Z",
          "iopub.status.busy": "2021-01-22T11:54:41.519486Z",
          "iopub.status.idle": "2021-01-22T11:54:43.262922Z",
          "shell.execute_reply": "2021-01-22T11:54:43.261670Z"
        },
        "papermill": {
          "duration": 1.78403,
          "end_time": "2021-01-22T11:54:43.263156",
          "exception": false,
          "start_time": "2021-01-22T11:54:41.479126",
          "status": "completed"
        },
        "tags": [],
        "id": "CbSTkkrVYZ6H"
      },
      "source": [
        "import numpy as np # linear algebra\n",
        "import pandas as pd # data processing, CSV file I/O (e.g. pd.read_csv)\n",
        "import matplotlib.pyplot as plt\n",
        "import seaborn as sns\n",
        "from collections import Counter\n",
        "import re\n",
        "from sklearn.model_selection import train_test_split"
      ],
      "execution_count": null,
      "outputs": []
    },
    {
      "cell_type": "code",
      "metadata": {
        "_cell_guid": "79c7e3d0-c299-4dcb-8224-4455121ee9b0",
        "_uuid": "d629ff2d2480ee46fbb7e2d37f6b5fab8052498a",
        "execution": {
          "iopub.execute_input": "2021-01-22T11:54:43.494326Z",
          "iopub.status.busy": "2021-01-22T11:54:43.493348Z",
          "iopub.status.idle": "2021-01-22T11:54:43.496038Z",
          "shell.execute_reply": "2021-01-22T11:54:43.495213Z"
        },
        "papermill": {
          "duration": 0.063776,
          "end_time": "2021-01-22T11:54:43.496171",
          "exception": false,
          "start_time": "2021-01-22T11:54:43.432395",
          "status": "completed"
        },
        "tags": [],
        "id": "HCP5c383YZ6L"
      },
      "source": [
        "review_file = '/content/kaggle/yelp-dataset/yelp_academic_dataset_review.json'"
      ],
      "execution_count": null,
      "outputs": []
    },
    {
      "cell_type": "code",
      "metadata": {
        "execution": {
          "iopub.execute_input": "2021-01-22T11:54:43.622263Z",
          "iopub.status.busy": "2021-01-22T11:54:43.621364Z",
          "iopub.status.idle": "2021-01-22T11:54:44.861548Z",
          "shell.execute_reply": "2021-01-22T11:54:44.862268Z"
        },
        "papermill": {
          "duration": 1.309748,
          "end_time": "2021-01-22T11:54:44.862452",
          "exception": false,
          "start_time": "2021-01-22T11:54:43.552704",
          "status": "completed"
        },
        "tags": [],
        "id": "8RtQhJijYZ6M"
      },
      "source": [
        "sample_size = 40000 # First we get a pre-liminary sample that we will balance afterwards\n",
        "simplified_reviews = './yelp_reviews_simple_{sample_size}.json'\n",
        "\n",
        "def extract_simplified(source, target, lines=1000):\n",
        "    with open(target, 'w') as sr:\n",
        "        cnt = 0;\n",
        "        with open(source) as file:\n",
        "            line = file.readline()\n",
        "            while line:\n",
        "                cnt += 1\n",
        "                if cnt == lines:\n",
        "                    break\n",
        "                if cnt % 100_000 == 0:\n",
        "                    print(f'Processed {cnt}')\n",
        "                try:\n",
        "                    line = file.readline().strip()\n",
        "                    review_dict = json.loads(line)\n",
        "                    # we define the columns we want to collect\n",
        "                    simplified = {'text':  review_dict['text'], 'stars': review_dict['stars'], 'business_id': review_dict['business_id']}\n",
        "                    simplified_text = json.dumps(simplified)\n",
        "                    sr.write(f'{simplified_text}\\n')\n",
        "                except:\n",
        "                    print(f'Could not parse {line}')\n",
        "                    \n",
        "extract_simplified(review_file, simplified_reviews, lines=sample_size)"
      ],
      "execution_count": null,
      "outputs": []
    },
    {
      "cell_type": "code",
      "metadata": {
        "execution": {
          "iopub.execute_input": "2021-01-22T11:54:44.988364Z",
          "iopub.status.busy": "2021-01-22T11:54:44.987302Z",
          "iopub.status.idle": "2021-01-22T11:54:46.318091Z",
          "shell.execute_reply": "2021-01-22T11:54:46.316966Z"
        },
        "papermill": {
          "duration": 1.396567,
          "end_time": "2021-01-22T11:54:46.318247",
          "exception": false,
          "start_time": "2021-01-22T11:54:44.921680",
          "status": "completed"
        },
        "tags": [],
        "colab": {
          "base_uri": "https://localhost:8080/"
        },
        "id": "TJWxW85sYZ6N",
        "outputId": "54357d06-375b-4f87-f8dd-3368a587ead0"
      },
      "source": [
        "simplified_reviews_pd = pd.read_json(simplified_reviews, lines=True)\n",
        "simplified_reviews_pd.info()"
      ],
      "execution_count": null,
      "outputs": [
        {
          "output_type": "stream",
          "text": [
            "<class 'pandas.core.frame.DataFrame'>\n",
            "RangeIndex: 39999 entries, 0 to 39998\n",
            "Data columns (total 3 columns):\n",
            " #   Column       Non-Null Count  Dtype \n",
            "---  ------       --------------  ----- \n",
            " 0   text         39999 non-null  object\n",
            " 1   stars        39999 non-null  int64 \n",
            " 2   business_id  39999 non-null  object\n",
            "dtypes: int64(1), object(2)\n",
            "memory usage: 937.6+ KB\n"
          ],
          "name": "stdout"
        }
      ]
    },
    {
      "cell_type": "code",
      "metadata": {
        "execution": {
          "iopub.execute_input": "2021-01-22T11:54:46.402796Z",
          "iopub.status.busy": "2021-01-22T11:54:46.402144Z",
          "iopub.status.idle": "2021-01-22T11:54:46.410293Z",
          "shell.execute_reply": "2021-01-22T11:54:46.409273Z"
        },
        "papermill": {
          "duration": 0.052881,
          "end_time": "2021-01-22T11:54:46.410419",
          "exception": false,
          "start_time": "2021-01-22T11:54:46.357538",
          "status": "completed"
        },
        "tags": [],
        "colab": {
          "base_uri": "https://localhost:8080/"
        },
        "id": "OXN7hTSSYZ6N",
        "outputId": "24eca9e7-7d9a-4723-a876-238d9ecbe4de"
      },
      "source": [
        "simplified_reviews_pd.shape"
      ],
      "execution_count": null,
      "outputs": [
        {
          "output_type": "execute_result",
          "data": {
            "text/plain": [
              "(39999, 3)"
            ]
          },
          "metadata": {
            "tags": []
          },
          "execution_count": 11
        }
      ]
    },
    {
      "cell_type": "code",
      "metadata": {
        "execution": {
          "iopub.execute_input": "2021-01-22T11:54:46.520098Z",
          "iopub.status.busy": "2021-01-22T11:54:46.519436Z",
          "iopub.status.idle": "2021-01-22T11:54:46.530347Z",
          "shell.execute_reply": "2021-01-22T11:54:46.530915Z"
        },
        "papermill": {
          "duration": 0.079888,
          "end_time": "2021-01-22T11:54:46.531070",
          "exception": false,
          "start_time": "2021-01-22T11:54:46.451182",
          "status": "completed"
        },
        "tags": [],
        "colab": {
          "base_uri": "https://localhost:8080/",
          "height": 204
        },
        "id": "URFl2agJYZ6O",
        "outputId": "d762f458-29ac-4911-c984-c861d920b4c9"
      },
      "source": [
        "simplified_reviews_pd.head()"
      ],
      "execution_count": null,
      "outputs": [
        {
          "output_type": "execute_result",
          "data": {
            "text/html": [
              "<div>\n",
              "<style scoped>\n",
              "    .dataframe tbody tr th:only-of-type {\n",
              "        vertical-align: middle;\n",
              "    }\n",
              "\n",
              "    .dataframe tbody tr th {\n",
              "        vertical-align: top;\n",
              "    }\n",
              "\n",
              "    .dataframe thead th {\n",
              "        text-align: right;\n",
              "    }\n",
              "</style>\n",
              "<table border=\"1\" class=\"dataframe\">\n",
              "  <thead>\n",
              "    <tr style=\"text-align: right;\">\n",
              "      <th></th>\n",
              "      <th>text</th>\n",
              "      <th>stars</th>\n",
              "      <th>business_id</th>\n",
              "    </tr>\n",
              "  </thead>\n",
              "  <tbody>\n",
              "    <tr>\n",
              "      <th>0</th>\n",
              "      <td>I am actually horrified this place is still in...</td>\n",
              "      <td>1</td>\n",
              "      <td>lbrU8StCq3yDfr-QMnGrmQ</td>\n",
              "    </tr>\n",
              "    <tr>\n",
              "      <th>1</th>\n",
              "      <td>I love Deagan's. I do. I really do. The atmosp...</td>\n",
              "      <td>5</td>\n",
              "      <td>HQl28KMwrEKHqhFrrDqVNQ</td>\n",
              "    </tr>\n",
              "    <tr>\n",
              "      <th>2</th>\n",
              "      <td>Dismal, lukewarm, defrosted-tasting \"TexMex\" g...</td>\n",
              "      <td>1</td>\n",
              "      <td>5JxlZaqCnk1MnbgRirs40Q</td>\n",
              "    </tr>\n",
              "    <tr>\n",
              "      <th>3</th>\n",
              "      <td>Oh happy day, finally have a Canes near my cas...</td>\n",
              "      <td>4</td>\n",
              "      <td>IS4cv902ykd8wj1TR0N3-A</td>\n",
              "    </tr>\n",
              "    <tr>\n",
              "      <th>4</th>\n",
              "      <td>This is definitely my favorite fast food sub s...</td>\n",
              "      <td>5</td>\n",
              "      <td>nlxHRv1zXGT0c0K51q3jDg</td>\n",
              "    </tr>\n",
              "  </tbody>\n",
              "</table>\n",
              "</div>"
            ],
            "text/plain": [
              "                                                text  ...             business_id\n",
              "0  I am actually horrified this place is still in...  ...  lbrU8StCq3yDfr-QMnGrmQ\n",
              "1  I love Deagan's. I do. I really do. The atmosp...  ...  HQl28KMwrEKHqhFrrDqVNQ\n",
              "2  Dismal, lukewarm, defrosted-tasting \"TexMex\" g...  ...  5JxlZaqCnk1MnbgRirs40Q\n",
              "3  Oh happy day, finally have a Canes near my cas...  ...  IS4cv902ykd8wj1TR0N3-A\n",
              "4  This is definitely my favorite fast food sub s...  ...  nlxHRv1zXGT0c0K51q3jDg\n",
              "\n",
              "[5 rows x 3 columns]"
            ]
          },
          "metadata": {
            "tags": []
          },
          "execution_count": 12
        }
      ]
    },
    {
      "cell_type": "markdown",
      "metadata": {
        "papermill": {
          "duration": 0.040691,
          "end_time": "2021-01-22T11:54:46.611983",
          "exception": false,
          "start_time": "2021-01-22T11:54:46.571292",
          "status": "completed"
        },
        "tags": [],
        "id": "mo37J-B6YZ6P"
      },
      "source": [
        "## Balancing the dataset and obtaining only 2 labels"
      ]
    },
    {
      "cell_type": "code",
      "metadata": {
        "execution": {
          "iopub.execute_input": "2021-01-22T11:54:46.698749Z",
          "iopub.status.busy": "2021-01-22T11:54:46.697576Z",
          "iopub.status.idle": "2021-01-22T11:54:46.709183Z",
          "shell.execute_reply": "2021-01-22T11:54:46.708461Z"
        },
        "papermill": {
          "duration": 0.056628,
          "end_time": "2021-01-22T11:54:46.709294",
          "exception": false,
          "start_time": "2021-01-22T11:54:46.652666",
          "status": "completed"
        },
        "tags": [],
        "colab": {
          "base_uri": "https://localhost:8080/"
        },
        "id": "CtjuJ7PXYZ6P",
        "outputId": "9c9888a3-61d5-4cb2-f52c-89c29d00c1f8"
      },
      "source": [
        "simplified_reviews_pd['stars'].value_counts()"
      ],
      "execution_count": null,
      "outputs": [
        {
          "output_type": "execute_result",
          "data": {
            "text/plain": [
              "5    17495\n",
              "4     9218\n",
              "1     5593\n",
              "3     4445\n",
              "2     3248\n",
              "Name: stars, dtype: int64"
            ]
          },
          "metadata": {
            "tags": []
          },
          "execution_count": 13
        }
      ]
    },
    {
      "cell_type": "code",
      "metadata": {
        "execution": {
          "iopub.execute_input": "2021-01-22T11:54:46.796585Z",
          "iopub.status.busy": "2021-01-22T11:54:46.795148Z",
          "iopub.status.idle": "2021-01-22T11:54:47.044259Z",
          "shell.execute_reply": "2021-01-22T11:54:47.043370Z"
        },
        "papermill": {
          "duration": 0.29445,
          "end_time": "2021-01-22T11:54:47.044376",
          "exception": false,
          "start_time": "2021-01-22T11:54:46.749926",
          "status": "completed"
        },
        "tags": [],
        "colab": {
          "base_uri": "https://localhost:8080/",
          "height": 350
        },
        "id": "kk1wL6_VYZ6Q",
        "outputId": "b6b7aeec-ea4d-41bf-a6fa-27c1df905c8b"
      },
      "source": [
        "sns.countplot(simplified_reviews_pd['stars'])"
      ],
      "execution_count": null,
      "outputs": [
        {
          "output_type": "stream",
          "text": [
            "/usr/local/lib/python3.6/dist-packages/seaborn/_decorators.py:43: FutureWarning: Pass the following variable as a keyword arg: x. From version 0.12, the only valid positional argument will be `data`, and passing other arguments without an explicit keyword will result in an error or misinterpretation.\n",
            "  FutureWarning\n"
          ],
          "name": "stderr"
        },
        {
          "output_type": "execute_result",
          "data": {
            "text/plain": [
              "<matplotlib.axes._subplots.AxesSubplot at 0x7f982a56fc50>"
            ]
          },
          "metadata": {
            "tags": []
          },
          "execution_count": 14
        },
        {
          "output_type": "display_data",
          "data": {
            "image/png": "[encoded data removed]",
            "text/plain": [
              "<Figure size 432x288 with 1 Axes>"
            ]
          },
          "metadata": {
            "tags": [],
            "needs_background": "light"
          }
        }
      ]
    },
    {
      "cell_type": "code",
      "metadata": {
        "execution": {
          "iopub.execute_input": "2021-01-22T11:54:47.148008Z",
          "iopub.status.busy": "2021-01-22T11:54:47.147169Z",
          "iopub.status.idle": "2021-01-22T11:54:47.153619Z",
          "shell.execute_reply": "2021-01-22T11:54:47.153057Z"
        },
        "papermill": {
          "duration": 0.067548,
          "end_time": "2021-01-22T11:54:47.153757",
          "exception": false,
          "start_time": "2021-01-22T11:54:47.086209",
          "status": "completed"
        },
        "tags": [],
        "id": "iwn0oSqmYZ6Q"
      },
      "source": [
        "# we initialize a Counter fucntion to determine which is the min count in the star ratings\n",
        "counter_star = Counter(simplified_reviews_pd['stars'])"
      ],
      "execution_count": null,
      "outputs": []
    },
    {
      "cell_type": "code",
      "metadata": {
        "execution": {
          "iopub.execute_input": "2021-01-22T11:54:47.246834Z",
          "iopub.status.busy": "2021-01-22T11:54:47.245951Z",
          "iopub.status.idle": "2021-01-22T11:54:47.253279Z",
          "shell.execute_reply": "2021-01-22T11:54:47.252161Z"
        },
        "papermill": {
          "duration": 0.058014,
          "end_time": "2021-01-22T11:54:47.253508",
          "exception": false,
          "start_time": "2021-01-22T11:54:47.195494",
          "status": "completed"
        },
        "tags": [],
        "colab": {
          "base_uri": "https://localhost:8080/"
        },
        "id": "pCp8x0rBYZ6Q",
        "outputId": "089bbd09-2b2a-426d-87e2-34e83eaae3af"
      },
      "source": [
        "min_class = -1\n",
        "min_amount = 1000000000\n",
        "for cs in counter_star:\n",
        "    if min_amount > counter_star[cs]:\n",
        "        min_amount = counter_star[cs]\n",
        "        min_class = cs\n",
        "min_class, min_amount"
      ],
      "execution_count": null,
      "outputs": [
        {
          "output_type": "execute_result",
          "data": {
            "text/plain": [
              "(2, 3248)"
            ]
          },
          "metadata": {
            "tags": []
          },
          "execution_count": 16
        }
      ]
    },
    {
      "cell_type": "code",
      "metadata": {
        "execution": {
          "iopub.execute_input": "2021-01-22T11:54:47.346170Z",
          "iopub.status.busy": "2021-01-22T11:54:47.345402Z",
          "iopub.status.idle": "2021-01-22T11:54:47.351539Z",
          "shell.execute_reply": "2021-01-22T11:54:47.350990Z"
        },
        "papermill": {
          "duration": 0.055538,
          "end_time": "2021-01-22T11:54:47.351647",
          "exception": false,
          "start_time": "2021-01-22T11:54:47.296109",
          "status": "completed"
        },
        "tags": [],
        "colab": {
          "base_uri": "https://localhost:8080/"
        },
        "id": "b4-w67nUYZ6R",
        "outputId": "a2789082-ec11-4823-906e-3253056eabb6"
      },
      "source": [
        "# we then define how much reviews are we going to delete to balance the sample\n",
        "remove_amounts = {c: abs(min_amount - counter_star[c]) for c in counter_star}\n",
        "remove_amounts"
      ],
      "execution_count": null,
      "outputs": [
        {
          "output_type": "execute_result",
          "data": {
            "text/plain": [
              "{1: 2345, 2: 0, 3: 1197, 4: 5970, 5: 14247}"
            ]
          },
          "metadata": {
            "tags": []
          },
          "execution_count": 17
        }
      ]
    },
    {
      "cell_type": "code",
      "metadata": {
        "execution": {
          "iopub.execute_input": "2021-01-22T11:54:47.443600Z",
          "iopub.status.busy": "2021-01-22T11:54:47.442844Z",
          "iopub.status.idle": "2021-01-22T11:54:47.449054Z",
          "shell.execute_reply": "2021-01-22T11:54:47.448428Z"
        },
        "papermill": {
          "duration": 0.054354,
          "end_time": "2021-01-22T11:54:47.449185",
          "exception": false,
          "start_time": "2021-01-22T11:54:47.394831",
          "status": "completed"
        },
        "tags": [],
        "colab": {
          "base_uri": "https://localhost:8080/"
        },
        "id": "O3VU_pEnYZ6R",
        "outputId": "d3d9e014-c1f8-4c34-ceac-f65e10f1792b"
      },
      "source": [
        "remove_amounts[1] -= 1\n",
        "remove_amounts"
      ],
      "execution_count": null,
      "outputs": [
        {
          "output_type": "execute_result",
          "data": {
            "text/plain": [
              "{1: 2344, 2: 0, 3: 1197, 4: 5970, 5: 14247}"
            ]
          },
          "metadata": {
            "tags": []
          },
          "execution_count": 18
        }
      ]
    },
    {
      "cell_type": "code",
      "metadata": {
        "execution": {
          "iopub.execute_input": "2021-01-22T11:54:47.550761Z",
          "iopub.status.busy": "2021-01-22T11:54:47.543691Z",
          "iopub.status.idle": "2021-01-22T11:54:51.888191Z",
          "shell.execute_reply": "2021-01-22T11:54:51.887507Z"
        },
        "papermill": {
          "duration": 4.394396,
          "end_time": "2021-01-22T11:54:51.888305",
          "exception": false,
          "start_time": "2021-01-22T11:54:47.493909",
          "status": "completed"
        },
        "tags": [],
        "colab": {
          "base_uri": "https://localhost:8080/"
        },
        "id": "sNBXRF5NYZ6S",
        "outputId": "8a453ebf-0388-48e6-af4a-5356f701f16c"
      },
      "source": [
        "%%time\n",
        "drop_indices = []\n",
        "for index, row in simplified_reviews_pd.iterrows():\n",
        "    if remove_amounts[row['stars']] > 0:\n",
        "        remove_amounts[row['stars']] -= 1\n",
        "        drop_indices.append(index)\n",
        "len(drop_indices)"
      ],
      "execution_count": null,
      "outputs": [
        {
          "output_type": "stream",
          "text": [
            "CPU times: user 3.43 s, sys: 560 µs, total: 3.43 s\n",
            "Wall time: 3.46 s\n"
          ],
          "name": "stdout"
        }
      ]
    },
    {
      "cell_type": "code",
      "metadata": {
        "execution": {
          "iopub.execute_input": "2021-01-22T11:54:51.984250Z",
          "iopub.status.busy": "2021-01-22T11:54:51.983579Z",
          "iopub.status.idle": "2021-01-22T11:54:51.994132Z",
          "shell.execute_reply": "2021-01-22T11:54:51.993007Z"
        },
        "papermill": {
          "duration": 0.062091,
          "end_time": "2021-01-22T11:54:51.994285",
          "exception": false,
          "start_time": "2021-01-22T11:54:51.932194",
          "status": "completed"
        },
        "tags": [],
        "id": "SUzm0_GMYZ6U"
      },
      "source": [
        "balanced_simplified_reviews = simplified_reviews_pd.drop(drop_indices)"
      ],
      "execution_count": null,
      "outputs": []
    },
    {
      "cell_type": "code",
      "metadata": {
        "execution": {
          "iopub.execute_input": "2021-01-22T11:54:52.088408Z",
          "iopub.status.busy": "2021-01-22T11:54:52.087751Z",
          "iopub.status.idle": "2021-01-22T11:54:52.223039Z",
          "shell.execute_reply": "2021-01-22T11:54:52.222450Z"
        },
        "papermill": {
          "duration": 0.183456,
          "end_time": "2021-01-22T11:54:52.223156",
          "exception": false,
          "start_time": "2021-01-22T11:54:52.039700",
          "status": "completed"
        },
        "tags": [],
        "colab": {
          "base_uri": "https://localhost:8080/",
          "height": 350
        },
        "id": "3cpsXjYiYZ6V",
        "outputId": "81bdc5b2-69b2-4872-94a0-bce739a15afe"
      },
      "source": [
        "# the distribution is balanced now\n",
        "sns.countplot(balanced_simplified_reviews['stars'])"
      ],
      "execution_count": null,
      "outputs": [
        {
          "output_type": "stream",
          "text": [
            "/usr/local/lib/python3.6/dist-packages/seaborn/_decorators.py:43: FutureWarning: Pass the following variable as a keyword arg: x. From version 0.12, the only valid positional argument will be `data`, and passing other arguments without an explicit keyword will result in an error or misinterpretation.\n",
            "  FutureWarning\n"
          ],
          "name": "stderr"
        },
        {
          "output_type": "execute_result",
          "data": {
            "text/plain": [
              "<matplotlib.axes._subplots.AxesSubplot at 0x7f982a41d278>"
            ]
          },
          "metadata": {
            "tags": []
          },
          "execution_count": 21
        },
        {
          "output_type": "display_data",
          "data": {
            "image/png": "[encoded data removed]",
            "text/plain": [
              "<Figure size 432x288 with 1 Axes>"
            ]
          },
          "metadata": {
            "tags": [],
            "needs_background": "light"
          }
        }
      ]
    },
    {
      "cell_type": "code",
      "metadata": {
        "execution": {
          "iopub.execute_input": "2021-01-22T11:54:52.320163Z",
          "iopub.status.busy": "2021-01-22T11:54:52.319517Z",
          "iopub.status.idle": "2021-01-22T11:54:52.324968Z",
          "shell.execute_reply": "2021-01-22T11:54:52.324353Z"
        },
        "papermill": {
          "duration": 0.055181,
          "end_time": "2021-01-22T11:54:52.325086",
          "exception": false,
          "start_time": "2021-01-22T11:54:52.269905",
          "status": "completed"
        },
        "tags": [],
        "colab": {
          "base_uri": "https://localhost:8080/"
        },
        "id": "AJbc0yZFYZ6V",
        "outputId": "39e9a8a2-9afd-40d5-a8b5-a2773fa938a4"
      },
      "source": [
        "balanced_simplified_reviews['stars'].unique()"
      ],
      "execution_count": null,
      "outputs": [
        {
          "output_type": "execute_result",
          "data": {
            "text/plain": [
              "array([2, 3, 1, 4, 5])"
            ]
          },
          "metadata": {
            "tags": []
          },
          "execution_count": 22
        }
      ]
    },
    {
      "cell_type": "code",
      "metadata": {
        "execution": {
          "iopub.execute_input": "2021-01-22T11:54:52.425124Z",
          "iopub.status.busy": "2021-01-22T11:54:52.424446Z",
          "iopub.status.idle": "2021-01-22T11:54:52.435872Z",
          "shell.execute_reply": "2021-01-22T11:54:52.436375Z"
        },
        "papermill": {
          "duration": 0.065075,
          "end_time": "2021-01-22T11:54:52.436523",
          "exception": false,
          "start_time": "2021-01-22T11:54:52.371448",
          "status": "completed"
        },
        "tags": [],
        "colab": {
          "base_uri": "https://localhost:8080/"
        },
        "id": "hITiY9elYZ6W",
        "outputId": "03305d5d-f331-450a-89a8-e08ecb61c183"
      },
      "source": [
        "# dropping reviews with 3 stars\n",
        "balanced_simplified_reviews.drop(balanced_simplified_reviews.index[balanced_simplified_reviews['stars'] == 3], inplace = True)\n",
        "print('yelp_reviews labels: ' + str(balanced_simplified_reviews.stars.unique()))\n",
        "print('yelp_reviews shape: ' + str(balanced_simplified_reviews.shape))\n"
      ],
      "execution_count": null,
      "outputs": [
        {
          "output_type": "stream",
          "text": [
            "yelp_reviews labels: [2 1 4 5]\n",
            "yelp_reviews shape: (12993, 3)\n"
          ],
          "name": "stdout"
        }
      ]
    },
    {
      "cell_type": "code",
      "metadata": {
        "execution": {
          "iopub.execute_input": "2021-01-22T11:54:52.535894Z",
          "iopub.status.busy": "2021-01-22T11:54:52.535155Z",
          "iopub.status.idle": "2021-01-22T11:54:52.542571Z",
          "shell.execute_reply": "2021-01-22T11:54:52.543148Z"
        },
        "papermill": {
          "duration": 0.060045,
          "end_time": "2021-01-22T11:54:52.543296",
          "exception": false,
          "start_time": "2021-01-22T11:54:52.483251",
          "status": "completed"
        },
        "tags": [],
        "colab": {
          "base_uri": "https://localhost:8080/"
        },
        "id": "l-iRULjsYZ6X",
        "outputId": "c1e37016-8b3a-4ca4-cbcd-e8c7916448fd"
      },
      "source": [
        "# changing to only 2 labels: 0=negative, 1=positive\n",
        "balanced_simplified_reviews['label'] = balanced_simplified_reviews['stars'].replace({1:0,2:0,4:1,5:1})\n",
        "balanced_simplified_reviews['stars'].value_counts()"
      ],
      "execution_count": null,
      "outputs": [
        {
          "output_type": "execute_result",
          "data": {
            "text/plain": [
              "1    3249\n",
              "5    3248\n",
              "4    3248\n",
              "2    3248\n",
              "Name: stars, dtype: int64"
            ]
          },
          "metadata": {
            "tags": []
          },
          "execution_count": 24
        }
      ]
    },
    {
      "cell_type": "code",
      "metadata": {
        "execution": {
          "iopub.execute_input": "2021-01-22T11:54:52.767046Z",
          "iopub.status.busy": "2021-01-22T11:54:52.755154Z",
          "iopub.status.idle": "2021-01-22T11:54:52.772564Z",
          "shell.execute_reply": "2021-01-22T11:54:52.771634Z"
        },
        "papermill": {
          "duration": 0.072054,
          "end_time": "2021-01-22T11:54:52.772710",
          "exception": false,
          "start_time": "2021-01-22T11:54:52.700656",
          "status": "completed"
        },
        "tags": [],
        "colab": {
          "base_uri": "https://localhost:8080/",
          "height": 111
        },
        "id": "A315MsGKYZ6Y",
        "outputId": "ba178b53-af3b-4cdd-d308-5492e02f63d4"
      },
      "source": [
        "balanced_simplified_reviews.drop('stars',inplace=True,axis = 1)\n",
        "balanced_simplified_reviews.head(2)"
      ],
      "execution_count": null,
      "outputs": [
        {
          "output_type": "execute_result",
          "data": {
            "text/html": [
              "<div>\n",
              "<style scoped>\n",
              "    .dataframe tbody tr th:only-of-type {\n",
              "        vertical-align: middle;\n",
              "    }\n",
              "\n",
              "    .dataframe tbody tr th {\n",
              "        vertical-align: top;\n",
              "    }\n",
              "\n",
              "    .dataframe thead th {\n",
              "        text-align: right;\n",
              "    }\n",
              "</style>\n",
              "<table border=\"1\" class=\"dataframe\">\n",
              "  <thead>\n",
              "    <tr style=\"text-align: right;\">\n",
              "      <th></th>\n",
              "      <th>text</th>\n",
              "      <th>business_id</th>\n",
              "      <th>label</th>\n",
              "    </tr>\n",
              "  </thead>\n",
              "  <tbody>\n",
              "    <tr>\n",
              "      <th>31</th>\n",
              "      <td>This actually used to be one of my favorite ho...</td>\n",
              "      <td>LkMtMHVetws5_7QfRjPtlg</td>\n",
              "      <td>0</td>\n",
              "    </tr>\n",
              "    <tr>\n",
              "      <th>62</th>\n",
              "      <td>Decent food. Fishermen lobster or even congee ...</td>\n",
              "      <td>eNFubUPJR7yIQah-NxZN_g</td>\n",
              "      <td>0</td>\n",
              "    </tr>\n",
              "  </tbody>\n",
              "</table>\n",
              "</div>"
            ],
            "text/plain": [
              "                                                 text  ... label\n",
              "31  This actually used to be one of my favorite ho...  ...     0\n",
              "62  Decent food. Fishermen lobster or even congee ...  ...     0\n",
              "\n",
              "[2 rows x 3 columns]"
            ]
          },
          "metadata": {
            "tags": []
          },
          "execution_count": 26
        }
      ]
    },
    {
      "cell_type": "code",
      "metadata": {
        "execution": {
          "iopub.execute_input": "2021-01-22T11:54:53.082960Z",
          "iopub.status.busy": "2021-01-22T11:54:53.082078Z",
          "iopub.status.idle": "2021-01-22T11:54:53.089352Z",
          "shell.execute_reply": "2021-01-22T11:54:53.090055Z"
        },
        "papermill": {
          "duration": 0.085057,
          "end_time": "2021-01-22T11:54:53.090253",
          "exception": false,
          "start_time": "2021-01-22T11:54:53.005196",
          "status": "completed"
        },
        "tags": [],
        "id": "5iocLXPSYZ6Z"
      },
      "source": [
        "balanced_simplified_reviews.shape"
      ],
      "execution_count": null,
      "outputs": []
    },
    {
      "cell_type": "markdown",
      "metadata": {
        "papermill": {
          "duration": 0.073814,
          "end_time": "2021-01-22T11:54:53.237491",
          "exception": false,
          "start_time": "2021-01-22T11:54:53.163677",
          "status": "completed"
        },
        "tags": [],
        "id": "Kqph4kddYZ6Z"
      },
      "source": [
        "## Getting the business categories for each review"
      ]
    },
    {
      "cell_type": "code",
      "metadata": {
        "execution": {
          "iopub.execute_input": "2021-01-22T11:54:53.399047Z",
          "iopub.status.busy": "2021-01-22T11:54:53.395982Z",
          "iopub.status.idle": "2021-01-22T11:54:53.402028Z",
          "shell.execute_reply": "2021-01-22T11:54:53.402543Z"
        },
        "papermill": {
          "duration": 0.091073,
          "end_time": "2021-01-22T11:54:53.402679",
          "exception": false,
          "start_time": "2021-01-22T11:54:53.311606",
          "status": "completed"
        },
        "tags": [],
        "id": "5cVr3pZgYZ6a"
      },
      "source": [
        "# since the business file is not that big, we obtain it in a differet way\n",
        "import time\n",
        "def init_ds(json):\n",
        "    ds= {}\n",
        "    keys = json.keys()\n",
        "    for k in keys:\n",
        "        ds[k]= []\n",
        "    return ds, keys\n",
        "\n",
        "def read_json(file):\n",
        "    dataset = {}\n",
        "    keys = []\n",
        "    with open(file) as file_lines:\n",
        "        for count, line in enumerate(file_lines):\n",
        "            data = json.loads(line.strip())\n",
        "            if count ==0:\n",
        "                dataset, keys = init_ds(data)\n",
        "            for k in keys:\n",
        "                dataset[k].append(data[k])\n",
        "                \n",
        "        return pd.DataFrame(dataset)"
      ],
      "execution_count": null,
      "outputs": []
    },
    {
      "cell_type": "code",
      "metadata": {
        "execution": {
          "iopub.execute_input": "2021-01-22T11:54:53.529783Z",
          "iopub.status.busy": "2021-01-22T11:54:53.529035Z",
          "iopub.status.idle": "2021-01-22T11:54:59.626899Z",
          "shell.execute_reply": "2021-01-22T11:54:59.627605Z"
        },
        "papermill": {
          "duration": 6.166549,
          "end_time": "2021-01-22T11:54:59.627811",
          "exception": false,
          "start_time": "2021-01-22T11:54:53.461262",
          "status": "completed"
        },
        "tags": [],
        "colab": {
          "base_uri": "https://localhost:8080/"
        },
        "id": "Q45EFg1tYZ6a",
        "outputId": "bdd688ae-ddc9-431f-ab11-bcf5039cf073"
      },
      "source": [
        "%%time\n",
        "print('loading business data...')\n",
        "business_df = read_json('/content/kaggle/yelp-dataset/yelp_academic_dataset_business.json')"
      ],
      "execution_count": null,
      "outputs": [
        {
          "output_type": "stream",
          "text": [
            "loading business data...\n",
            "CPU times: user 3.79 s, sys: 414 ms, total: 4.2 s\n",
            "Wall time: 4.22 s\n"
          ],
          "name": "stdout"
        }
      ]
    },
    {
      "cell_type": "code",
      "metadata": {
        "execution": {
          "iopub.execute_input": "2021-01-22T11:54:59.799896Z",
          "iopub.status.busy": "2021-01-22T11:54:59.799200Z",
          "iopub.status.idle": "2021-01-22T11:54:59.806498Z",
          "shell.execute_reply": "2021-01-22T11:54:59.805906Z"
        },
        "papermill": {
          "duration": 0.103459,
          "end_time": "2021-01-22T11:54:59.806612",
          "exception": false,
          "start_time": "2021-01-22T11:54:59.703153",
          "status": "completed"
        },
        "tags": [],
        "colab": {
          "base_uri": "https://localhost:8080/",
          "height": 284
        },
        "id": "uypx9Zb3YZ6b",
        "outputId": "bfe78924-8b2e-403d-959e-f969bdd0d551"
      },
      "source": [
        "business_df.head(2)"
      ],
      "execution_count": null,
      "outputs": [
        {
          "output_type": "execute_result",
          "data": {
            "text/html": [
              "<div>\n",
              "<style scoped>\n",
              "    .dataframe tbody tr th:only-of-type {\n",
              "        vertical-align: middle;\n",
              "    }\n",
              "\n",
              "    .dataframe tbody tr th {\n",
              "        vertical-align: top;\n",
              "    }\n",
              "\n",
              "    .dataframe thead th {\n",
              "        text-align: right;\n",
              "    }\n",
              "</style>\n",
              "<table border=\"1\" class=\"dataframe\">\n",
              "  <thead>\n",
              "    <tr style=\"text-align: right;\">\n",
              "      <th></th>\n",
              "      <th>business_id</th>\n",
              "      <th>name</th>\n",
              "      <th>address</th>\n",
              "      <th>city</th>\n",
              "      <th>state</th>\n",
              "      <th>postal_code</th>\n",
              "      <th>latitude</th>\n",
              "      <th>longitude</th>\n",
              "      <th>stars</th>\n",
              "      <th>review_count</th>\n",
              "      <th>is_open</th>\n",
              "      <th>attributes</th>\n",
              "      <th>categories</th>\n",
              "      <th>hours</th>\n",
              "    </tr>\n",
              "  </thead>\n",
              "  <tbody>\n",
              "    <tr>\n",
              "      <th>0</th>\n",
              "      <td>f9NumwFMBDn751xgFiRbNA</td>\n",
              "      <td>The Range At Lake Norman</td>\n",
              "      <td>10913 Bailey Rd</td>\n",
              "      <td>Cornelius</td>\n",
              "      <td>NC</td>\n",
              "      <td>28031</td>\n",
              "      <td>35.462724</td>\n",
              "      <td>-80.852612</td>\n",
              "      <td>3.5</td>\n",
              "      <td>36</td>\n",
              "      <td>1</td>\n",
              "      <td>{'BusinessAcceptsCreditCards': 'True', 'BikePa...</td>\n",
              "      <td>Active Life, Gun/Rifle Ranges, Guns &amp; Ammo, Sh...</td>\n",
              "      <td>{'Monday': '10:0-18:0', 'Tuesday': '11:0-20:0'...</td>\n",
              "    </tr>\n",
              "    <tr>\n",
              "      <th>1</th>\n",
              "      <td>Yzvjg0SayhoZgCljUJRF9Q</td>\n",
              "      <td>Carlos Santo, NMD</td>\n",
              "      <td>8880 E Via Linda, Ste 107</td>\n",
              "      <td>Scottsdale</td>\n",
              "      <td>AZ</td>\n",
              "      <td>85258</td>\n",
              "      <td>33.569404</td>\n",
              "      <td>-111.890264</td>\n",
              "      <td>5.0</td>\n",
              "      <td>4</td>\n",
              "      <td>1</td>\n",
              "      <td>{'GoodForKids': 'True', 'ByAppointmentOnly': '...</td>\n",
              "      <td>Health &amp; Medical, Fitness &amp; Instruction, Yoga,...</td>\n",
              "      <td>None</td>\n",
              "    </tr>\n",
              "  </tbody>\n",
              "</table>\n",
              "</div>"
            ],
            "text/plain": [
              "              business_id  ...                                              hours\n",
              "0  f9NumwFMBDn751xgFiRbNA  ...  {'Monday': '10:0-18:0', 'Tuesday': '11:0-20:0'...\n",
              "1  Yzvjg0SayhoZgCljUJRF9Q  ...                                               None\n",
              "\n",
              "[2 rows x 14 columns]"
            ]
          },
          "metadata": {
            "tags": []
          },
          "execution_count": 32
        }
      ]
    },
    {
      "cell_type": "code",
      "metadata": {
        "execution": {
          "iopub.execute_input": "2021-01-22T11:55:00.029878Z",
          "iopub.status.busy": "2021-01-22T11:54:59.959420Z",
          "iopub.status.idle": "2021-01-22T11:55:00.039629Z",
          "shell.execute_reply": "2021-01-22T11:55:00.038811Z"
        },
        "papermill": {
          "duration": 0.179892,
          "end_time": "2021-01-22T11:55:00.039802",
          "exception": false,
          "start_time": "2021-01-22T11:54:59.859910",
          "status": "completed"
        },
        "tags": [],
        "colab": {
          "base_uri": "https://localhost:8080/"
        },
        "id": "kdp-nabPYZ6c",
        "outputId": "58c65861-34d2-4fdd-ea0e-b3f4e1f5473e"
      },
      "source": [
        "# on the whole dataset there are more than 100k categories\n",
        "len(business_df.categories.unique())"
      ],
      "execution_count": null,
      "outputs": [
        {
          "output_type": "execute_result",
          "data": {
            "text/plain": [
              "102495"
            ]
          },
          "metadata": {
            "tags": []
          },
          "execution_count": 33
        }
      ]
    },
    {
      "cell_type": "code",
      "metadata": {
        "execution": {
          "iopub.execute_input": "2021-01-22T11:55:00.297408Z",
          "iopub.status.busy": "2021-01-22T11:55:00.230078Z",
          "iopub.status.idle": "2021-01-22T11:55:00.308006Z",
          "shell.execute_reply": "2021-01-22T11:55:00.306574Z"
        },
        "papermill": {
          "duration": 0.190107,
          "end_time": "2021-01-22T11:55:00.308122",
          "exception": false,
          "start_time": "2021-01-22T11:55:00.118015",
          "status": "completed"
        },
        "tags": [],
        "colab": {
          "base_uri": "https://localhost:8080/"
        },
        "id": "O8JoK6WHYZ6c",
        "outputId": "9c79a2fd-6215-4fe8-b6a6-35822db895f0"
      },
      "source": [
        "business_df.categories.unique()[:10]"
      ],
      "execution_count": null,
      "outputs": [
        {
          "output_type": "execute_result",
          "data": {
            "text/plain": [
              "array(['Active Life, Gun/Rifle Ranges, Guns & Ammo, Shopping',\n",
              "       'Health & Medical, Fitness & Instruction, Yoga, Active Life, Pilates',\n",
              "       'Pets, Pet Services, Pet Groomers',\n",
              "       'Hardware Stores, Home Services, Building Supplies, Home & Garden, Shopping',\n",
              "       'Home Services, Plumbing, Electricians, Handyman, Contractors',\n",
              "       'Auto Repair, Automotive, Oil Change Stations, Transmission Repair',\n",
              "       'Dry Cleaning & Laundry, Local Services, Laundry Services',\n",
              "       'Auto Repair, Oil Change Stations, Automotive, Tires',\n",
              "       'Ethnic Food, Food Trucks, Specialty Food, Imported Food, Argentine, Food, Restaurants, Empanadas',\n",
              "       'Martial Arts, Gyms, Fitness & Instruction, Active Life'],\n",
              "      dtype=object)"
            ]
          },
          "metadata": {
            "tags": []
          },
          "execution_count": 34
        }
      ]
    },
    {
      "cell_type": "code",
      "metadata": {
        "execution": {
          "iopub.execute_input": "2021-01-22T11:55:00.581151Z",
          "iopub.status.busy": "2021-01-22T11:55:00.580131Z",
          "iopub.status.idle": "2021-01-22T11:55:00.832435Z",
          "shell.execute_reply": "2021-01-22T11:55:00.831877Z"
        },
        "papermill": {
          "duration": 0.311455,
          "end_time": "2021-01-22T11:55:00.832553",
          "exception": false,
          "start_time": "2021-01-22T11:55:00.521098",
          "status": "completed"
        },
        "tags": [],
        "colab": {
          "base_uri": "https://localhost:8080/",
          "height": 204
        },
        "id": "pRUCZD2MYZ6d",
        "outputId": "a1f491c4-19e7-46e7-c5aa-2e40922d284e"
      },
      "source": [
        "# we then merge the data frames so we obtain the categories for each review\n",
        "categories_id = business_df[['business_id','categories']]\n",
        "balanced_reviews = balanced_simplified_reviews.merge(categories_id, how='left', on='business_id')\n",
        "balanced_reviews.head()"
      ],
      "execution_count": null,
      "outputs": [
        {
          "output_type": "execute_result",
          "data": {
            "text/html": [
              "<div>\n",
              "<style scoped>\n",
              "    .dataframe tbody tr th:only-of-type {\n",
              "        vertical-align: middle;\n",
              "    }\n",
              "\n",
              "    .dataframe tbody tr th {\n",
              "        vertical-align: top;\n",
              "    }\n",
              "\n",
              "    .dataframe thead th {\n",
              "        text-align: right;\n",
              "    }\n",
              "</style>\n",
              "<table border=\"1\" class=\"dataframe\">\n",
              "  <thead>\n",
              "    <tr style=\"text-align: right;\">\n",
              "      <th></th>\n",
              "      <th>text</th>\n",
              "      <th>business_id</th>\n",
              "      <th>label</th>\n",
              "      <th>categories</th>\n",
              "    </tr>\n",
              "  </thead>\n",
              "  <tbody>\n",
              "    <tr>\n",
              "      <th>0</th>\n",
              "      <td>This actually used to be one of my favorite ho...</td>\n",
              "      <td>LkMtMHVetws5_7QfRjPtlg</td>\n",
              "      <td>0</td>\n",
              "      <td>Casinos, Nightlife, Restaurants, Hotels &amp; Trav...</td>\n",
              "    </tr>\n",
              "    <tr>\n",
              "      <th>1</th>\n",
              "      <td>Decent food. Fishermen lobster or even congee ...</td>\n",
              "      <td>eNFubUPJR7yIQah-NxZN_g</td>\n",
              "      <td>0</td>\n",
              "      <td>Seafood, Restaurants, Food, Chinese, Seafood M...</td>\n",
              "    </tr>\n",
              "    <tr>\n",
              "      <th>2</th>\n",
              "      <td>Pros: Fun atmosphere, great for people watchin...</td>\n",
              "      <td>l_kefVF1frmC0xRW2YkvUA</td>\n",
              "      <td>0</td>\n",
              "      <td>Nightlife, Bars, American (Traditional), Music...</td>\n",
              "    </tr>\n",
              "    <tr>\n",
              "      <th>3</th>\n",
              "      <td>I love bookstores, and I love to spend some ti...</td>\n",
              "      <td>V2TN04eMwKJmGki8ioOY9A</td>\n",
              "      <td>0</td>\n",
              "      <td>Shopping, Bookstores, Books, Mags, Music &amp; Video</td>\n",
              "    </tr>\n",
              "    <tr>\n",
              "      <th>4</th>\n",
              "      <td>I passed Five Guys, In-N-Out, Carl's Jr, and S...</td>\n",
              "      <td>vQMcpsCYhkpJKvkity2VHA</td>\n",
              "      <td>0</td>\n",
              "      <td>Burgers, Restaurants, Salad, Sandwiches</td>\n",
              "    </tr>\n",
              "  </tbody>\n",
              "</table>\n",
              "</div>"
            ],
            "text/plain": [
              "                                                text  ...                                         categories\n",
              "0  This actually used to be one of my favorite ho...  ...  Casinos, Nightlife, Restaurants, Hotels & Trav...\n",
              "1  Decent food. Fishermen lobster or even congee ...  ...  Seafood, Restaurants, Food, Chinese, Seafood M...\n",
              "2  Pros: Fun atmosphere, great for people watchin...  ...  Nightlife, Bars, American (Traditional), Music...\n",
              "3  I love bookstores, and I love to spend some ti...  ...   Shopping, Bookstores, Books, Mags, Music & Video\n",
              "4  I passed Five Guys, In-N-Out, Carl's Jr, and S...  ...            Burgers, Restaurants, Salad, Sandwiches\n",
              "\n",
              "[5 rows x 4 columns]"
            ]
          },
          "metadata": {
            "tags": []
          },
          "execution_count": 47
        }
      ]
    },
    {
      "cell_type": "code",
      "metadata": {
        "execution": {
          "iopub.execute_input": "2021-01-22T11:55:00.952080Z",
          "iopub.status.busy": "2021-01-22T11:55:00.951209Z",
          "iopub.status.idle": "2021-01-22T11:55:00.955501Z",
          "shell.execute_reply": "2021-01-22T11:55:00.954513Z"
        },
        "papermill": {
          "duration": 0.069181,
          "end_time": "2021-01-22T11:55:00.955638",
          "exception": false,
          "start_time": "2021-01-22T11:55:00.886457",
          "status": "completed"
        },
        "tags": [],
        "colab": {
          "base_uri": "https://localhost:8080/"
        },
        "id": "JxjbXEe3YZ6d",
        "outputId": "faf9926c-ba53-46cd-d682-78021310c86b"
      },
      "source": [
        "# on our sample there are 4000 unique categories\n",
        "print(balanced_reviews.shape)\n",
        "print(len(balanced_reviews.categories.unique()))"
      ],
      "execution_count": null,
      "outputs": [
        {
          "output_type": "stream",
          "text": [
            "(12993, 4)\n",
            "4000\n"
          ],
          "name": "stdout"
        }
      ]
    },
    {
      "cell_type": "code",
      "metadata": {
        "execution": {
          "iopub.execute_input": "2021-01-22T11:55:01.125867Z",
          "iopub.status.busy": "2021-01-22T11:55:01.125015Z",
          "iopub.status.idle": "2021-01-22T11:55:01.129295Z",
          "shell.execute_reply": "2021-01-22T11:55:01.129981Z"
        },
        "papermill": {
          "duration": 0.093252,
          "end_time": "2021-01-22T11:55:01.130156",
          "exception": false,
          "start_time": "2021-01-22T11:55:01.036904",
          "status": "completed"
        },
        "tags": [],
        "colab": {
          "base_uri": "https://localhost:8080/"
        },
        "id": "T0OLANH9YZ6e",
        "outputId": "a88765fb-16b4-4488-eaea-961389c822e6"
      },
      "source": [
        "# checking only the first 10 unique categories\n",
        "balanced_reviews.categories.unique()[:10]"
      ],
      "execution_count": null,
      "outputs": [
        {
          "output_type": "execute_result",
          "data": {
            "text/plain": [
              "array(['Casinos, Nightlife, Restaurants, Hotels & Travel, Tennis, Active Life, Steakhouses, Event Planning & Services, Music Venues, Sushi Bars, Arts & Entertainment, Food, Japanese, Hotels',\n",
              "       'Seafood, Restaurants, Food, Chinese, Seafood Markets, Specialty Food, Dim Sum, Japanese',\n",
              "       'Nightlife, Bars, American (Traditional), Music Venues, Dance Clubs, Restaurants, Arts & Entertainment, Beer, Wine & Spirits, Cocktail Bars, Lounges, Food, Event Planning & Services, Sports Bars, Venues & Event Spaces',\n",
              "       'Shopping, Bookstores, Books, Mags, Music & Video',\n",
              "       'Burgers, Restaurants, Salad, Sandwiches',\n",
              "       'Restaurants, Asian Fusion, Japanese, Bars, Sushi Bars, Nightlife',\n",
              "       'Pet Groomers, Pet Services, Pets',\n",
              "       'Japanese, Sushi Bars, Restaurants', 'Hotels & Travel, Airports',\n",
              "       'Nightlife, Dance Clubs'], dtype=object)"
            ]
          },
          "metadata": {
            "tags": []
          },
          "execution_count": 40
        }
      ]
    },
    {
      "cell_type": "code",
      "metadata": {
        "execution": {
          "iopub.execute_input": "2021-01-22T11:55:01.301214Z",
          "iopub.status.busy": "2021-01-22T11:55:01.296343Z",
          "iopub.status.idle": "2021-01-22T11:55:01.315610Z",
          "shell.execute_reply": "2021-01-22T11:55:01.314801Z"
        },
        "papermill": {
          "duration": 0.104406,
          "end_time": "2021-01-22T11:55:01.315763",
          "exception": false,
          "start_time": "2021-01-22T11:55:01.211357",
          "status": "completed"
        },
        "tags": [],
        "colab": {
          "base_uri": "https://localhost:8080/",
          "height": 173
        },
        "id": "PSM0sbNCYZ6e",
        "outputId": "771058f2-1cc7-4d0e-be9d-404c704fa682"
      },
      "source": [
        "# there are some NaN, that we drop out\n",
        "balanced_reviews[balanced_reviews.categories.isna() == True]"
      ],
      "execution_count": null,
      "outputs": [
        {
          "output_type": "execute_result",
          "data": {
            "text/html": [
              "<div>\n",
              "<style scoped>\n",
              "    .dataframe tbody tr th:only-of-type {\n",
              "        vertical-align: middle;\n",
              "    }\n",
              "\n",
              "    .dataframe tbody tr th {\n",
              "        vertical-align: top;\n",
              "    }\n",
              "\n",
              "    .dataframe thead th {\n",
              "        text-align: right;\n",
              "    }\n",
              "</style>\n",
              "<table border=\"1\" class=\"dataframe\">\n",
              "  <thead>\n",
              "    <tr style=\"text-align: right;\">\n",
              "      <th></th>\n",
              "      <th>text</th>\n",
              "      <th>business_id</th>\n",
              "      <th>label</th>\n",
              "      <th>categories</th>\n",
              "    </tr>\n",
              "  </thead>\n",
              "  <tbody>\n",
              "    <tr>\n",
              "      <th>2410</th>\n",
              "      <td>*Okay, this is strictly based on their \"10,000...</td>\n",
              "      <td>aUluscKiuPmd8L2K7-FvyA</td>\n",
              "      <td>0</td>\n",
              "      <td>None</td>\n",
              "    </tr>\n",
              "    <tr>\n",
              "      <th>4744</th>\n",
              "      <td>Houses The Light Factory and McGlohn Theater. ...</td>\n",
              "      <td>1rgJ-WYCEWM-RIyQN6AteA</td>\n",
              "      <td>1</td>\n",
              "      <td>None</td>\n",
              "    </tr>\n",
              "    <tr>\n",
              "      <th>5985</th>\n",
              "      <td>My friend tried so hard to work with this guy....</td>\n",
              "      <td>3stT022u8m1H37mcopGuUA</td>\n",
              "      <td>0</td>\n",
              "      <td>None</td>\n",
              "    </tr>\n",
              "    <tr>\n",
              "      <th>8442</th>\n",
              "      <td>STAY CLEAR! Canmax sales reps  promise a great...</td>\n",
              "      <td>eefO7_-EYi7f4V9RwckKgg</td>\n",
              "      <td>0</td>\n",
              "      <td>None</td>\n",
              "    </tr>\n",
              "  </tbody>\n",
              "</table>\n",
              "</div>"
            ],
            "text/plain": [
              "                                                   text  ... categories\n",
              "2410  *Okay, this is strictly based on their \"10,000...  ...       None\n",
              "4744  Houses The Light Factory and McGlohn Theater. ...  ...       None\n",
              "5985  My friend tried so hard to work with this guy....  ...       None\n",
              "8442  STAY CLEAR! Canmax sales reps  promise a great...  ...       None\n",
              "\n",
              "[4 rows x 4 columns]"
            ]
          },
          "metadata": {
            "tags": []
          },
          "execution_count": 41
        }
      ]
    },
    {
      "cell_type": "code",
      "metadata": {
        "id": "an0C80-ipee1"
      },
      "source": [
        "balanced_reviews.dropna(inplace=True)"
      ],
      "execution_count": null,
      "outputs": []
    },
    {
      "cell_type": "code",
      "metadata": {
        "execution": {
          "iopub.execute_input": "2021-01-22T11:55:01.490182Z",
          "iopub.status.busy": "2021-01-22T11:55:01.486604Z",
          "iopub.status.idle": "2021-01-22T11:55:01.497217Z",
          "shell.execute_reply": "2021-01-22T11:55:01.496352Z"
        },
        "papermill": {
          "duration": 0.09873,
          "end_time": "2021-01-22T11:55:01.497341",
          "exception": false,
          "start_time": "2021-01-22T11:55:01.398611",
          "status": "completed"
        },
        "tags": [],
        "colab": {
          "base_uri": "https://localhost:8080/"
        },
        "id": "eCxP3NSAYZ6f",
        "outputId": "209d9c44-b863-442b-dec1-3704ab4dea99"
      },
      "source": [
        "# O is negative, 1 is positive\n",
        "balanced_reviews.label.value_counts()"
      ],
      "execution_count": null,
      "outputs": [
        {
          "output_type": "execute_result",
          "data": {
            "text/plain": [
              "0    6497\n",
              "1    6496\n",
              "Name: label, dtype: int64"
            ]
          },
          "metadata": {
            "tags": []
          },
          "execution_count": 49
        }
      ]
    },
    {
      "cell_type": "code",
      "metadata": {
        "execution": {
          "iopub.execute_input": "2021-01-22T11:54:52.921322Z",
          "iopub.status.busy": "2021-01-22T11:54:52.920466Z",
          "iopub.status.idle": "2021-01-22T11:54:52.929989Z",
          "shell.execute_reply": "2021-01-22T11:54:52.930680Z"
        },
        "papermill": {
          "duration": 0.084662,
          "end_time": "2021-01-22T11:54:52.930881",
          "exception": false,
          "start_time": "2021-01-22T11:54:52.846219",
          "status": "completed"
        },
        "tags": [],
        "id": "RMgRmBNvYZ6Z",
        "colab": {
          "base_uri": "https://localhost:8080/",
          "height": 111
        },
        "outputId": "772fb53b-cd15-4c24-9f4e-c0b01a95f184"
      },
      "source": [
        "balanced_reviews.reset_index(drop=True, inplace=True)\n",
        "balanced_reviews.head(2)"
      ],
      "execution_count": null,
      "outputs": [
        {
          "output_type": "execute_result",
          "data": {
            "text/html": [
              "<div>\n",
              "<style scoped>\n",
              "    .dataframe tbody tr th:only-of-type {\n",
              "        vertical-align: middle;\n",
              "    }\n",
              "\n",
              "    .dataframe tbody tr th {\n",
              "        vertical-align: top;\n",
              "    }\n",
              "\n",
              "    .dataframe thead th {\n",
              "        text-align: right;\n",
              "    }\n",
              "</style>\n",
              "<table border=\"1\" class=\"dataframe\">\n",
              "  <thead>\n",
              "    <tr style=\"text-align: right;\">\n",
              "      <th></th>\n",
              "      <th>text</th>\n",
              "      <th>business_id</th>\n",
              "      <th>label</th>\n",
              "    </tr>\n",
              "  </thead>\n",
              "  <tbody>\n",
              "    <tr>\n",
              "      <th>0</th>\n",
              "      <td>This actually used to be one of my favorite ho...</td>\n",
              "      <td>LkMtMHVetws5_7QfRjPtlg</td>\n",
              "      <td>0</td>\n",
              "    </tr>\n",
              "    <tr>\n",
              "      <th>1</th>\n",
              "      <td>Decent food. Fishermen lobster or even congee ...</td>\n",
              "      <td>eNFubUPJR7yIQah-NxZN_g</td>\n",
              "      <td>0</td>\n",
              "    </tr>\n",
              "  </tbody>\n",
              "</table>\n",
              "</div>"
            ],
            "text/plain": [
              "                                                text  ... label\n",
              "0  This actually used to be one of my favorite ho...  ...     0\n",
              "1  Decent food. Fishermen lobster or even congee ...  ...     0\n",
              "\n",
              "[2 rows x 3 columns]"
            ]
          },
          "metadata": {
            "tags": []
          },
          "execution_count": 27
        }
      ]
    },
    {
      "cell_type": "markdown",
      "metadata": {
        "papermill": {
          "duration": 0.056047,
          "end_time": "2021-01-22T11:55:01.609894",
          "exception": false,
          "start_time": "2021-01-22T11:55:01.553847",
          "status": "completed"
        },
        "tags": [],
        "id": "FtcT-qIfYZ6g"
      },
      "source": [
        "## Cleaning the reviews"
      ]
    },
    {
      "cell_type": "code",
      "metadata": {
        "execution": {
          "iopub.execute_input": "2021-01-22T11:55:01.730745Z",
          "iopub.status.busy": "2021-01-22T11:55:01.730059Z",
          "iopub.status.idle": "2021-01-22T11:55:02.936672Z",
          "shell.execute_reply": "2021-01-22T11:55:02.937250Z"
        },
        "papermill": {
          "duration": 1.270526,
          "end_time": "2021-01-22T11:55:02.937396",
          "exception": false,
          "start_time": "2021-01-22T11:55:01.666870",
          "status": "completed"
        },
        "tags": [],
        "id": "ucShjZs9YZ6g"
      },
      "source": [
        "from gensim.parsing.preprocessing import STOPWORDS, strip_tags, strip_numeric, strip_punctuation, strip_multiple_whitespaces, remove_stopwords, strip_short, stem_text\n",
        "from nltk.corpus import stopwords\n",
        "import re"
      ],
      "execution_count": null,
      "outputs": []
    },
    {
      "cell_type": "code",
      "metadata": {
        "execution": {
          "iopub.execute_input": "2021-01-22T11:55:03.077044Z",
          "iopub.status.busy": "2021-01-22T11:55:03.071622Z",
          "iopub.status.idle": "2021-01-22T11:55:08.926694Z",
          "shell.execute_reply": "2021-01-22T11:55:08.927232Z"
        },
        "papermill": {
          "duration": 5.931862,
          "end_time": "2021-01-22T11:55:08.927383",
          "exception": false,
          "start_time": "2021-01-22T11:55:02.995521",
          "status": "completed"
        },
        "tags": [],
        "id": "81u_y-8yYZ6g"
      },
      "source": [
        "# As we want to interpret BERT results we want to focus on the words than in other sentence components\n",
        "for r in balanced_reviews:\n",
        "    balanced_reviews['clean_text'] = balanced_reviews['text'].apply(lambda t: re.sub(r\"https?://[A-Za-z0-9./]+\", ' ', t))\n",
        "    balanced_reviews['clean_text'] = balanced_reviews['clean_text'].apply(lambda t: re.sub(r\"[^a-zA-Z]\", ' ', t))\n",
        "    balanced_reviews['clean_text'] = balanced_reviews['clean_text'].apply(lambda t: strip_multiple_whitespaces(t))\n",
        "    balanced_reviews['clean_text'] = balanced_reviews['clean_text'].apply(lambda t: t.lower())\n",
        "    balanced_reviews['clean_text'] = balanced_reviews['clean_text'].apply(lambda t: remove_stopwords(t))\n",
        "    balanced_reviews['clean_text'] = balanced_reviews['clean_text'].apply(lambda t: strip_short(t))"
      ],
      "execution_count": null,
      "outputs": []
    },
    {
      "cell_type": "code",
      "metadata": {
        "execution": {
          "iopub.execute_input": "2021-01-22T11:55:09.052689Z",
          "iopub.status.busy": "2021-01-22T11:55:09.052024Z",
          "iopub.status.idle": "2021-01-22T11:55:09.057511Z",
          "shell.execute_reply": "2021-01-22T11:55:09.056882Z"
        },
        "papermill": {
          "duration": 0.073241,
          "end_time": "2021-01-22T11:55:09.057618",
          "exception": false,
          "start_time": "2021-01-22T11:55:08.984377",
          "status": "completed"
        },
        "tags": [],
        "colab": {
          "base_uri": "https://localhost:8080/",
          "height": 289
        },
        "id": "jCtGKEL1YZ6g",
        "outputId": "44b75d48-45eb-456b-ccef-ebb6960b2926"
      },
      "source": [
        "balanced_reviews.head()"
      ],
      "execution_count": null,
      "outputs": [
        {
          "output_type": "execute_result",
          "data": {
            "text/html": [
              "<div>\n",
              "<style scoped>\n",
              "    .dataframe tbody tr th:only-of-type {\n",
              "        vertical-align: middle;\n",
              "    }\n",
              "\n",
              "    .dataframe tbody tr th {\n",
              "        vertical-align: top;\n",
              "    }\n",
              "\n",
              "    .dataframe thead th {\n",
              "        text-align: right;\n",
              "    }\n",
              "</style>\n",
              "<table border=\"1\" class=\"dataframe\">\n",
              "  <thead>\n",
              "    <tr style=\"text-align: right;\">\n",
              "      <th></th>\n",
              "      <th>text</th>\n",
              "      <th>business_id</th>\n",
              "      <th>label</th>\n",
              "      <th>categories</th>\n",
              "      <th>clean_text</th>\n",
              "    </tr>\n",
              "  </thead>\n",
              "  <tbody>\n",
              "    <tr>\n",
              "      <th>0</th>\n",
              "      <td>This actually used to be one of my favorite ho...</td>\n",
              "      <td>LkMtMHVetws5_7QfRjPtlg</td>\n",
              "      <td>0</td>\n",
              "      <td>Casinos, Nightlife, Restaurants, Hotels &amp; Trav...</td>\n",
              "      <td>actually favorite hotel casinos day things cha...</td>\n",
              "    </tr>\n",
              "    <tr>\n",
              "      <th>1</th>\n",
              "      <td>Decent food. Fishermen lobster or even congee ...</td>\n",
              "      <td>eNFubUPJR7yIQah-NxZN_g</td>\n",
              "      <td>0</td>\n",
              "      <td>Seafood, Restaurants, Food, Chinese, Seafood M...</td>\n",
              "      <td>decent food fishermen lobster congee queen bet...</td>\n",
              "    </tr>\n",
              "    <tr>\n",
              "      <th>2</th>\n",
              "      <td>Pros: Fun atmosphere, great for people watchin...</td>\n",
              "      <td>l_kefVF1frmC0xRW2YkvUA</td>\n",
              "      <td>0</td>\n",
              "      <td>Nightlife, Bars, American (Traditional), Music...</td>\n",
              "      <td>pros fun atmosphere great people watching mech...</td>\n",
              "    </tr>\n",
              "    <tr>\n",
              "      <th>3</th>\n",
              "      <td>I love bookstores, and I love to spend some ti...</td>\n",
              "      <td>V2TN04eMwKJmGki8ioOY9A</td>\n",
              "      <td>0</td>\n",
              "      <td>Shopping, Bookstores, Books, Mags, Music &amp; Video</td>\n",
              "      <td>love bookstores love spend time browsing flipp...</td>\n",
              "    </tr>\n",
              "    <tr>\n",
              "      <th>4</th>\n",
              "      <td>I passed Five Guys, In-N-Out, Carl's Jr, and S...</td>\n",
              "      <td>vQMcpsCYhkpJKvkity2VHA</td>\n",
              "      <td>0</td>\n",
              "      <td>Burgers, Restaurants, Salad, Sandwiches</td>\n",
              "      <td>passed guys carl sonic habit won happen know s...</td>\n",
              "    </tr>\n",
              "  </tbody>\n",
              "</table>\n",
              "</div>"
            ],
            "text/plain": [
              "                                                text  ...                                         clean_text\n",
              "0  This actually used to be one of my favorite ho...  ...  actually favorite hotel casinos day things cha...\n",
              "1  Decent food. Fishermen lobster or even congee ...  ...  decent food fishermen lobster congee queen bet...\n",
              "2  Pros: Fun atmosphere, great for people watchin...  ...  pros fun atmosphere great people watching mech...\n",
              "3  I love bookstores, and I love to spend some ti...  ...  love bookstores love spend time browsing flipp...\n",
              "4  I passed Five Guys, In-N-Out, Carl's Jr, and S...  ...  passed guys carl sonic habit won happen know s...\n",
              "\n",
              "[5 rows x 5 columns]"
            ]
          },
          "metadata": {
            "tags": []
          },
          "execution_count": 52
        }
      ]
    },
    {
      "cell_type": "markdown",
      "metadata": {
        "papermill": {
          "duration": 0.084875,
          "end_time": "2021-01-22T11:55:09.502921",
          "exception": false,
          "start_time": "2021-01-22T11:55:09.418046",
          "status": "completed"
        },
        "tags": [],
        "id": "PxpkDKKtYZ6h"
      },
      "source": [
        "## Adding length column to remove more noise"
      ]
    },
    {
      "cell_type": "code",
      "metadata": {
        "execution": {
          "iopub.execute_input": "2021-01-22T11:55:10.641287Z",
          "iopub.status.busy": "2021-01-22T11:55:10.635820Z",
          "iopub.status.idle": "2021-01-22T11:55:10.747531Z",
          "shell.execute_reply": "2021-01-22T11:55:10.747013Z"
        },
        "papermill": {
          "duration": 0.18129,
          "end_time": "2021-01-22T11:55:10.747662",
          "exception": false,
          "start_time": "2021-01-22T11:55:10.566372",
          "status": "completed"
        },
        "tags": [],
        "colab": {
          "base_uri": "https://localhost:8080/"
        },
        "id": "nk3jsyESYZ6l",
        "outputId": "de7c8787-b526-4ad6-9e18-6bad79baa0a4"
      },
      "source": [
        "# before cleaning\n",
        "balanced_simplified_reviews['length'] = balanced_simplified_reviews['text'].apply(lambda x : len(x.strip().split(\" \")))\n",
        "balanced_simplified_reviews['length'].describe()"
      ],
      "execution_count": null,
      "outputs": [
        {
          "output_type": "execute_result",
          "data": {
            "text/plain": [
              "count    12993.000000\n",
              "mean       116.033172\n",
              "std        106.976797\n",
              "min          1.000000\n",
              "25%         46.000000\n",
              "50%         82.000000\n",
              "75%        149.000000\n",
              "max       1340.000000\n",
              "Name: length, dtype: float64"
            ]
          },
          "metadata": {
            "tags": []
          },
          "execution_count": 64
        }
      ]
    },
    {
      "cell_type": "code",
      "metadata": {
        "execution": {
          "iopub.execute_input": "2021-01-22T11:55:10.439603Z",
          "iopub.status.busy": "2021-01-22T11:55:10.438909Z",
          "iopub.status.idle": "2021-01-22T11:55:10.507076Z",
          "shell.execute_reply": "2021-01-22T11:55:10.506465Z"
        },
        "papermill": {
          "duration": 0.158233,
          "end_time": "2021-01-22T11:55:10.507192",
          "exception": false,
          "start_time": "2021-01-22T11:55:10.348959",
          "status": "completed"
        },
        "tags": [],
        "colab": {
          "base_uri": "https://localhost:8080/"
        },
        "id": "hsN6dVkVYZ6l",
        "outputId": "dd8ca5eb-a55c-4eaa-893b-07d69cde070f"
      },
      "source": [
        "# after cleaning\n",
        "#CREATING A NEW COLUMN IN THE DATASET FOR THE NUMBER OF WORDS IN THE REVIEW\n",
        "balanced_reviews['length'] = balanced_reviews['clean_text'].apply(lambda x : len(x.strip().split(\" \")))\n",
        "balanced_reviews['length'].describe()"
      ],
      "execution_count": null,
      "outputs": [
        {
          "output_type": "execute_result",
          "data": {
            "text/plain": [
              "count    12993.000000\n",
              "mean        47.718464\n",
              "std         42.064071\n",
              "min          1.000000\n",
              "25%         20.000000\n",
              "50%         34.000000\n",
              "75%         61.000000\n",
              "max        396.000000\n",
              "Name: length, dtype: float64"
            ]
          },
          "metadata": {
            "tags": []
          },
          "execution_count": 36
        }
      ]
    },
    {
      "cell_type": "code",
      "metadata": {
        "colab": {
          "base_uri": "https://localhost:8080/",
          "height": 350
        },
        "id": "91_sgO6OghzP",
        "outputId": "efa278e2-a1ea-49d9-c2ab-c59da5431ad6"
      },
      "source": [
        "# Checking the label distribbution\n",
        "sns.countplot(balanced_reviews['label'])"
      ],
      "execution_count": null,
      "outputs": [
        {
          "output_type": "stream",
          "text": [
            "/usr/local/lib/python3.7/dist-packages/seaborn/_decorators.py:43: FutureWarning: Pass the following variable as a keyword arg: x. From version 0.12, the only valid positional argument will be `data`, and passing other arguments without an explicit keyword will result in an error or misinterpretation.\n",
            "  FutureWarning\n"
          ],
          "name": "stderr"
        },
        {
          "output_type": "execute_result",
          "data": {
            "text/plain": [
              "<matplotlib.axes._subplots.AxesSubplot at 0x7f15edef68d0>"
            ]
          },
          "metadata": {
            "tags": []
          },
          "execution_count": 9
        },
        {
          "output_type": "display_data",
          "data": {
            "image/png": "[encoded data removed]",
            "text/plain": [
              "<Figure size 432x288 with 1 Axes>"
            ]
          },
          "metadata": {
            "tags": [],
            "needs_background": "light"
          }
        }
      ]
    },
    {
      "cell_type": "code",
      "metadata": {
        "colab": {
          "base_uri": "https://localhost:8080/",
          "height": 429
        },
        "id": "Dyforw1Qf-j6",
        "outputId": "420775f9-c8e9-4355-e31b-d7856507bc95"
      },
      "source": [
        "%%time \n",
        "# checking the sample reviews' length distribution per label\n",
        "plt.figure(figsize=(25, 20))\n",
        "plot = sns.displot(data=balanced_reviews, x='length', hue='label', multiple='stack', bins=np.arange(0,400,25))\n",
        "plt.xticks(rotation=90)"
      ],
      "execution_count": null,
      "outputs": [
        {
          "output_type": "stream",
          "text": [
            "CPU times: user 317 ms, sys: 133 ms, total: 450 ms\n",
            "Wall time: 317 ms\n"
          ],
          "name": "stdout"
        },
        {
          "output_type": "display_data",
          "data": {
            "text/plain": [
              "<Figure size 1800x1440 with 0 Axes>"
            ]
          },
          "metadata": {
            "tags": []
          }
        },
        {
          "output_type": "display_data",
          "data": {
            "image/png": "[encoded data removed]",
            "text/plain": [
              "<Figure size 402.375x360 with 1 Axes>"
            ]
          },
          "metadata": {
            "tags": [],
            "needs_background": "light"
          }
        }
      ]
    },
    {
      "cell_type": "code",
      "metadata": {
        "execution": {
          "iopub.execute_input": "2021-01-22T11:55:10.888138Z",
          "iopub.status.busy": "2021-01-22T11:55:10.881157Z",
          "iopub.status.idle": "2021-01-22T11:55:11.571317Z",
          "shell.execute_reply": "2021-01-22T11:55:11.570753Z"
        },
        "papermill": {
          "duration": 0.764238,
          "end_time": "2021-01-22T11:55:11.571434",
          "exception": false,
          "start_time": "2021-01-22T11:55:10.807196",
          "status": "completed"
        },
        "tags": [],
        "colab": {
          "base_uri": "https://localhost:8080/",
          "height": 242
        },
        "id": "r59U0VfaYZ6m",
        "outputId": "4d89c251-21b4-47de-85b8-d0800f108a87"
      },
      "source": [
        "# COMPARING TEXT LENGTH TO LABELS\n",
        "# on the cleaned reviews\n",
        "graph = sns.FacetGrid(data=balanced_reviews,col='label')\n",
        "graph.map(plt.hist,'length',bins=50,color='blue')\n",
        "# 0 negative, 1 positive"
      ],
      "execution_count": null,
      "outputs": [
        {
          "output_type": "execute_result",
          "data": {
            "text/plain": [
              "<seaborn.axisgrid.FacetGrid at 0x7f97edd35cf8>"
            ]
          },
          "metadata": {
            "tags": []
          },
          "execution_count": 65
        },
        {
          "output_type": "display_data",
          "data": {
            "image/png": "[encoded data removed]",
            "text/plain": [
              "<Figure size 432x216 with 2 Axes>"
            ]
          },
          "metadata": {
            "tags": [],
            "needs_background": "light"
          }
        }
      ]
    },
    {
      "cell_type": "code",
      "metadata": {
        "id": "9ufONUciODzp",
        "colab": {
          "base_uri": "https://localhost:8080/",
          "height": 647
        },
        "outputId": "99f359e0-7738-4ebe-9073-72901fbe7eb6"
      },
      "source": [
        "# checking the reviews with very small lengths\n",
        "balanced_reviews[['text', 'clean_text', 'length']][balanced_reviews['length']<=4].sort_values(by='length')"
      ],
      "execution_count": null,
      "outputs": [
        {
          "output_type": "execute_result",
          "data": {
            "text/html": [
              "<div>\n",
              "<style scoped>\n",
              "    .dataframe tbody tr th:only-of-type {\n",
              "        vertical-align: middle;\n",
              "    }\n",
              "\n",
              "    .dataframe tbody tr th {\n",
              "        vertical-align: top;\n",
              "    }\n",
              "\n",
              "    .dataframe thead th {\n",
              "        text-align: right;\n",
              "    }\n",
              "</style>\n",
              "<table border=\"1\" class=\"dataframe\">\n",
              "  <thead>\n",
              "    <tr style=\"text-align: right;\">\n",
              "      <th></th>\n",
              "      <th>text</th>\n",
              "      <th>clean_text</th>\n",
              "      <th>length</th>\n",
              "    </tr>\n",
              "  </thead>\n",
              "  <tbody>\n",
              "    <tr>\n",
              "      <th>3841</th>\n",
              "      <td>タイ料理屋さん。\\n夕食分と朝食分を持ち帰りで注文。自分、日本人なんだけど、辛さはどのくらい...</td>\n",
              "      <td></td>\n",
              "      <td>1</td>\n",
              "    </tr>\n",
              "    <tr>\n",
              "      <th>6497</th>\n",
              "      <td>如果做创新餐厅要丢掉传统菜的口味和优点，那还是不要创新了。天妇罗互相之间粘在一起，鳗鱼卷两个...</td>\n",
              "      <td></td>\n",
              "      <td>1</td>\n",
              "    </tr>\n",
              "    <tr>\n",
              "      <th>10936</th>\n",
              "      <td>:)</td>\n",
              "      <td></td>\n",
              "      <td>1</td>\n",
              "    </tr>\n",
              "    <tr>\n",
              "      <th>3021</th>\n",
              "      <td>Fancy Buca di Beppo</td>\n",
              "      <td>fancy buca beppo</td>\n",
              "      <td>3</td>\n",
              "    </tr>\n",
              "    <tr>\n",
              "      <th>9523</th>\n",
              "      <td>Its  Starbucks\\nGreat Parking</td>\n",
              "      <td>starbucks great parking</td>\n",
              "      <td>3</td>\n",
              "    </tr>\n",
              "    <tr>\n",
              "      <th>10981</th>\n",
              "      <td>soup filled dumplings.</td>\n",
              "      <td>soup filled dumplings</td>\n",
              "      <td>3</td>\n",
              "    </tr>\n",
              "    <tr>\n",
              "      <th>2972</th>\n",
              "      <td>this place sucks....food is horrible.</td>\n",
              "      <td>place sucks food horrible</td>\n",
              "      <td>4</td>\n",
              "    </tr>\n",
              "    <tr>\n",
              "      <th>6264</th>\n",
              "      <td>Bring back the prairie grain salad!!!</td>\n",
              "      <td>bring prairie grain salad</td>\n",
              "      <td>4</td>\n",
              "    </tr>\n",
              "    <tr>\n",
              "      <th>7459</th>\n",
              "      <td>Hair chopped on one side; not cut on the other...</td>\n",
              "      <td>hair chopped cut won</td>\n",
              "      <td>4</td>\n",
              "    </tr>\n",
              "    <tr>\n",
              "      <th>7913</th>\n",
              "      <td>Surprisingly casual and terrific food.</td>\n",
              "      <td>surprisingly casual terrific food</td>\n",
              "      <td>4</td>\n",
              "    </tr>\n",
              "    <tr>\n",
              "      <th>8490</th>\n",
              "      <td>Terrific service.  Lovely flowers!</td>\n",
              "      <td>terrific service lovely flowers</td>\n",
              "      <td>4</td>\n",
              "    </tr>\n",
              "    <tr>\n",
              "      <th>8842</th>\n",
              "      <td>Friendly,  informative, healing fast :)</td>\n",
              "      <td>friendly informative healing fast</td>\n",
              "      <td>4</td>\n",
              "    </tr>\n",
              "    <tr>\n",
              "      <th>10230</th>\n",
              "      <td>Super Suhsi, absolute Topqualitaet.</td>\n",
              "      <td>super suhsi absolute topqualitaet</td>\n",
              "      <td>4</td>\n",
              "    </tr>\n",
              "    <tr>\n",
              "      <th>11125</th>\n",
              "      <td>Friendly delivery and good food!</td>\n",
              "      <td>friendly delivery good food</td>\n",
              "      <td>4</td>\n",
              "    </tr>\n",
              "    <tr>\n",
              "      <th>11538</th>\n",
              "      <td>Lots of laughs and very entertaining. Take you...</td>\n",
              "      <td>lots laughs entertaining family</td>\n",
              "      <td>4</td>\n",
              "    </tr>\n",
              "    <tr>\n",
              "      <th>12880</th>\n",
              "      <td>New Hours! 9-430PM Mon-Fri only!</td>\n",
              "      <td>new hours mon fri</td>\n",
              "      <td>4</td>\n",
              "    </tr>\n",
              "  </tbody>\n",
              "</table>\n",
              "</div>"
            ],
            "text/plain": [
              "                                                    text  ... length\n",
              "3841   タイ料理屋さん。\\n夕食分と朝食分を持ち帰りで注文。自分、日本人なんだけど、辛さはどのくらい...  ...      1\n",
              "6497   如果做创新餐厅要丢掉传统菜的口味和优点，那还是不要创新了。天妇罗互相之间粘在一起，鳗鱼卷两个...  ...      1\n",
              "10936                                                 :)  ...      1\n",
              "3021                                 Fancy Buca di Beppo  ...      3\n",
              "9523                       Its  Starbucks\\nGreat Parking  ...      3\n",
              "10981                             soup filled dumplings.  ...      3\n",
              "2972               this place sucks....food is horrible.  ...      4\n",
              "6264               Bring back the prairie grain salad!!!  ...      4\n",
              "7459   Hair chopped on one side; not cut on the other...  ...      4\n",
              "7913              Surprisingly casual and terrific food.  ...      4\n",
              "8490                  Terrific service.  Lovely flowers!  ...      4\n",
              "8842             Friendly,  informative, healing fast :)  ...      4\n",
              "10230                Super Suhsi, absolute Topqualitaet.  ...      4\n",
              "11125                   Friendly delivery and good food!  ...      4\n",
              "11538  Lots of laughs and very entertaining. Take you...  ...      4\n",
              "12880                   New Hours! 9-430PM Mon-Fri only!  ...      4\n",
              "\n",
              "[16 rows x 3 columns]"
            ]
          },
          "metadata": {
            "tags": []
          },
          "execution_count": 37
        }
      ]
    },
    {
      "cell_type": "code",
      "metadata": {
        "colab": {
          "base_uri": "https://localhost:8080/"
        },
        "id": "j2_9aDbxm5Cj",
        "outputId": "d07bee93-e85a-42a6-cda3-824d8d18e1cf"
      },
      "source": [
        "#checking the 95% quantile from all the sample\n",
        "np.quantile(balanced_reviews['length'], 0.95)"
      ],
      "execution_count": null,
      "outputs": [
        {
          "output_type": "execute_result",
          "data": {
            "text/plain": [
              "128.0"
            ]
          },
          "metadata": {
            "tags": []
          },
          "execution_count": 38
        }
      ]
    },
    {
      "cell_type": "code",
      "metadata": {
        "colab": {
          "base_uri": "https://localhost:8080/"
        },
        "id": "CeUtC6eonEKS",
        "outputId": "06c5020b-c12b-42b2-97a8-7988231111e8"
      },
      "source": [
        "#checking the 90% quantile from all the sample\n",
        "np.quantile(balanced_reviews['length'], 0.90)"
      ],
      "execution_count": null,
      "outputs": [
        {
          "output_type": "execute_result",
          "data": {
            "text/plain": [
              "99.0"
            ]
          },
          "metadata": {
            "tags": []
          },
          "execution_count": 39
        }
      ]
    },
    {
      "cell_type": "code",
      "metadata": {
        "colab": {
          "base_uri": "https://localhost:8080/",
          "height": 419
        },
        "id": "B_UXmCVmsyUM",
        "outputId": "0f141068-bfb7-44ab-b5db-b50098b151f3"
      },
      "source": [
        "#checking the top largest reviews\n",
        "balanced_reviews[['text', 'clean_text', 'length']][balanced_reviews['length']>128].sort_values(by='length')"
      ],
      "execution_count": null,
      "outputs": [
        {
          "output_type": "execute_result",
          "data": {
            "text/html": [
              "<div>\n",
              "<style scoped>\n",
              "    .dataframe tbody tr th:only-of-type {\n",
              "        vertical-align: middle;\n",
              "    }\n",
              "\n",
              "    .dataframe tbody tr th {\n",
              "        vertical-align: top;\n",
              "    }\n",
              "\n",
              "    .dataframe thead th {\n",
              "        text-align: right;\n",
              "    }\n",
              "</style>\n",
              "<table border=\"1\" class=\"dataframe\">\n",
              "  <thead>\n",
              "    <tr style=\"text-align: right;\">\n",
              "      <th></th>\n",
              "      <th>text</th>\n",
              "      <th>clean_text</th>\n",
              "      <th>length</th>\n",
              "    </tr>\n",
              "  </thead>\n",
              "  <tbody>\n",
              "    <tr>\n",
              "      <th>5136</th>\n",
              "      <td>I'm a huge Bobby Flay fan so couldn't wait to ...</td>\n",
              "      <td>huge bobby flay fan couldn wait try mesa grill...</td>\n",
              "      <td>129</td>\n",
              "    </tr>\n",
              "    <tr>\n",
              "      <th>578</th>\n",
              "      <td>Came here with my husband, BFF, and her boyfri...</td>\n",
              "      <td>came husband bff boyfriend crowded wait minute...</td>\n",
              "      <td>129</td>\n",
              "    </tr>\n",
              "    <tr>\n",
              "      <th>3474</th>\n",
              "      <td>Fervente de la  cuisine vietnamienne, j'avais ...</td>\n",
              "      <td>fervente cuisine vietnamienne avais remarqu no...</td>\n",
              "      <td>129</td>\n",
              "    </tr>\n",
              "    <tr>\n",
              "      <th>6982</th>\n",
              "      <td>Lack's Cleaning is the best carpet/floor clean...</td>\n",
              "      <td>lack cleaning best carpet floor cleaning compa...</td>\n",
              "      <td>129</td>\n",
              "    </tr>\n",
              "    <tr>\n",
              "      <th>6172</th>\n",
              "      <td>The only reason I'm giving this place a 4, is ...</td>\n",
              "      <td>reason giving place kinda wait little served c...</td>\n",
              "      <td>129</td>\n",
              "    </tr>\n",
              "    <tr>\n",
              "      <th>...</th>\n",
              "      <td>...</td>\n",
              "      <td>...</td>\n",
              "      <td>...</td>\n",
              "    </tr>\n",
              "    <tr>\n",
              "      <th>1722</th>\n",
              "      <td>The movie, \"Casino\", is an appropriate metapho...</td>\n",
              "      <td>movie casino appropriate metaphorical type exp...</td>\n",
              "      <td>366</td>\n",
              "    </tr>\n",
              "    <tr>\n",
              "      <th>4925</th>\n",
              "      <td>Very disappointing! My family and I visited a ...</td>\n",
              "      <td>disappointing family visited large number deal...</td>\n",
              "      <td>371</td>\n",
              "    </tr>\n",
              "    <tr>\n",
              "      <th>6393</th>\n",
              "      <td>Let me preface this with 1.  I'm a Hilton Hono...</td>\n",
              "      <td>let preface hilton honors member timeshare pre...</td>\n",
              "      <td>374</td>\n",
              "    </tr>\n",
              "    <tr>\n",
              "      <th>2194</th>\n",
              "      <td>I wish I could say something amazing about thi...</td>\n",
              "      <td>wish amazing place blah remember spot alivar s...</td>\n",
              "      <td>381</td>\n",
              "    </tr>\n",
              "    <tr>\n",
              "      <th>1012</th>\n",
              "      <td>ugh I really wish I don't have to leave a bad ...</td>\n",
              "      <td>ugh wish leave bad review place coming years b...</td>\n",
              "      <td>396</td>\n",
              "    </tr>\n",
              "  </tbody>\n",
              "</table>\n",
              "<p>648 rows × 3 columns</p>\n",
              "</div>"
            ],
            "text/plain": [
              "                                                   text  ... length\n",
              "5136  I'm a huge Bobby Flay fan so couldn't wait to ...  ...    129\n",
              "578   Came here with my husband, BFF, and her boyfri...  ...    129\n",
              "3474  Fervente de la  cuisine vietnamienne, j'avais ...  ...    129\n",
              "6982  Lack's Cleaning is the best carpet/floor clean...  ...    129\n",
              "6172  The only reason I'm giving this place a 4, is ...  ...    129\n",
              "...                                                 ...  ...    ...\n",
              "1722  The movie, \"Casino\", is an appropriate metapho...  ...    366\n",
              "4925  Very disappointing! My family and I visited a ...  ...    371\n",
              "6393  Let me preface this with 1.  I'm a Hilton Hono...  ...    374\n",
              "2194  I wish I could say something amazing about thi...  ...    381\n",
              "1012  ugh I really wish I don't have to leave a bad ...  ...    396\n",
              "\n",
              "[648 rows x 3 columns]"
            ]
          },
          "metadata": {
            "tags": []
          },
          "execution_count": 40
        }
      ]
    },
    {
      "cell_type": "markdown",
      "metadata": {
        "id": "BCLjrC9fOIb_"
      },
      "source": [
        "### Removing the reviews that are below length 4"
      ]
    },
    {
      "cell_type": "code",
      "metadata": {
        "colab": {
          "base_uri": "https://localhost:8080/"
        },
        "id": "GKwbbzX0ubmm",
        "outputId": "61923332-1547-407b-b647-05e8781d005e"
      },
      "source": [
        "balanced_reviews.shape"
      ],
      "execution_count": null,
      "outputs": [
        {
          "output_type": "execute_result",
          "data": {
            "text/plain": [
              "(12993, 5)"
            ]
          },
          "metadata": {
            "tags": []
          },
          "execution_count": 41
        }
      ]
    },
    {
      "cell_type": "code",
      "metadata": {
        "id": "Al5u1wiinx9G",
        "colab": {
          "base_uri": "https://localhost:8080/"
        },
        "outputId": "61387e0a-ea7d-41c4-b71d-a6ffa8cdc26c"
      },
      "source": [
        "below_length = balanced_reviews[balanced_reviews['length']<4]\n",
        "\n",
        "sample_reviews = balanced_reviews[balanced_reviews.isin(below_length)==False]\n",
        "sample_reviews.shape"
      ],
      "execution_count": null,
      "outputs": [
        {
          "output_type": "execute_result",
          "data": {
            "text/plain": [
              "(12993, 5)"
            ]
          },
          "metadata": {
            "tags": []
          },
          "execution_count": 51
        }
      ]
    },
    {
      "cell_type": "code",
      "metadata": {
        "colab": {
          "base_uri": "https://localhost:8080/"
        },
        "id": "MWtanSkyvRI-",
        "outputId": "dce8d13d-ecc4-4e01-9bb1-01b3cd82f3e9"
      },
      "source": [
        "sample_reviews['length'].describe()"
      ],
      "execution_count": null,
      "outputs": [
        {
          "output_type": "execute_result",
          "data": {
            "text/plain": [
              "count    12329.000000\n",
              "mean        40.866331\n",
              "std         27.759725\n",
              "min          5.000000\n",
              "25%         19.000000\n",
              "50%         33.000000\n",
              "75%         56.000000\n",
              "max        128.000000\n",
              "Name: length, dtype: float64"
            ]
          },
          "metadata": {
            "tags": []
          },
          "execution_count": 53
        }
      ]
    },
    {
      "cell_type": "code",
      "metadata": {
        "colab": {
          "base_uri": "https://localhost:8080/"
        },
        "id": "e5R2EXI3wVj6",
        "outputId": "1dd651ce-bba6-40c0-dbc7-b816ac41bb73"
      },
      "source": [
        "sample_reviews.dropna(inplace=True)\n",
        "sample_reviews.shape"
      ],
      "execution_count": null,
      "outputs": [
        {
          "output_type": "execute_result",
          "data": {
            "text/plain": [
              "(12326, 5)"
            ]
          },
          "metadata": {
            "tags": []
          },
          "execution_count": 55
        }
      ]
    },
    {
      "cell_type": "code",
      "metadata": {
        "colab": {
          "base_uri": "https://localhost:8080/"
        },
        "id": "FewVb22K4W1C",
        "outputId": "96bf1fe8-cdde-4ec0-92ff-9b66273bd2f6"
      },
      "source": [
        "below_length.label.value_counts()"
      ],
      "execution_count": null,
      "outputs": [
        {
          "output_type": "execute_result",
          "data": {
            "text/plain": [
              "1    11\n",
              "0     5\n",
              "Name: label, dtype: int64"
            ]
          },
          "metadata": {
            "tags": []
          },
          "execution_count": 60
        }
      ]
    },
    {
      "cell_type": "code",
      "metadata": {
        "colab": {
          "base_uri": "https://localhost:8080/"
        },
        "id": "pkxX9KgV4I3M",
        "outputId": "f867aabf-e8f9-4970-944e-33258858ac76"
      },
      "source": [
        "sample_reviews['label'].value_counts()"
      ],
      "execution_count": null,
      "outputs": [
        {
          "output_type": "execute_result",
          "data": {
            "text/plain": [
              "1.0    6273\n",
              "0.0    6053\n",
              "Name: label, dtype: int64"
            ]
          },
          "metadata": {
            "tags": []
          },
          "execution_count": 58
        }
      ]
    },
    {
      "cell_type": "code",
      "metadata": {
        "colab": {
          "base_uri": "https://localhost:8080/"
        },
        "id": "FhqRAYx04g6w",
        "outputId": "6e991986-bda8-499b-b7d6-9e27aa8326bd"
      },
      "source": [
        "balanced_reviews['label'].value_counts()"
      ],
      "execution_count": null,
      "outputs": [
        {
          "output_type": "execute_result",
          "data": {
            "text/plain": [
              "0    6497\n",
              "1    6496\n",
              "Name: label, dtype: int64"
            ]
          },
          "metadata": {
            "tags": []
          },
          "execution_count": 62
        }
      ]
    },
    {
      "cell_type": "markdown",
      "metadata": {
        "id": "sHtfb18krXdF"
      },
      "source": [
        "## Saving the cleaned sample with lenght column"
      ]
    },
    {
      "cell_type": "code",
      "metadata": {
        "execution": {
          "iopub.execute_input": "2021-01-22T11:55:09.184364Z",
          "iopub.status.busy": "2021-01-22T11:55:09.177860Z",
          "iopub.status.idle": "2021-01-22T11:55:09.195357Z",
          "shell.execute_reply": "2021-01-22T11:55:09.194624Z"
        },
        "papermill": {
          "duration": 0.08133,
          "end_time": "2021-01-22T11:55:09.195473",
          "exception": false,
          "start_time": "2021-01-22T11:55:09.114143",
          "status": "completed"
        },
        "tags": [],
        "colab": {
          "base_uri": "https://localhost:8080/",
          "height": 289
        },
        "id": "5qUVhr0MYZ6h",
        "outputId": "5f23b89b-6834-4dce-d768-8e90dea7ced0"
      },
      "source": [
        "#sample_reviews = sample_reviews.drop(labels='business_id', axis=1)\n",
        "sample_reviews.reset_index(drop=True, inplace=True)\n",
        "sample_reviews.tail()"
      ],
      "execution_count": null,
      "outputs": [
        {
          "output_type": "execute_result",
          "data": {
            "text/html": [
              "<div>\n",
              "<style scoped>\n",
              "    .dataframe tbody tr th:only-of-type {\n",
              "        vertical-align: middle;\n",
              "    }\n",
              "\n",
              "    .dataframe tbody tr th {\n",
              "        vertical-align: top;\n",
              "    }\n",
              "\n",
              "    .dataframe thead th {\n",
              "        text-align: right;\n",
              "    }\n",
              "</style>\n",
              "<table border=\"1\" class=\"dataframe\">\n",
              "  <thead>\n",
              "    <tr style=\"text-align: right;\">\n",
              "      <th></th>\n",
              "      <th>text</th>\n",
              "      <th>label</th>\n",
              "      <th>categories</th>\n",
              "      <th>clean_text</th>\n",
              "      <th>length</th>\n",
              "    </tr>\n",
              "  </thead>\n",
              "  <tbody>\n",
              "    <tr>\n",
              "      <th>12321</th>\n",
              "      <td>There are very, very few companies that unders...</td>\n",
              "      <td>1.0</td>\n",
              "      <td>Auto Glass Services, Windows Installation, Gla...</td>\n",
              "      <td>companies understand treat customer crystal cl...</td>\n",
              "      <td>32.0</td>\n",
              "    </tr>\n",
              "    <tr>\n",
              "      <th>12322</th>\n",
              "      <td>We stopped here after reading a Yelp review. A...</td>\n",
              "      <td>1.0</td>\n",
              "      <td>Halal, Restaurants, Asian Fusion</td>\n",
              "      <td>stopped reading yelp review sunday night resta...</td>\n",
              "      <td>35.0</td>\n",
              "    </tr>\n",
              "    <tr>\n",
              "      <th>12323</th>\n",
              "      <td>I love this cafe! Doesn't matter what day it i...</td>\n",
              "      <td>1.0</td>\n",
              "      <td>Delis, Vegan, Restaurants, French, Food, Coffe...</td>\n",
              "      <td>love cafe matter day place stays busy walk aro...</td>\n",
              "      <td>59.0</td>\n",
              "    </tr>\n",
              "    <tr>\n",
              "      <th>12324</th>\n",
              "      <td>Finally after months of waiting the hubby and ...</td>\n",
              "      <td>1.0</td>\n",
              "      <td>Mexican, Restaurants</td>\n",
              "      <td>finally months waiting hubby date night momoch...</td>\n",
              "      <td>44.0</td>\n",
              "    </tr>\n",
              "    <tr>\n",
              "      <th>12325</th>\n",
              "      <td>Absolutely love this place. It is my Sunday af...</td>\n",
              "      <td>1.0</td>\n",
              "      <td>Burgers, Restaurants, Sandwiches, Breakfast &amp; ...</td>\n",
              "      <td>absolutely love place sunday church tradition ...</td>\n",
              "      <td>17.0</td>\n",
              "    </tr>\n",
              "  </tbody>\n",
              "</table>\n",
              "</div>"
            ],
            "text/plain": [
              "                                                    text  ...  length\n",
              "12321  There are very, very few companies that unders...  ...    32.0\n",
              "12322  We stopped here after reading a Yelp review. A...  ...    35.0\n",
              "12323  I love this cafe! Doesn't matter what day it i...  ...    59.0\n",
              "12324  Finally after months of waiting the hubby and ...  ...    44.0\n",
              "12325  Absolutely love this place. It is my Sunday af...  ...    17.0\n",
              "\n",
              "[5 rows x 5 columns]"
            ]
          },
          "metadata": {
            "tags": []
          },
          "execution_count": 56
        }
      ]
    },
    {
      "cell_type": "code",
      "metadata": {
        "execution": {
          "iopub.execute_input": "2021-01-22T11:55:09.322472Z",
          "iopub.status.busy": "2021-01-22T11:55:09.314300Z",
          "iopub.status.idle": "2021-01-22T11:55:09.332512Z",
          "shell.execute_reply": "2021-01-22T11:55:09.331586Z"
        },
        "papermill": {
          "duration": 0.080277,
          "end_time": "2021-01-22T11:55:09.332672",
          "exception": false,
          "start_time": "2021-01-22T11:55:09.252395",
          "status": "completed"
        },
        "tags": [],
        "id": "EM5383paYZ6h"
      },
      "source": [
        "# Save in a pickle file the pre-processed sample\n",
        "sample_reviews.to_pickle('/content/drive/MyDrive/Yelp/sample_yelp_reviews_cleaned.pkl')"
      ],
      "execution_count": null,
      "outputs": []
    },
    {
      "cell_type": "code",
      "metadata": {
        "id": "qiV5CARwxHGt"
      },
      "source": [
        ""
      ],
      "execution_count": null,
      "outputs": []
    }
  ]
}