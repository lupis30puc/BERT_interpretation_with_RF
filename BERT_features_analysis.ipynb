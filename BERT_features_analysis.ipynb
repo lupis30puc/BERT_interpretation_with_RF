{
  "nbformat": 4,
  "nbformat_minor": 0,
  "metadata": {
    "colab": {
      "name": "BERT_features_analysis.ipynb",
      "provenance": [],
      "collapsed_sections": [
        "Qx--WzAEAMvz"
      ],
      "authorship_tag": "ABX9TyPYj+hJ+PwOIEKRQc7IMqRl",
      "include_colab_link": true
    },
    "kernelspec": {
      "name": "python3",
      "display_name": "Python 3"
    }
  },
  "cells": [
    {
      "cell_type": "markdown",
      "metadata": {
        "id": "view-in-github",
        "colab_type": "text"
      },
      "source": [
        "<a href=\"https://colab.research.google.com/github/lupis30puc/BERT_interpretation_with_RF/blob/main/BERT_features_analysis.ipynb\" target=\"_parent\"><img src=\"https://colab.research.google.com/assets/colab-badge.svg\" alt=\"Open In Colab\"/></a>"
      ]
    },
    {
      "cell_type": "markdown",
      "metadata": {
        "id": "Qx--WzAEAMvz"
      },
      "source": [
        "## Set Up"
      ]
    },
    {
      "cell_type": "code",
      "metadata": {
        "colab": {
          "base_uri": "https://localhost:8080/"
        },
        "id": "3d5Y_yn7_owl",
        "outputId": "791cd33c-2bbd-4349-df5c-bb626daf9987"
      },
      "source": [
        "from google.colab import drive\r\n",
        "drive.mount('/content/drive')"
      ],
      "execution_count": null,
      "outputs": [
        {
          "output_type": "stream",
          "text": [
            "Mounted at /content/drive\n"
          ],
          "name": "stdout"
        }
      ]
    },
    {
      "cell_type": "code",
      "metadata": {
        "id": "7Olhw4Uf_qSt"
      },
      "source": [
        "import pandas as pd\r\n",
        "import numpy as np\r\n",
        "import matplotlib.pyplot as plt\r\n",
        "import seaborn as sns\r\n",
        "%matplotlib inline\r\n",
        "import string\r\n",
        "import math\r\n",
        "import random\r\n",
        "\r\n",
        "from sklearn.model_selection import train_test_split, cross_val_score, GridSearchCV\r\n",
        "from sklearn.metrics import classification_report\r\n",
        "from sklearn.metrics import confusion_matrix, accuracy_score, roc_auc_score, roc_curve\r\n",
        "from sklearn.ensemble import RandomForestClassifier\r\n",
        "\r\n",
        "import time\r\n",
        "import pickle\r\n",
        "#from treeinterpreter import treeinterpreter as ti\r\n",
        "import joblib\r\n",
        "#from transformers import BertTokenizer\r\n",
        "import torch"
      ],
      "execution_count": null,
      "outputs": []
    },
    {
      "cell_type": "code",
      "metadata": {
        "id": "FpYcbbcNLxBO"
      },
      "source": [
        "# function so that the graphs look good \n",
        "def set_plotting_style():\n",
        "  tw = 1.5\n",
        "  rc = {'lines.linewidth': 2,\n",
        "              'axes.labelsize': 18,\n",
        "              'axes.titlesize': 21,\n",
        "              'xtick.major' : 16,\n",
        "              'ytick.major' : 16,\n",
        "              'xtick.major.width': tw,\n",
        "              'xtick.minor.width': tw,\n",
        "              'ytick.major.width': tw,\n",
        "              'ytick.minor.width': tw,\n",
        "              'xtick.labelsize': 'large',\n",
        "              'ytick.labelsize': 'large',\n",
        "              'font.family': 'sans',\n",
        "              'weight':'bold',\n",
        "              'grid.linestyle': ':',\n",
        "              'grid.linewidth': 1.5,\n",
        "              'grid.color': '#ffffff',\n",
        "              'mathtext.fontset': 'stixsans',\n",
        "              'mathtext.sf': 'fantasy',\n",
        "              'legend.frameon': True,\n",
        "              'legend.fontsize': 12, \n",
        "            \"xtick.direction\": \"in\",\"ytick.direction\": \"in\"}\n",
        "\n",
        "  plt.rc('text.latex', preamble=r'\\usepackage{sfmath}')\n",
        "  plt.rc('mathtext', fontset='stixsans', sf='sans')\n",
        "  sns.set_style('ticks', rc=rc)\n",
        "  sns.set_context('notebook', rc=rc)\n"
      ],
      "execution_count": null,
      "outputs": []
    },
    {
      "cell_type": "markdown",
      "metadata": {
        "id": "LfF9cG_d7arq"
      },
      "source": [
        "## Loading feature importances and analyzing them "
      ]
    },
    {
      "cell_type": "code",
      "metadata": {
        "colab": {
          "base_uri": "https://localhost:8080/",
          "height": 359
        },
        "id": "uortuBX0QYEn",
        "outputId": "dabef2c8-7d36-4290-e8de-726dce9d6b64"
      },
      "source": [
        "ft_imp = pd.read_pickle('/content/drive/MyDrive/Yelp/random_forest/importance_df.pkl')\n",
        "ft_imp.sort_values(by=['imp'], ascending=False)[:10] #words with important role "
      ],
      "execution_count": null,
      "outputs": [
        {
          "output_type": "execute_result",
          "data": {
            "text/html": [
              "<div>\n",
              "<style scoped>\n",
              "    .dataframe tbody tr th:only-of-type {\n",
              "        vertical-align: middle;\n",
              "    }\n",
              "\n",
              "    .dataframe tbody tr th {\n",
              "        vertical-align: top;\n",
              "    }\n",
              "\n",
              "    .dataframe thead th {\n",
              "        text-align: right;\n",
              "    }\n",
              "</style>\n",
              "<table border=\"1\" class=\"dataframe\">\n",
              "  <thead>\n",
              "    <tr style=\"text-align: right;\">\n",
              "      <th></th>\n",
              "      <th>ids</th>\n",
              "      <th>words</th>\n",
              "      <th>imp</th>\n",
              "    </tr>\n",
              "  </thead>\n",
              "  <tbody>\n",
              "    <tr>\n",
              "      <th>288</th>\n",
              "      <td>2307</td>\n",
              "      <td>great</td>\n",
              "      <td>0.042505</td>\n",
              "    </tr>\n",
              "    <tr>\n",
              "      <th>8020</th>\n",
              "      <td>12090</td>\n",
              "      <td>delicious</td>\n",
              "      <td>0.020511</td>\n",
              "    </tr>\n",
              "    <tr>\n",
              "      <th>3802</th>\n",
              "      <td>6429</td>\n",
              "      <td>amazing</td>\n",
              "      <td>0.018595</td>\n",
              "    </tr>\n",
              "    <tr>\n",
              "      <th>2978</th>\n",
              "      <td>5409</td>\n",
              "      <td>worst</td>\n",
              "      <td>0.016944</td>\n",
              "    </tr>\n",
              "    <tr>\n",
              "      <th>279</th>\n",
              "      <td>2293</td>\n",
              "      <td>love</td>\n",
              "      <td>0.015892</td>\n",
              "    </tr>\n",
              "    <tr>\n",
              "      <th>2954</th>\n",
              "      <td>5379</td>\n",
              "      <td>friendly</td>\n",
              "      <td>0.015123</td>\n",
              "    </tr>\n",
              "    <tr>\n",
              "      <th>373</th>\n",
              "      <td>2409</td>\n",
              "      <td>told</td>\n",
              "      <td>0.014258</td>\n",
              "    </tr>\n",
              "    <tr>\n",
              "      <th>5957</th>\n",
              "      <td>9202</td>\n",
              "      <td>horrible</td>\n",
              "      <td>0.014049</td>\n",
              "    </tr>\n",
              "    <tr>\n",
              "      <th>327</th>\n",
              "      <td>2356</td>\n",
              "      <td>asked</td>\n",
              "      <td>0.013634</td>\n",
              "    </tr>\n",
              "    <tr>\n",
              "      <th>3991</th>\n",
              "      <td>6659</td>\n",
              "      <td>terrible</td>\n",
              "      <td>0.013311</td>\n",
              "    </tr>\n",
              "  </tbody>\n",
              "</table>\n",
              "</div>"
            ],
            "text/plain": [
              "        ids      words       imp\n",
              "288    2307      great  0.042505\n",
              "8020  12090  delicious  0.020511\n",
              "3802   6429    amazing  0.018595\n",
              "2978   5409      worst  0.016944\n",
              "279    2293       love  0.015892\n",
              "2954   5379   friendly  0.015123\n",
              "373    2409       told  0.014258\n",
              "5957   9202   horrible  0.014049\n",
              "327    2356      asked  0.013634\n",
              "3991   6659   terrible  0.013311"
            ]
          },
          "metadata": {
            "tags": []
          },
          "execution_count": 196
        }
      ]
    },
    {
      "cell_type": "code",
      "metadata": {
        "colab": {
          "base_uri": "https://localhost:8080/",
          "height": 545
        },
        "id": "S_mLC18Ntz0o",
        "outputId": "fc77dce4-f901-44b1-de80-276e04c624fb"
      },
      "source": [
        "ft_imp[['words', 'imp']][ft_imp['imp'] > 0.01].sort_values(by=['imp'], ascending=False)"
      ],
      "execution_count": null,
      "outputs": [
        {
          "output_type": "execute_result",
          "data": {
            "text/html": [
              "<div>\n",
              "<style scoped>\n",
              "    .dataframe tbody tr th:only-of-type {\n",
              "        vertical-align: middle;\n",
              "    }\n",
              "\n",
              "    .dataframe tbody tr th {\n",
              "        vertical-align: top;\n",
              "    }\n",
              "\n",
              "    .dataframe thead th {\n",
              "        text-align: right;\n",
              "    }\n",
              "</style>\n",
              "<table border=\"1\" class=\"dataframe\">\n",
              "  <thead>\n",
              "    <tr style=\"text-align: right;\">\n",
              "      <th></th>\n",
              "      <th>words</th>\n",
              "      <th>imp</th>\n",
              "    </tr>\n",
              "  </thead>\n",
              "  <tbody>\n",
              "    <tr>\n",
              "      <th>288</th>\n",
              "      <td>great</td>\n",
              "      <td>0.042505</td>\n",
              "    </tr>\n",
              "    <tr>\n",
              "      <th>8020</th>\n",
              "      <td>delicious</td>\n",
              "      <td>0.020511</td>\n",
              "    </tr>\n",
              "    <tr>\n",
              "      <th>3802</th>\n",
              "      <td>amazing</td>\n",
              "      <td>0.018595</td>\n",
              "    </tr>\n",
              "    <tr>\n",
              "      <th>2978</th>\n",
              "      <td>worst</td>\n",
              "      <td>0.016944</td>\n",
              "    </tr>\n",
              "    <tr>\n",
              "      <th>279</th>\n",
              "      <td>love</td>\n",
              "      <td>0.015892</td>\n",
              "    </tr>\n",
              "    <tr>\n",
              "      <th>2954</th>\n",
              "      <td>friendly</td>\n",
              "      <td>0.015123</td>\n",
              "    </tr>\n",
              "    <tr>\n",
              "      <th>373</th>\n",
              "      <td>told</td>\n",
              "      <td>0.014258</td>\n",
              "    </tr>\n",
              "    <tr>\n",
              "      <th>5957</th>\n",
              "      <td>horrible</td>\n",
              "      <td>0.014049</td>\n",
              "    </tr>\n",
              "    <tr>\n",
              "      <th>327</th>\n",
              "      <td>asked</td>\n",
              "      <td>0.013634</td>\n",
              "    </tr>\n",
              "    <tr>\n",
              "      <th>3991</th>\n",
              "      <td>terrible</td>\n",
              "      <td>0.013311</td>\n",
              "    </tr>\n",
              "    <tr>\n",
              "      <th>8440</th>\n",
              "      <td>rude</td>\n",
              "      <td>0.012900</td>\n",
              "    </tr>\n",
              "    <tr>\n",
              "      <th>193</th>\n",
              "      <td>best</td>\n",
              "      <td>0.012858</td>\n",
              "    </tr>\n",
              "    <tr>\n",
              "      <th>82</th>\n",
              "      <td>said</td>\n",
              "      <td>0.012458</td>\n",
              "    </tr>\n",
              "    <tr>\n",
              "      <th>3305</th>\n",
              "      <td>definitely</td>\n",
              "      <td>0.011669</td>\n",
              "    </tr>\n",
              "    <tr>\n",
              "      <th>682</th>\n",
              "      <td>minutes</td>\n",
              "      <td>0.010459</td>\n",
              "    </tr>\n",
              "    <tr>\n",
              "      <th>3925</th>\n",
              "      <td>excellent</td>\n",
              "      <td>0.010304</td>\n",
              "    </tr>\n",
              "  </tbody>\n",
              "</table>\n",
              "</div>"
            ],
            "text/plain": [
              "           words       imp\n",
              "288        great  0.042505\n",
              "8020   delicious  0.020511\n",
              "3802     amazing  0.018595\n",
              "2978       worst  0.016944\n",
              "279         love  0.015892\n",
              "2954    friendly  0.015123\n",
              "373         told  0.014258\n",
              "5957    horrible  0.014049\n",
              "327        asked  0.013634\n",
              "3991    terrible  0.013311\n",
              "8440        rude  0.012900\n",
              "193         best  0.012858\n",
              "82          said  0.012458\n",
              "3305  definitely  0.011669\n",
              "682      minutes  0.010459\n",
              "3925   excellent  0.010304"
            ]
          },
          "metadata": {
            "tags": []
          },
          "execution_count": 194
        }
      ]
    },
    {
      "cell_type": "code",
      "metadata": {
        "colab": {
          "base_uri": "https://localhost:8080/",
          "height": 359
        },
        "id": "DIYGm41duXSm",
        "outputId": "8fccdab4-1dc5-4a6f-ab9d-3d4730c1d4b9"
      },
      "source": [
        "# checking the least important features\n",
        "ft_imp.sort_values(by=['imp'], ascending=True)[:10]"
      ],
      "execution_count": null,
      "outputs": [
        {
          "output_type": "execute_result",
          "data": {
            "text/html": [
              "<div>\n",
              "<style scoped>\n",
              "    .dataframe tbody tr th:only-of-type {\n",
              "        vertical-align: middle;\n",
              "    }\n",
              "\n",
              "    .dataframe tbody tr th {\n",
              "        vertical-align: top;\n",
              "    }\n",
              "\n",
              "    .dataframe thead th {\n",
              "        text-align: right;\n",
              "    }\n",
              "</style>\n",
              "<table border=\"1\" class=\"dataframe\">\n",
              "  <thead>\n",
              "    <tr style=\"text-align: right;\">\n",
              "      <th></th>\n",
              "      <th>ids</th>\n",
              "      <th>words</th>\n",
              "      <th>imp</th>\n",
              "    </tr>\n",
              "  </thead>\n",
              "  <tbody>\n",
              "    <tr>\n",
              "      <th>8281</th>\n",
              "      <td>12479</td>\n",
              "      <td>ambitious</td>\n",
              "      <td>0.0</td>\n",
              "    </tr>\n",
              "    <tr>\n",
              "      <th>10663</th>\n",
              "      <td>16396</td>\n",
              "      <td>offset</td>\n",
              "      <td>0.0</td>\n",
              "    </tr>\n",
              "    <tr>\n",
              "      <th>10664</th>\n",
              "      <td>16401</td>\n",
              "      <td>converting</td>\n",
              "      <td>0.0</td>\n",
              "    </tr>\n",
              "    <tr>\n",
              "      <th>10665</th>\n",
              "      <td>16402</td>\n",
              "      <td>##iver</td>\n",
              "      <td>0.0</td>\n",
              "    </tr>\n",
              "    <tr>\n",
              "      <th>10667</th>\n",
              "      <td>16408</td>\n",
              "      <td>supportive</td>\n",
              "      <td>0.0</td>\n",
              "    </tr>\n",
              "    <tr>\n",
              "      <th>10668</th>\n",
              "      <td>16409</td>\n",
              "      <td>##dc</td>\n",
              "      <td>0.0</td>\n",
              "    </tr>\n",
              "    <tr>\n",
              "      <th>10669</th>\n",
              "      <td>16412</td>\n",
              "      <td>responds</td>\n",
              "      <td>0.0</td>\n",
              "    </tr>\n",
              "    <tr>\n",
              "      <th>10670</th>\n",
              "      <td>16416</td>\n",
              "      <td>##rea</td>\n",
              "      <td>0.0</td>\n",
              "    </tr>\n",
              "    <tr>\n",
              "      <th>10671</th>\n",
              "      <td>16417</td>\n",
              "      <td>ein</td>\n",
              "      <td>0.0</td>\n",
              "    </tr>\n",
              "    <tr>\n",
              "      <th>10672</th>\n",
              "      <td>16420</td>\n",
              "      <td>sf</td>\n",
              "      <td>0.0</td>\n",
              "    </tr>\n",
              "  </tbody>\n",
              "</table>\n",
              "</div>"
            ],
            "text/plain": [
              "         ids       words  imp\n",
              "8281   12479   ambitious  0.0\n",
              "10663  16396      offset  0.0\n",
              "10664  16401  converting  0.0\n",
              "10665  16402      ##iver  0.0\n",
              "10667  16408  supportive  0.0\n",
              "10668  16409        ##dc  0.0\n",
              "10669  16412    responds  0.0\n",
              "10670  16416       ##rea  0.0\n",
              "10671  16417         ein  0.0\n",
              "10672  16420          sf  0.0"
            ]
          },
          "metadata": {
            "tags": []
          },
          "execution_count": 197
        }
      ]
    },
    {
      "cell_type": "code",
      "metadata": {
        "colab": {
          "base_uri": "https://localhost:8080/",
          "height": 419
        },
        "id": "B6uUNN3EuUsw",
        "outputId": "863d8a10-20c4-445b-f0a9-bff12926ee5b"
      },
      "source": [
        "# checking how many features have 0 importance\n",
        "ft_imp[['words', 'imp']][ft_imp['imp'] == 0].sort_values(by=['imp'])"
      ],
      "execution_count": null,
      "outputs": [
        {
          "output_type": "execute_result",
          "data": {
            "text/html": [
              "<div>\n",
              "<style scoped>\n",
              "    .dataframe tbody tr th:only-of-type {\n",
              "        vertical-align: middle;\n",
              "    }\n",
              "\n",
              "    .dataframe tbody tr th {\n",
              "        vertical-align: top;\n",
              "    }\n",
              "\n",
              "    .dataframe thead th {\n",
              "        text-align: right;\n",
              "    }\n",
              "</style>\n",
              "<table border=\"1\" class=\"dataframe\">\n",
              "  <thead>\n",
              "    <tr style=\"text-align: right;\">\n",
              "      <th></th>\n",
              "      <th>words</th>\n",
              "      <th>imp</th>\n",
              "    </tr>\n",
              "  </thead>\n",
              "  <tbody>\n",
              "    <tr>\n",
              "      <th>1</th>\n",
              "      <td>[CLS]</td>\n",
              "      <td>0.0</td>\n",
              "    </tr>\n",
              "    <tr>\n",
              "      <th>12082</th>\n",
              "      <td>litter</td>\n",
              "      <td>0.0</td>\n",
              "    </tr>\n",
              "    <tr>\n",
              "      <th>12083</th>\n",
              "      <td>hiss</td>\n",
              "      <td>0.0</td>\n",
              "    </tr>\n",
              "    <tr>\n",
              "      <th>12084</th>\n",
              "      <td>rumor</td>\n",
              "      <td>0.0</td>\n",
              "    </tr>\n",
              "    <tr>\n",
              "      <th>12085</th>\n",
              "      <td>vow</td>\n",
              "      <td>0.0</td>\n",
              "    </tr>\n",
              "    <tr>\n",
              "      <th>...</th>\n",
              "      <td>...</td>\n",
              "      <td>...</td>\n",
              "    </tr>\n",
              "    <tr>\n",
              "      <th>7274</th>\n",
              "      <td>shy</td>\n",
              "      <td>0.0</td>\n",
              "    </tr>\n",
              "    <tr>\n",
              "      <th>7276</th>\n",
              "      <td>greene</td>\n",
              "      <td>0.0</td>\n",
              "    </tr>\n",
              "    <tr>\n",
              "      <th>7279</th>\n",
              "      <td>sherman</td>\n",
              "      <td>0.0</td>\n",
              "    </tr>\n",
              "    <tr>\n",
              "      <th>7281</th>\n",
              "      <td>reinforced</td>\n",
              "      <td>0.0</td>\n",
              "    </tr>\n",
              "    <tr>\n",
              "      <th>16562</th>\n",
              "      <td>thyroid</td>\n",
              "      <td>0.0</td>\n",
              "    </tr>\n",
              "  </tbody>\n",
              "</table>\n",
              "<p>11530 rows × 2 columns</p>\n",
              "</div>"
            ],
            "text/plain": [
              "            words  imp\n",
              "1           [CLS]  0.0\n",
              "12082      litter  0.0\n",
              "12083        hiss  0.0\n",
              "12084       rumor  0.0\n",
              "12085         vow  0.0\n",
              "...           ...  ...\n",
              "7274          shy  0.0\n",
              "7276       greene  0.0\n",
              "7279      sherman  0.0\n",
              "7281   reinforced  0.0\n",
              "16562     thyroid  0.0\n",
              "\n",
              "[11530 rows x 2 columns]"
            ]
          },
          "metadata": {
            "tags": []
          },
          "execution_count": 198
        }
      ]
    },
    {
      "cell_type": "code",
      "metadata": {
        "colab": {
          "base_uri": "https://localhost:8080/"
        },
        "id": "6CrHL3tAvTMm",
        "outputId": "79eca202-855f-478e-df75-98fb40219649"
      },
      "source": [
        "# around 70% of the reviews have no importance according to RF\n",
        "ft_imp.shape"
      ],
      "execution_count": null,
      "outputs": [
        {
          "output_type": "execute_result",
          "data": {
            "text/plain": [
              "(16563, 3)"
            ]
          },
          "metadata": {
            "tags": []
          },
          "execution_count": 200
        }
      ]
    },
    {
      "cell_type": "code",
      "metadata": {
        "colab": {
          "base_uri": "https://localhost:8080/"
        },
        "id": "Vj-Dci4-unYY",
        "outputId": "7e3ec2d0-6b80-45bb-e618-96f6dfa350a1"
      },
      "source": [
        "# saving the part of the importances with actual values on it\n",
        "ft_importance = ft_imp[['words', 'imp']][ft_imp['imp'] != 0]\n",
        "ft_importance.shape"
      ],
      "execution_count": null,
      "outputs": [
        {
          "output_type": "execute_result",
          "data": {
            "text/plain": [
              "(5033, 2)"
            ]
          },
          "metadata": {
            "tags": []
          },
          "execution_count": 201
        }
      ]
    },
    {
      "cell_type": "code",
      "metadata": {
        "colab": {
          "base_uri": "https://localhost:8080/",
          "height": 359
        },
        "id": "6jN4cJa4vo2j",
        "outputId": "fbce3d09-fdec-4aac-9cb1-156cf89caf55"
      },
      "source": [
        "# the least important words for the model are these\n",
        "ft_importance.sort_values(by=['imp'], ascending=True)[:10]"
      ],
      "execution_count": null,
      "outputs": [
        {
          "output_type": "execute_result",
          "data": {
            "text/html": [
              "<div>\n",
              "<style scoped>\n",
              "    .dataframe tbody tr th:only-of-type {\n",
              "        vertical-align: middle;\n",
              "    }\n",
              "\n",
              "    .dataframe tbody tr th {\n",
              "        vertical-align: top;\n",
              "    }\n",
              "\n",
              "    .dataframe thead th {\n",
              "        text-align: right;\n",
              "    }\n",
              "</style>\n",
              "<table border=\"1\" class=\"dataframe\">\n",
              "  <thead>\n",
              "    <tr style=\"text-align: right;\">\n",
              "      <th></th>\n",
              "      <th>words</th>\n",
              "      <th>imp</th>\n",
              "    </tr>\n",
              "  </thead>\n",
              "  <tbody>\n",
              "    <tr>\n",
              "      <th>6758</th>\n",
              "      <td>rows</td>\n",
              "      <td>4.274550e-10</td>\n",
              "    </tr>\n",
              "    <tr>\n",
              "      <th>1284</th>\n",
              "      <td>guard</td>\n",
              "      <td>9.576851e-10</td>\n",
              "    </tr>\n",
              "    <tr>\n",
              "      <th>12470</th>\n",
              "      <td>slots</td>\n",
              "      <td>1.801621e-09</td>\n",
              "    </tr>\n",
              "    <tr>\n",
              "      <th>4856</th>\n",
              "      <td>mars</td>\n",
              "      <td>2.153322e-09</td>\n",
              "    </tr>\n",
              "    <tr>\n",
              "      <th>15154</th>\n",
              "      <td>##fect</td>\n",
              "      <td>4.475208e-09</td>\n",
              "    </tr>\n",
              "    <tr>\n",
              "      <th>3044</th>\n",
              "      <td>runner</td>\n",
              "      <td>5.336877e-09</td>\n",
              "    </tr>\n",
              "    <tr>\n",
              "      <th>16464</th>\n",
              "      <td>amazingly</td>\n",
              "      <td>6.469169e-09</td>\n",
              "    </tr>\n",
              "    <tr>\n",
              "      <th>480</th>\n",
              "      <td>royal</td>\n",
              "      <td>7.526595e-09</td>\n",
              "    </tr>\n",
              "    <tr>\n",
              "      <th>11884</th>\n",
              "      <td>absurd</td>\n",
              "      <td>8.228422e-09</td>\n",
              "    </tr>\n",
              "    <tr>\n",
              "      <th>7003</th>\n",
              "      <td>damp</td>\n",
              "      <td>8.954376e-09</td>\n",
              "    </tr>\n",
              "  </tbody>\n",
              "</table>\n",
              "</div>"
            ],
            "text/plain": [
              "           words           imp\n",
              "6758        rows  4.274550e-10\n",
              "1284       guard  9.576851e-10\n",
              "12470      slots  1.801621e-09\n",
              "4856        mars  2.153322e-09\n",
              "15154     ##fect  4.475208e-09\n",
              "3044      runner  5.336877e-09\n",
              "16464  amazingly  6.469169e-09\n",
              "480        royal  7.526595e-09\n",
              "11884     absurd  8.228422e-09\n",
              "7003        damp  8.954376e-09"
            ]
          },
          "metadata": {
            "tags": []
          },
          "execution_count": 203
        }
      ]
    },
    {
      "cell_type": "code",
      "metadata": {
        "colab": {
          "base_uri": "https://localhost:8080/"
        },
        "id": "QaGT2nblzPPa",
        "outputId": "39f44c4d-d2fc-4513-9767-c1f7d95866af"
      },
      "source": [
        "ft_importance.imp.describe()"
      ],
      "execution_count": null,
      "outputs": [
        {
          "output_type": "execute_result",
          "data": {
            "text/plain": [
              "count    5.033000e+03\n",
              "mean     1.986887e-04\n",
              "std      1.132216e-03\n",
              "min      4.274550e-10\n",
              "25%      2.543224e-06\n",
              "50%      1.192466e-05\n",
              "75%      7.122496e-05\n",
              "max      4.250529e-02\n",
              "Name: imp, dtype: float64"
            ]
          },
          "metadata": {
            "tags": []
          },
          "execution_count": 204
        }
      ]
    },
    {
      "cell_type": "code",
      "metadata": {
        "colab": {
          "base_uri": "https://localhost:8080/"
        },
        "id": "Pdz6poBrzUqO",
        "outputId": "81574e47-e311-4485-99b0-707fc9dcd954"
      },
      "source": [
        "ft_importance['imp_perc'] = ft_importance.imp.apply(lambda x : x*100)\n",
        "ft_importance['imp_perc'][288]"
      ],
      "execution_count": null,
      "outputs": [
        {
          "output_type": "execute_result",
          "data": {
            "text/plain": [
              "4.250529437111594"
            ]
          },
          "metadata": {
            "tags": []
          },
          "execution_count": 207
        }
      ]
    },
    {
      "cell_type": "code",
      "metadata": {
        "colab": {
          "base_uri": "https://localhost:8080/",
          "height": 359
        },
        "id": "ApnxYcbBzz20",
        "outputId": "4d28efab-0dc1-44a8-8398-ef5d26df8ce4"
      },
      "source": [
        "ft_importance[['words', 'imp_perc']].sort_values(by=['imp_perc'], ascending=False)[:10]"
      ],
      "execution_count": null,
      "outputs": [
        {
          "output_type": "execute_result",
          "data": {
            "text/html": [
              "<div>\n",
              "<style scoped>\n",
              "    .dataframe tbody tr th:only-of-type {\n",
              "        vertical-align: middle;\n",
              "    }\n",
              "\n",
              "    .dataframe tbody tr th {\n",
              "        vertical-align: top;\n",
              "    }\n",
              "\n",
              "    .dataframe thead th {\n",
              "        text-align: right;\n",
              "    }\n",
              "</style>\n",
              "<table border=\"1\" class=\"dataframe\">\n",
              "  <thead>\n",
              "    <tr style=\"text-align: right;\">\n",
              "      <th></th>\n",
              "      <th>words</th>\n",
              "      <th>imp_perc</th>\n",
              "    </tr>\n",
              "  </thead>\n",
              "  <tbody>\n",
              "    <tr>\n",
              "      <th>288</th>\n",
              "      <td>great</td>\n",
              "      <td>4.250529</td>\n",
              "    </tr>\n",
              "    <tr>\n",
              "      <th>8020</th>\n",
              "      <td>delicious</td>\n",
              "      <td>2.051149</td>\n",
              "    </tr>\n",
              "    <tr>\n",
              "      <th>3802</th>\n",
              "      <td>amazing</td>\n",
              "      <td>1.859461</td>\n",
              "    </tr>\n",
              "    <tr>\n",
              "      <th>2978</th>\n",
              "      <td>worst</td>\n",
              "      <td>1.694412</td>\n",
              "    </tr>\n",
              "    <tr>\n",
              "      <th>279</th>\n",
              "      <td>love</td>\n",
              "      <td>1.589207</td>\n",
              "    </tr>\n",
              "    <tr>\n",
              "      <th>2954</th>\n",
              "      <td>friendly</td>\n",
              "      <td>1.512306</td>\n",
              "    </tr>\n",
              "    <tr>\n",
              "      <th>373</th>\n",
              "      <td>told</td>\n",
              "      <td>1.425828</td>\n",
              "    </tr>\n",
              "    <tr>\n",
              "      <th>5957</th>\n",
              "      <td>horrible</td>\n",
              "      <td>1.404927</td>\n",
              "    </tr>\n",
              "    <tr>\n",
              "      <th>327</th>\n",
              "      <td>asked</td>\n",
              "      <td>1.363382</td>\n",
              "    </tr>\n",
              "    <tr>\n",
              "      <th>3991</th>\n",
              "      <td>terrible</td>\n",
              "      <td>1.331133</td>\n",
              "    </tr>\n",
              "  </tbody>\n",
              "</table>\n",
              "</div>"
            ],
            "text/plain": [
              "          words  imp_perc\n",
              "288       great  4.250529\n",
              "8020  delicious  2.051149\n",
              "3802    amazing  1.859461\n",
              "2978      worst  1.694412\n",
              "279        love  1.589207\n",
              "2954   friendly  1.512306\n",
              "373        told  1.425828\n",
              "5957   horrible  1.404927\n",
              "327       asked  1.363382\n",
              "3991   terrible  1.331133"
            ]
          },
          "metadata": {
            "tags": []
          },
          "execution_count": 285
        }
      ]
    },
    {
      "cell_type": "code",
      "metadata": {
        "colab": {
          "base_uri": "https://localhost:8080/"
        },
        "id": "tlRNTVD70WFX",
        "outputId": "757092a1-82b2-45e9-d696-a878c08f6ec0"
      },
      "source": [
        "ft_importance['imp_perc'].sum()"
      ],
      "execution_count": null,
      "outputs": [
        {
          "output_type": "execute_result",
          "data": {
            "text/plain": [
              "100.0"
            ]
          },
          "metadata": {
            "tags": []
          },
          "execution_count": 212
        }
      ]
    },
    {
      "cell_type": "code",
      "metadata": {
        "colab": {
          "base_uri": "https://localhost:8080/"
        },
        "id": "50TJoHGY0yXv",
        "outputId": "28f5d04d-acad-483b-c04f-44da2d9c250e"
      },
      "source": [
        "# the top 10 most important words make up 18% of the importance\n",
        "ft_importance['imp_perc'].sort_values(ascending=False)[:10].sum()"
      ],
      "execution_count": null,
      "outputs": [
        {
          "output_type": "execute_result",
          "data": {
            "text/plain": [
              "18.482334290740276"
            ]
          },
          "metadata": {
            "tags": []
          },
          "execution_count": 215
        }
      ]
    },
    {
      "cell_type": "code",
      "metadata": {
        "colab": {
          "base_uri": "https://localhost:8080/"
        },
        "id": "9qeqUQ9Y1CWh",
        "outputId": "e9243e30-2d41-4055-9d92-05f8e6c01933"
      },
      "source": [
        "ft_importance['imp_perc'][ft_importance['imp_perc'] >= 1].sum()"
      ],
      "execution_count": null,
      "outputs": [
        {
          "output_type": "execute_result",
          "data": {
            "text/plain": [
              "25.547103513793875"
            ]
          },
          "metadata": {
            "tags": []
          },
          "execution_count": 217
        }
      ]
    },
    {
      "cell_type": "code",
      "metadata": {
        "colab": {
          "base_uri": "https://localhost:8080/"
        },
        "id": "hJ2X01Q91Pzz",
        "outputId": "485d63b4-4ecb-4fbf-d729-616d9f52c269"
      },
      "source": [
        "# 16 words alone out of the 5033 words in total make up 25% of importance\n",
        "len(ft_importance['imp_perc'][ft_importance['imp_perc'] >= 1])"
      ],
      "execution_count": null,
      "outputs": [
        {
          "output_type": "execute_result",
          "data": {
            "text/plain": [
              "16"
            ]
          },
          "metadata": {
            "tags": []
          },
          "execution_count": 218
        }
      ]
    },
    {
      "cell_type": "code",
      "metadata": {
        "colab": {
          "base_uri": "https://localhost:8080/"
        },
        "id": "tF0wJ7EL14pj",
        "outputId": "f1a8f466-8ef1-44ed-9e26-3ec6c8dac8e8"
      },
      "source": [
        "ft_importance['imp_perc'][ft_importance['imp_perc'] >= 0.28].sum()"
      ],
      "execution_count": null,
      "outputs": [
        {
          "output_type": "execute_result",
          "data": {
            "text/plain": [
              "50.24830419644204"
            ]
          },
          "metadata": {
            "tags": []
          },
          "execution_count": 249
        }
      ]
    },
    {
      "cell_type": "code",
      "metadata": {
        "colab": {
          "base_uri": "https://localhost:8080/"
        },
        "id": "AWsENtH6177q",
        "outputId": "f5fb701b-fe1d-4959-8a83-36c21b850fe8"
      },
      "source": [
        "# 74 words alone out of the 5033 words in total make up more than 50% of importance\n",
        "len(ft_importance['imp_perc'][ft_importance['imp_perc'] >= 0.28])"
      ],
      "execution_count": null,
      "outputs": [
        {
          "output_type": "execute_result",
          "data": {
            "text/plain": [
              "69"
            ]
          },
          "metadata": {
            "tags": []
          },
          "execution_count": 250
        }
      ]
    },
    {
      "cell_type": "code",
      "metadata": {
        "colab": {
          "base_uri": "https://localhost:8080/"
        },
        "id": "uh0xcPsw73mL",
        "outputId": "9ee3df26-dc79-4503-fb9b-73e3feeba3a9"
      },
      "source": [
        "len(ft_importance[ft_importance['imp_perc'] < 0.5][ft_importance['imp_perc'] >= 0.25])"
      ],
      "execution_count": null,
      "outputs": [
        {
          "output_type": "stream",
          "text": [
            "/usr/local/lib/python3.7/dist-packages/ipykernel_launcher.py:1: UserWarning: Boolean Series key will be reindexed to match DataFrame index.\n",
            "  \"\"\"Entry point for launching an IPython kernel.\n"
          ],
          "name": "stderr"
        },
        {
          "output_type": "execute_result",
          "data": {
            "text/plain": [
              "40"
            ]
          },
          "metadata": {
            "tags": []
          },
          "execution_count": 222
        }
      ]
    },
    {
      "cell_type": "code",
      "metadata": {
        "colab": {
          "base_uri": "https://localhost:8080/",
          "height": 1000
        },
        "id": "xTVfle2i0Bli",
        "outputId": "ce75380c-81c1-4585-f576-8ebd3e2fd96b"
      },
      "source": [
        "ft_importance[ft_importance['imp_perc'] < 0.5][ft_importance['imp_perc'] >= 0.25].sort_values(by=['imp'], ascending=False)"
      ],
      "execution_count": null,
      "outputs": [
        {
          "output_type": "stream",
          "text": [
            "/usr/local/lib/python3.7/dist-packages/ipykernel_launcher.py:1: UserWarning: Boolean Series key will be reindexed to match DataFrame index.\n",
            "  \"\"\"Entry point for launching an IPython kernel.\n"
          ],
          "name": "stderr"
        },
        {
          "output_type": "execute_result",
          "data": {
            "text/html": [
              "<div>\n",
              "<style scoped>\n",
              "    .dataframe tbody tr th:only-of-type {\n",
              "        vertical-align: middle;\n",
              "    }\n",
              "\n",
              "    .dataframe tbody tr th {\n",
              "        vertical-align: top;\n",
              "    }\n",
              "\n",
              "    .dataframe thead th {\n",
              "        text-align: right;\n",
              "    }\n",
              "</style>\n",
              "<table border=\"1\" class=\"dataframe\">\n",
              "  <thead>\n",
              "    <tr style=\"text-align: right;\">\n",
              "      <th></th>\n",
              "      <th>words</th>\n",
              "      <th>imp</th>\n",
              "      <th>imp_perc</th>\n",
              "    </tr>\n",
              "  </thead>\n",
              "  <tbody>\n",
              "    <tr>\n",
              "      <th>276</th>\n",
              "      <td>got</td>\n",
              "      <td>0.004927</td>\n",
              "      <td>0.492729</td>\n",
              "    </tr>\n",
              "    <tr>\n",
              "      <th>172</th>\n",
              "      <td>took</td>\n",
              "      <td>0.004865</td>\n",
              "      <td>0.486467</td>\n",
              "    </tr>\n",
              "    <tr>\n",
              "      <th>1775</th>\n",
              "      <td>slow</td>\n",
              "      <td>0.004695</td>\n",
              "      <td>0.469495</td>\n",
              "    </tr>\n",
              "    <tr>\n",
              "      <th>6304</th>\n",
              "      <td>awful</td>\n",
              "      <td>0.004672</td>\n",
              "      <td>0.467163</td>\n",
              "    </tr>\n",
              "    <tr>\n",
              "      <th>1608</th>\n",
              "      <td>paid</td>\n",
              "      <td>0.004658</td>\n",
              "      <td>0.465850</td>\n",
              "    </tr>\n",
              "    <tr>\n",
              "      <th>1596</th>\n",
              "      <td>highly</td>\n",
              "      <td>0.004551</td>\n",
              "      <td>0.455094</td>\n",
              "    </tr>\n",
              "    <tr>\n",
              "      <th>433</th>\n",
              "      <td>better</td>\n",
              "      <td>0.004522</td>\n",
              "      <td>0.452165</td>\n",
              "    </tr>\n",
              "    <tr>\n",
              "      <th>177</th>\n",
              "      <td>called</td>\n",
              "      <td>0.004309</td>\n",
              "      <td>0.430880</td>\n",
              "    </tr>\n",
              "    <tr>\n",
              "      <th>6089</th>\n",
              "      <td>disappointed</td>\n",
              "      <td>0.004157</td>\n",
              "      <td>0.415713</td>\n",
              "    </tr>\n",
              "    <tr>\n",
              "      <th>1299</th>\n",
              "      <td>pay</td>\n",
              "      <td>0.004118</td>\n",
              "      <td>0.411755</td>\n",
              "    </tr>\n",
              "    <tr>\n",
              "      <th>6835</th>\n",
              "      <td>fantastic</td>\n",
              "      <td>0.004017</td>\n",
              "      <td>0.401687</td>\n",
              "    </tr>\n",
              "    <tr>\n",
              "      <th>2482</th>\n",
              "      <td>fresh</td>\n",
              "      <td>0.003932</td>\n",
              "      <td>0.393205</td>\n",
              "    </tr>\n",
              "    <tr>\n",
              "      <th>10850</th>\n",
              "      <td>recommend</td>\n",
              "      <td>0.003796</td>\n",
              "      <td>0.379645</td>\n",
              "    </tr>\n",
              "    <tr>\n",
              "      <th>1447</th>\n",
              "      <td>ordered</td>\n",
              "      <td>0.003733</td>\n",
              "      <td>0.373291</td>\n",
              "    </tr>\n",
              "    <tr>\n",
              "      <th>3174</th>\n",
              "      <td>enjoyed</td>\n",
              "      <td>0.003723</td>\n",
              "      <td>0.372298</td>\n",
              "    </tr>\n",
              "    <tr>\n",
              "      <th>8356</th>\n",
              "      <td>tasted</td>\n",
              "      <td>0.003708</td>\n",
              "      <td>0.370758</td>\n",
              "    </tr>\n",
              "    <tr>\n",
              "      <th>318</th>\n",
              "      <td>order</td>\n",
              "      <td>0.003655</td>\n",
              "      <td>0.365539</td>\n",
              "    </tr>\n",
              "    <tr>\n",
              "      <th>2254</th>\n",
              "      <td>fun</td>\n",
              "      <td>0.003628</td>\n",
              "      <td>0.362794</td>\n",
              "    </tr>\n",
              "    <tr>\n",
              "      <th>3949</th>\n",
              "      <td>##ice</td>\n",
              "      <td>0.003524</td>\n",
              "      <td>0.352396</td>\n",
              "    </tr>\n",
              "    <tr>\n",
              "      <th>5064</th>\n",
              "      <td>customer</td>\n",
              "      <td>0.003523</td>\n",
              "      <td>0.352262</td>\n",
              "    </tr>\n",
              "    <tr>\n",
              "      <th>12524</th>\n",
              "      <td>med</td>\n",
              "      <td>0.003385</td>\n",
              "      <td>0.338534</td>\n",
              "    </tr>\n",
              "    <tr>\n",
              "      <th>321</th>\n",
              "      <td>wasn</td>\n",
              "      <td>0.003326</td>\n",
              "      <td>0.332558</td>\n",
              "    </tr>\n",
              "    <tr>\n",
              "      <th>915</th>\n",
              "      <td>phone</td>\n",
              "      <td>0.003258</td>\n",
              "      <td>0.325824</td>\n",
              "    </tr>\n",
              "    <tr>\n",
              "      <th>12263</th>\n",
              "      <td>disgusting</td>\n",
              "      <td>0.003232</td>\n",
              "      <td>0.323186</td>\n",
              "    </tr>\n",
              "    <tr>\n",
              "      <th>2438</th>\n",
              "      <td>worse</td>\n",
              "      <td>0.003194</td>\n",
              "      <td>0.319421</td>\n",
              "    </tr>\n",
              "    <tr>\n",
              "      <th>11568</th>\n",
              "      <td>##pr</td>\n",
              "      <td>0.003104</td>\n",
              "      <td>0.310410</td>\n",
              "    </tr>\n",
              "    <tr>\n",
              "      <th>3885</th>\n",
              "      <td>dirty</td>\n",
              "      <td>0.003046</td>\n",
              "      <td>0.304566</td>\n",
              "    </tr>\n",
              "    <tr>\n",
              "      <th>249</th>\n",
              "      <td>went</td>\n",
              "      <td>0.002922</td>\n",
              "      <td>0.292151</td>\n",
              "    </tr>\n",
              "    <tr>\n",
              "      <th>1012</th>\n",
              "      <td>cold</td>\n",
              "      <td>0.002910</td>\n",
              "      <td>0.291003</td>\n",
              "    </tr>\n",
              "    <tr>\n",
              "      <th>9246</th>\n",
              "      <td>helpful</td>\n",
              "      <td>0.002899</td>\n",
              "      <td>0.289891</td>\n",
              "    </tr>\n",
              "    <tr>\n",
              "      <th>10846</th>\n",
              "      <td>##cre</td>\n",
              "      <td>0.002881</td>\n",
              "      <td>0.288061</td>\n",
              "    </tr>\n",
              "    <tr>\n",
              "      <th>5143</th>\n",
              "      <td>min</td>\n",
              "      <td>0.002878</td>\n",
              "      <td>0.287817</td>\n",
              "    </tr>\n",
              "    <tr>\n",
              "      <th>4154</th>\n",
              "      <td>unfortunately</td>\n",
              "      <td>0.002872</td>\n",
              "      <td>0.287225</td>\n",
              "    </tr>\n",
              "    <tr>\n",
              "      <th>3434</th>\n",
              "      <td>waste</td>\n",
              "      <td>0.002838</td>\n",
              "      <td>0.283757</td>\n",
              "    </tr>\n",
              "    <tr>\n",
              "      <th>330</th>\n",
              "      <td>wanted</td>\n",
              "      <td>0.002819</td>\n",
              "      <td>0.281879</td>\n",
              "    </tr>\n",
              "    <tr>\n",
              "      <th>1037</th>\n",
              "      <td>hour</td>\n",
              "      <td>0.002747</td>\n",
              "      <td>0.274746</td>\n",
              "    </tr>\n",
              "    <tr>\n",
              "      <th>6420</th>\n",
              "      <td>yu</td>\n",
              "      <td>0.002717</td>\n",
              "      <td>0.271696</td>\n",
              "    </tr>\n",
              "    <tr>\n",
              "      <th>121</th>\n",
              "      <td>later</td>\n",
              "      <td>0.002687</td>\n",
              "      <td>0.268731</td>\n",
              "    </tr>\n",
              "    <tr>\n",
              "      <th>6276</th>\n",
              "      <td>reasonable</td>\n",
              "      <td>0.002655</td>\n",
              "      <td>0.265463</td>\n",
              "    </tr>\n",
              "    <tr>\n",
              "      <th>2034</th>\n",
              "      <td>dry</td>\n",
              "      <td>0.002558</td>\n",
              "      <td>0.255818</td>\n",
              "    </tr>\n",
              "  </tbody>\n",
              "</table>\n",
              "</div>"
            ],
            "text/plain": [
              "               words       imp  imp_perc\n",
              "276              got  0.004927  0.492729\n",
              "172             took  0.004865  0.486467\n",
              "1775            slow  0.004695  0.469495\n",
              "6304           awful  0.004672  0.467163\n",
              "1608            paid  0.004658  0.465850\n",
              "1596          highly  0.004551  0.455094\n",
              "433           better  0.004522  0.452165\n",
              "177           called  0.004309  0.430880\n",
              "6089    disappointed  0.004157  0.415713\n",
              "1299             pay  0.004118  0.411755\n",
              "6835       fantastic  0.004017  0.401687\n",
              "2482           fresh  0.003932  0.393205\n",
              "10850      recommend  0.003796  0.379645\n",
              "1447         ordered  0.003733  0.373291\n",
              "3174         enjoyed  0.003723  0.372298\n",
              "8356          tasted  0.003708  0.370758\n",
              "318            order  0.003655  0.365539\n",
              "2254             fun  0.003628  0.362794\n",
              "3949           ##ice  0.003524  0.352396\n",
              "5064        customer  0.003523  0.352262\n",
              "12524            med  0.003385  0.338534\n",
              "321             wasn  0.003326  0.332558\n",
              "915            phone  0.003258  0.325824\n",
              "12263     disgusting  0.003232  0.323186\n",
              "2438           worse  0.003194  0.319421\n",
              "11568           ##pr  0.003104  0.310410\n",
              "3885           dirty  0.003046  0.304566\n",
              "249             went  0.002922  0.292151\n",
              "1012            cold  0.002910  0.291003\n",
              "9246         helpful  0.002899  0.289891\n",
              "10846          ##cre  0.002881  0.288061\n",
              "5143             min  0.002878  0.287817\n",
              "4154   unfortunately  0.002872  0.287225\n",
              "3434           waste  0.002838  0.283757\n",
              "330           wanted  0.002819  0.281879\n",
              "1037            hour  0.002747  0.274746\n",
              "6420              yu  0.002717  0.271696\n",
              "121            later  0.002687  0.268731\n",
              "6276      reasonable  0.002655  0.265463\n",
              "2034             dry  0.002558  0.255818"
            ]
          },
          "metadata": {
            "tags": []
          },
          "execution_count": 221
        }
      ]
    },
    {
      "cell_type": "markdown",
      "metadata": {
        "id": "AT1ikSiq-trf"
      },
      "source": [
        "## Opening the ids appearance data frame"
      ]
    },
    {
      "cell_type": "code",
      "metadata": {
        "colab": {
          "base_uri": "https://localhost:8080/"
        },
        "id": "BaQ9hF6D_Osq",
        "outputId": "46c2516d-68cb-456d-aff1-fb7ea5efa33d"
      },
      "source": [
        "# opening the x values binary dataframes \n",
        "ids_count =pd.read_pickle('/content/drive/MyDrive/Yelp/model_128_/binary_all')\n",
        "ids_count.shape"
      ],
      "execution_count": null,
      "outputs": [
        {
          "output_type": "execute_result",
          "data": {
            "text/plain": [
              "(12993, 16563)"
            ]
          },
          "metadata": {
            "tags": []
          },
          "execution_count": 226
        }
      ]
    },
    {
      "cell_type": "code",
      "metadata": {
        "colab": {
          "base_uri": "https://localhost:8080/",
          "height": 160
        },
        "id": "_M446xsFASsC",
        "outputId": "add758b5-41c3-420a-9c68-fb4c3c5f456b"
      },
      "source": [
        "ids_count.head(2)"
      ],
      "execution_count": null,
      "outputs": [
        {
          "output_type": "execute_result",
          "data": {
            "text/html": [
              "<div>\n",
              "<style scoped>\n",
              "    .dataframe tbody tr th:only-of-type {\n",
              "        vertical-align: middle;\n",
              "    }\n",
              "\n",
              "    .dataframe tbody tr th {\n",
              "        vertical-align: top;\n",
              "    }\n",
              "\n",
              "    .dataframe thead th {\n",
              "        text-align: right;\n",
              "    }\n",
              "</style>\n",
              "<table border=\"1\" class=\"dataframe\">\n",
              "  <thead>\n",
              "    <tr style=\"text-align: right;\">\n",
              "      <th></th>\n",
              "      <th>[PAD]</th>\n",
              "      <th>[CLS]</th>\n",
              "      <th>[SEP]</th>\n",
              "      <th>a</th>\n",
              "      <th>b</th>\n",
              "      <th>c</th>\n",
              "      <th>d</th>\n",
              "      <th>e</th>\n",
              "      <th>f</th>\n",
              "      <th>g</th>\n",
              "      <th>h</th>\n",
              "      <th>i</th>\n",
              "      <th>j</th>\n",
              "      <th>k</th>\n",
              "      <th>l</th>\n",
              "      <th>n</th>\n",
              "      <th>o</th>\n",
              "      <th>p</th>\n",
              "      <th>q</th>\n",
              "      <th>r</th>\n",
              "      <th>s</th>\n",
              "      <th>t</th>\n",
              "      <th>u</th>\n",
              "      <th>v</th>\n",
              "      <th>w</th>\n",
              "      <th>x</th>\n",
              "      <th>y</th>\n",
              "      <th>z</th>\n",
              "      <th>the</th>\n",
              "      <th>of</th>\n",
              "      <th>and</th>\n",
              "      <th>in</th>\n",
              "      <th>to</th>\n",
              "      <th>was</th>\n",
              "      <th>he</th>\n",
              "      <th>is</th>\n",
              "      <th>as</th>\n",
              "      <th>for</th>\n",
              "      <th>on</th>\n",
              "      <th>with</th>\n",
              "      <th>...</th>\n",
              "      <th>polka</th>\n",
              "      <th>starbucks</th>\n",
              "      <th>adamant</th>\n",
              "      <th>inspecting</th>\n",
              "      <th>##ducted</th>\n",
              "      <th>##pone</th>\n",
              "      <th>##roids</th>\n",
              "      <th>##ppet</th>\n",
              "      <th>##lib</th>\n",
              "      <th>colossal</th>\n",
              "      <th>foreigner</th>\n",
              "      <th>vet</th>\n",
              "      <th>freaks</th>\n",
              "      <th>rosewood</th>\n",
              "      <th>upstate</th>\n",
              "      <th>ks</th>\n",
              "      <th>vo</th>\n",
              "      <th>##tzer</th>\n",
              "      <th>##werk</th>\n",
              "      <th>binoculars</th>\n",
              "      <th>enthusiast</th>\n",
              "      <th>squeak</th>\n",
              "      <th>inflated</th>\n",
              "      <th>bonuses</th>\n",
              "      <th>##rco</th>\n",
              "      <th>penitentiary</th>\n",
              "      <th>##etched</th>\n",
              "      <th>##lster</th>\n",
              "      <th>##nsor</th>\n",
              "      <th>##toy</th>\n",
              "      <th>inhuman</th>\n",
              "      <th>tbs</th>\n",
              "      <th>inspections</th>\n",
              "      <th>disgrace</th>\n",
              "      <th>infused</th>\n",
              "      <th>pudding</th>\n",
              "      <th>stalks</th>\n",
              "      <th>leases</th>\n",
              "      <th>##wil</th>\n",
              "      <th>thyroid</th>\n",
              "    </tr>\n",
              "  </thead>\n",
              "  <tbody>\n",
              "    <tr>\n",
              "      <th>0</th>\n",
              "      <td>0</td>\n",
              "      <td>1</td>\n",
              "      <td>1</td>\n",
              "      <td>0</td>\n",
              "      <td>0</td>\n",
              "      <td>0</td>\n",
              "      <td>0</td>\n",
              "      <td>0</td>\n",
              "      <td>0</td>\n",
              "      <td>0</td>\n",
              "      <td>0</td>\n",
              "      <td>0</td>\n",
              "      <td>0</td>\n",
              "      <td>0</td>\n",
              "      <td>0</td>\n",
              "      <td>0</td>\n",
              "      <td>0</td>\n",
              "      <td>0</td>\n",
              "      <td>0</td>\n",
              "      <td>0</td>\n",
              "      <td>0</td>\n",
              "      <td>0</td>\n",
              "      <td>0</td>\n",
              "      <td>0</td>\n",
              "      <td>0</td>\n",
              "      <td>0</td>\n",
              "      <td>0</td>\n",
              "      <td>0</td>\n",
              "      <td>0</td>\n",
              "      <td>0</td>\n",
              "      <td>0</td>\n",
              "      <td>0</td>\n",
              "      <td>0</td>\n",
              "      <td>0</td>\n",
              "      <td>0</td>\n",
              "      <td>0</td>\n",
              "      <td>0</td>\n",
              "      <td>0</td>\n",
              "      <td>0</td>\n",
              "      <td>0</td>\n",
              "      <td>...</td>\n",
              "      <td>0</td>\n",
              "      <td>0</td>\n",
              "      <td>0</td>\n",
              "      <td>0</td>\n",
              "      <td>0</td>\n",
              "      <td>0</td>\n",
              "      <td>0</td>\n",
              "      <td>0</td>\n",
              "      <td>0</td>\n",
              "      <td>0</td>\n",
              "      <td>0</td>\n",
              "      <td>0</td>\n",
              "      <td>0</td>\n",
              "      <td>0</td>\n",
              "      <td>0</td>\n",
              "      <td>0</td>\n",
              "      <td>0</td>\n",
              "      <td>0</td>\n",
              "      <td>0</td>\n",
              "      <td>0</td>\n",
              "      <td>0</td>\n",
              "      <td>0</td>\n",
              "      <td>0</td>\n",
              "      <td>0</td>\n",
              "      <td>0</td>\n",
              "      <td>0</td>\n",
              "      <td>0</td>\n",
              "      <td>0</td>\n",
              "      <td>0</td>\n",
              "      <td>0</td>\n",
              "      <td>0</td>\n",
              "      <td>0</td>\n",
              "      <td>0</td>\n",
              "      <td>0</td>\n",
              "      <td>0</td>\n",
              "      <td>0</td>\n",
              "      <td>0</td>\n",
              "      <td>0</td>\n",
              "      <td>0</td>\n",
              "      <td>0</td>\n",
              "    </tr>\n",
              "    <tr>\n",
              "      <th>1</th>\n",
              "      <td>1</td>\n",
              "      <td>1</td>\n",
              "      <td>1</td>\n",
              "      <td>0</td>\n",
              "      <td>0</td>\n",
              "      <td>0</td>\n",
              "      <td>0</td>\n",
              "      <td>0</td>\n",
              "      <td>0</td>\n",
              "      <td>0</td>\n",
              "      <td>0</td>\n",
              "      <td>0</td>\n",
              "      <td>0</td>\n",
              "      <td>0</td>\n",
              "      <td>0</td>\n",
              "      <td>0</td>\n",
              "      <td>0</td>\n",
              "      <td>0</td>\n",
              "      <td>0</td>\n",
              "      <td>0</td>\n",
              "      <td>0</td>\n",
              "      <td>0</td>\n",
              "      <td>0</td>\n",
              "      <td>0</td>\n",
              "      <td>0</td>\n",
              "      <td>0</td>\n",
              "      <td>0</td>\n",
              "      <td>0</td>\n",
              "      <td>0</td>\n",
              "      <td>0</td>\n",
              "      <td>0</td>\n",
              "      <td>0</td>\n",
              "      <td>0</td>\n",
              "      <td>0</td>\n",
              "      <td>0</td>\n",
              "      <td>0</td>\n",
              "      <td>0</td>\n",
              "      <td>0</td>\n",
              "      <td>0</td>\n",
              "      <td>0</td>\n",
              "      <td>...</td>\n",
              "      <td>0</td>\n",
              "      <td>0</td>\n",
              "      <td>0</td>\n",
              "      <td>0</td>\n",
              "      <td>0</td>\n",
              "      <td>0</td>\n",
              "      <td>0</td>\n",
              "      <td>0</td>\n",
              "      <td>0</td>\n",
              "      <td>0</td>\n",
              "      <td>0</td>\n",
              "      <td>0</td>\n",
              "      <td>0</td>\n",
              "      <td>0</td>\n",
              "      <td>0</td>\n",
              "      <td>0</td>\n",
              "      <td>0</td>\n",
              "      <td>0</td>\n",
              "      <td>0</td>\n",
              "      <td>0</td>\n",
              "      <td>0</td>\n",
              "      <td>0</td>\n",
              "      <td>0</td>\n",
              "      <td>0</td>\n",
              "      <td>0</td>\n",
              "      <td>0</td>\n",
              "      <td>0</td>\n",
              "      <td>0</td>\n",
              "      <td>0</td>\n",
              "      <td>0</td>\n",
              "      <td>0</td>\n",
              "      <td>0</td>\n",
              "      <td>0</td>\n",
              "      <td>0</td>\n",
              "      <td>0</td>\n",
              "      <td>0</td>\n",
              "      <td>0</td>\n",
              "      <td>0</td>\n",
              "      <td>0</td>\n",
              "      <td>0</td>\n",
              "    </tr>\n",
              "  </tbody>\n",
              "</table>\n",
              "<p>2 rows × 16563 columns</p>\n",
              "</div>"
            ],
            "text/plain": [
              "   [PAD]  [CLS]  [SEP]  a  b  ...  pudding  stalks  leases  ##wil  thyroid\n",
              "0      0      1      1  0  0  ...        0       0       0      0        0\n",
              "1      1      1      1  0  0  ...        0       0       0      0        0\n",
              "\n",
              "[2 rows x 16563 columns]"
            ]
          },
          "metadata": {
            "tags": []
          },
          "execution_count": 227
        }
      ]
    },
    {
      "cell_type": "code",
      "metadata": {
        "colab": {
          "base_uri": "https://localhost:8080/"
        },
        "id": "dOMWqw5CYs4M",
        "outputId": "018969bb-6a8b-4317-9b05-ddaac2df8487"
      },
      "source": [
        "ft_importance.sort_values(by=['imp'], ascending=False)['imp_perc'][:10].sum()"
      ],
      "execution_count": null,
      "outputs": [
        {
          "output_type": "execute_result",
          "data": {
            "text/plain": [
              "18.482334290740276"
            ]
          },
          "metadata": {
            "tags": []
          },
          "execution_count": 281
        }
      ]
    },
    {
      "cell_type": "code",
      "metadata": {
        "colab": {
          "base_uri": "https://localhost:8080/",
          "height": 35
        },
        "id": "_RpDwDZVAe9M",
        "outputId": "1864849e-dfab-46e4-cb36-14fea060c7b3"
      },
      "source": [
        "top10 = list(ft_importance.sort_values(by=['imp'], ascending=False)['words'][:10])\n",
        "top10[0]"
      ],
      "execution_count": null,
      "outputs": [
        {
          "output_type": "execute_result",
          "data": {
            "application/vnd.google.colaboratory.intrinsic+json": {
              "type": "string"
            },
            "text/plain": [
              "'great'"
            ]
          },
          "metadata": {
            "tags": []
          },
          "execution_count": 230
        }
      ]
    },
    {
      "cell_type": "code",
      "metadata": {
        "colab": {
          "base_uri": "https://localhost:8080/"
        },
        "id": "QNqoZbsNApuR",
        "outputId": "10d1f3ea-d972-404d-977d-6010b02d9341"
      },
      "source": [
        "# the 18 % of importance\n",
        "for w in top10:  \n",
        "  print(w + ' appears in ' + str(ids_count[w].sum()) + ' reviews')"
      ],
      "execution_count": null,
      "outputs": [
        {
          "output_type": "stream",
          "text": [
            "great appears in 3368 reviews\n",
            "delicious appears in 1085 reviews\n",
            "amazing appears in 1003 reviews\n",
            "worst appears in 526 reviews\n",
            "love appears in 1308 reviews\n",
            "friendly appears in 1511 reviews\n",
            "told appears in 1077 reviews\n",
            "horrible appears in 446 reviews\n",
            "asked appears in 1143 reviews\n",
            "terrible appears in 440 reviews\n"
          ],
          "name": "stdout"
        }
      ]
    },
    {
      "cell_type": "code",
      "metadata": {
        "colab": {
          "base_uri": "https://localhost:8080/"
        },
        "id": "QfaccoJkA3f1",
        "outputId": "48684428-2ed2-49d2-8827-956114f8a1a0"
      },
      "source": [
        "# the 25% of importance\n",
        "top16 = ft_importance[ft_importance['imp_perc'] >= 1].sort_values(by=['imp'], ascending=False)['words']\n",
        "top16_count = []\n",
        "for w in top16:\n",
        "  top16_count.append(ids_count[w].sum())\n",
        "  print(w + ' appears in ' + str(ids_count[w].sum()) + ' reviews')"
      ],
      "execution_count": null,
      "outputs": [
        {
          "output_type": "stream",
          "text": [
            "great appears in 3368 reviews\n",
            "delicious appears in 1085 reviews\n",
            "amazing appears in 1003 reviews\n",
            "worst appears in 526 reviews\n",
            "love appears in 1308 reviews\n",
            "friendly appears in 1511 reviews\n",
            "told appears in 1077 reviews\n",
            "horrible appears in 446 reviews\n",
            "asked appears in 1143 reviews\n",
            "terrible appears in 440 reviews\n",
            "rude appears in 533 reviews\n",
            "best appears in 1611 reviews\n",
            "said appears in 1359 reviews\n",
            "definitely appears in 1211 reviews\n",
            "minutes appears in 1099 reviews\n",
            "excellent appears in 584 reviews\n"
          ],
          "name": "stdout"
        }
      ]
    },
    {
      "cell_type": "markdown",
      "metadata": {
        "id": "9vVvGhvmucE9"
      },
      "source": [
        "[Source for the plot format](https://medium.com/swlh/quick-guide-to-labelling-data-for-common-seaborn-plots-736e10bf14a9)"
      ]
    },
    {
      "cell_type": "code",
      "metadata": {
        "colab": {
          "base_uri": "https://localhost:8080/",
          "height": 338
        },
        "id": "ZCpgyiBnFVJ2",
        "outputId": "5073aa1c-c84e-4941-aa32-12c57624e284"
      },
      "source": [
        "# plot horizontal barplot\n",
        "sns.set(rc={'figure.figsize':(10,5)})\n",
        "ax = sns.barplot(y=top16, x=top16_count)\n",
        "ax.set(title='Count of apperance of the 16 most important features') # title barplot\n",
        "# label each bar in barplot\n",
        "for p in ax.patches:\n",
        " height = p.get_height() # height of each horizontal bar is the same\n",
        " width = p.get_width() # width (average number of passengers)\n",
        " # adding text to each bar\n",
        " ax.text(x = width+3, # x-coordinate position of data label, padded 3 to right of bar\n",
        " y = p.get_y()+(height/2), # # y-coordinate position of data label, padded to be in the middle of the bar\n",
        " s = '{:.0f}'.format(width), # data label, formatted to ignore decimals\n",
        " va = 'center') # sets vertical alignment (va) to center"
      ],
      "execution_count": null,
      "outputs": [
        {
          "output_type": "display_data",
          "data": {
            "image/png": "[encoded data removed]",
            "text/plain": [
              "<Figure size 720x360 with 1 Axes>"
            ]
          },
          "metadata": {
            "tags": []
          }
        }
      ]
    },
    {
      "cell_type": "code",
      "metadata": {
        "colab": {
          "base_uri": "https://localhost:8080/",
          "height": 35
        },
        "id": "ial1UhE3DaVs",
        "outputId": "d22242bc-6413-43bb-c527-f09bc72c1264"
      },
      "source": [
        "perc_50 = list(ft_importance.sort_values(by=['imp'], ascending=False)['words'][:70])\n",
        "perc_50[0]"
      ],
      "execution_count": null,
      "outputs": [
        {
          "output_type": "execute_result",
          "data": {
            "application/vnd.google.colaboratory.intrinsic+json": {
              "type": "string"
            },
            "text/plain": [
              "'great'"
            ]
          },
          "metadata": {
            "tags": []
          },
          "execution_count": 269
        }
      ]
    },
    {
      "cell_type": "code",
      "metadata": {
        "colab": {
          "base_uri": "https://localhost:8080/",
          "height": 303
        },
        "id": "NtCipR0xUvG6",
        "outputId": "b9c2b4e6-9a66-446c-e72b-d5fb090fc97c"
      },
      "source": [
        "top70_w = ' '.join([word for word in perc_50])\n",
        "cloud = WordCloud(max_font_size=50, max_words=100, background_color=\"white\").generate(top70_w)\n",
        "plt.figure()\n",
        "plt.imshow(cloud, interpolation=\"bilinear\")\n",
        "plt.axis(\"off\")\n",
        "plt.show()"
      ],
      "execution_count": null,
      "outputs": [
        {
          "output_type": "display_data",
          "data": {
            "image/png": "[encoded data removed]",
            "text/plain": [
              "<Figure size 720x360 with 1 Axes>"
            ]
          },
          "metadata": {
            "tags": []
          }
        }
      ]
    },
    {
      "cell_type": "code",
      "metadata": {
        "colab": {
          "base_uri": "https://localhost:8080/"
        },
        "id": "uqgVpF-DWnxZ",
        "outputId": "2a3cf8cc-23f4-4572-8d14-1503d402729d"
      },
      "source": [
        "top70_ww = dict(zip(perc_50, list(ft_importance.sort_values(by=['imp_perc'], ascending=False)['imp_perc'][:70])))\n",
        "top70_ww['great']"
      ],
      "execution_count": null,
      "outputs": [
        {
          "output_type": "execute_result",
          "data": {
            "text/plain": [
              "4.250529437111594"
            ]
          },
          "metadata": {
            "tags": []
          },
          "execution_count": 271
        }
      ]
    },
    {
      "cell_type": "code",
      "metadata": {
        "id": "0sAGS9eJEtgf"
      },
      "source": [
        "wc = WordCloud(max_font_size=50, max_words=100, background_color=\"white\")\n",
        "wc.fit_words(top70_ww)\n",
        "plt.show()"
      ],
      "execution_count": null,
      "outputs": []
    },
    {
      "cell_type": "code",
      "metadata": {
        "colab": {
          "base_uri": "https://localhost:8080/"
        },
        "id": "0N4LWSm-Xd7x",
        "outputId": "e81073b4-651e-4b95-c9b5-72d1896e504c"
      },
      "source": [
        "wc.to_file('/content/drive/MyDrive/Yelp/top69_most_important.png')"
      ],
      "execution_count": null,
      "outputs": [
        {
          "output_type": "execute_result",
          "data": {
            "text/plain": [
              "<wordcloud.wordcloud.WordCloud at 0x7f242272f0d0>"
            ]
          },
          "metadata": {
            "tags": []
          },
          "execution_count": 279
        }
      ]
    },
    {
      "cell_type": "code",
      "metadata": {
        "id": "A5xrJSLypZFx"
      },
      "source": [
        "top69_count = []\n",
        "for w in perc_50:\n",
        "  top69_count.append(ids_count[w].sum())\n",
        "  #print(w + ' appears in ' + str(ids_count[w].sum()) + ' reviews')"
      ],
      "execution_count": null,
      "outputs": []
    },
    {
      "cell_type": "code",
      "metadata": {
        "colab": {
          "base_uri": "https://localhost:8080/",
          "height": 1000
        },
        "id": "zabcT26eXnPY",
        "outputId": "37a6f83a-f390-4355-f747-350584630243"
      },
      "source": [
        "# plot horizontal barplot\n",
        "sns.set(rc={'figure.figsize':(20,30)})\n",
        "ax = sns.barplot(y=perc_50, x=top69_count)\n",
        "#ax.set(title='Count of apperance of the 16 most important features') # title barplot\n",
        "# label each bar in barplot\n",
        "for p in ax.patches:\n",
        " height = p.get_height() # height of each horizontal bar is the same\n",
        " width = p.get_width() # width (average number of passengers)\n",
        " # adding text to each bar\n",
        " ax.text(x = width+3, # x-coordinate position of data label, padded 3 to right of bar\n",
        " y = p.get_y()+(height/2), # # y-coordinate position of data label, padded to be in the middle of the bar\n",
        " s = '{:.0f}'.format(width), # data label, formatted to ignore decimals\n",
        " va = 'center') # sets vertical alignment (va) to center"
      ],
      "execution_count": null,
      "outputs": [
        {
          "output_type": "display_data",
          "data": {
            "image/png": "[encoded data removed]",
            "text/plain": [
              "<Figure size 1440x2160 with 1 Axes>"
            ]
          },
          "metadata": {
            "tags": []
          }
        }
      ]
    },
    {
      "cell_type": "markdown",
      "metadata": {
        "id": "IGzzj-zq0Xsb"
      },
      "source": [
        "## Local contributions \n",
        "(also on the features_contributions_analysis notebook)"
      ]
    },
    {
      "cell_type": "code",
      "metadata": {
        "colab": {
          "base_uri": "https://localhost:8080/"
        },
        "id": "jWuqQnr5plCE",
        "outputId": "78e44c29-8434-4d6e-dbed-a51f73a9401c"
      },
      "source": [
        "all_contribs = pickle.load(open('/content/drive/MyDrive/Yelp/random_forest/all_contribs.pkl', 'rb'))\n",
        "len(all_contribs)"
      ],
      "execution_count": null,
      "outputs": [
        {
          "output_type": "execute_result",
          "data": {
            "text/plain": [
              "12993"
            ]
          },
          "metadata": {
            "tags": []
          },
          "execution_count": 289
        }
      ]
    },
    {
      "cell_type": "code",
      "metadata": {
        "colab": {
          "base_uri": "https://localhost:8080/"
        },
        "id": "EUCwpfvhyI3h",
        "outputId": "220dcbf1-3f5e-4740-b2ac-d939a5e1fc3a"
      },
      "source": [
        "all_contribs[0]"
      ],
      "execution_count": null,
      "outputs": [
        {
          "output_type": "execute_result",
          "data": {
            "text/plain": [
              "array([[ 0.00537429, -0.00537429],\n",
              "       [ 0.        ,  0.        ],\n",
              "       [ 0.        ,  0.        ],\n",
              "       ...,\n",
              "       [ 0.        ,  0.        ],\n",
              "       [ 0.        ,  0.        ],\n",
              "       [ 0.        ,  0.        ]])"
            ]
          },
          "metadata": {
            "tags": []
          },
          "execution_count": 290
        }
      ]
    },
    {
      "cell_type": "code",
      "metadata": {
        "colab": {
          "base_uri": "https://localhost:8080/"
        },
        "id": "PG37v_-S0w_X",
        "outputId": "58230b98-a798-4e85-df8c-43eebd1b17c6"
      },
      "source": [
        "all_ids = pickle.load(open('/content/drive/MyDrive/Yelp/random_forest/all_ids.pkl', 'rb'))\n",
        "len(all_ids)"
      ],
      "execution_count": null,
      "outputs": [
        {
          "output_type": "execute_result",
          "data": {
            "text/plain": [
              "12993"
            ]
          },
          "metadata": {
            "tags": []
          },
          "execution_count": 291
        }
      ]
    },
    {
      "cell_type": "code",
      "metadata": {
        "id": "2caRhljF0XKn"
      },
      "source": [
        "#this function is based on the one appearing on https://coderzcolumn.com/tutorials/machine-learning/treeinterpreter-interpreting-tree-based-models-prediction-of-individual-sample\n",
        "def create_contrbutions_df(contributions, review, features_df, input_ids):\n",
        "  #extracting only the relevant ids index. the ones that the observed review has\n",
        "  review_ids = list(features_df[features_df['ids'].isin(input_ids[review])].index) \n",
        "\n",
        "  #creating a dictionary of the contributions for the specific id on the observed review\n",
        "  contribs = {}\n",
        "  for i in review_ids:\n",
        "    c = contributions[review][i] \n",
        "    feature = features_df['words'][i] \n",
        "    contribs[feature] = list(c)\n",
        "  \n",
        "  # creating a dataframe out of it \n",
        "  contrib_df = pd.DataFrame(data=contribs.values(), index = contribs.keys(), columns=[\"negative\", \"positive\"])\n",
        "  # inserting the predicted label at the end\n",
        "  prediction = contrib_df[[\"negative\", \"positive\"]].sum()\n",
        "  contrib_df.loc[\"PREDICTION\"] = np.argmax(prediction)\n",
        "  return contrib_df"
      ],
      "execution_count": null,
      "outputs": []
    },
    {
      "cell_type": "code",
      "metadata": {
        "colab": {
          "base_uri": "https://localhost:8080/",
          "height": 419
        },
        "id": "B6UhfLv302Cc",
        "outputId": "b3f64204-0d16-42a4-afdc-19a1fa4e61c7"
      },
      "source": [
        "df = create_contrbutions_df(all_contribs, 5468, ft_imp, all_ids)\n",
        "df"
      ],
      "execution_count": null,
      "outputs": [
        {
          "output_type": "execute_result",
          "data": {
            "text/html": [
              "<div>\n",
              "<style scoped>\n",
              "    .dataframe tbody tr th:only-of-type {\n",
              "        vertical-align: middle;\n",
              "    }\n",
              "\n",
              "    .dataframe tbody tr th {\n",
              "        vertical-align: top;\n",
              "    }\n",
              "\n",
              "    .dataframe thead th {\n",
              "        text-align: right;\n",
              "    }\n",
              "</style>\n",
              "<table border=\"1\" class=\"dataframe\">\n",
              "  <thead>\n",
              "    <tr style=\"text-align: right;\">\n",
              "      <th></th>\n",
              "      <th>negative</th>\n",
              "      <th>positive</th>\n",
              "    </tr>\n",
              "  </thead>\n",
              "  <tbody>\n",
              "    <tr>\n",
              "      <th>[CLS]</th>\n",
              "      <td>0.000000</td>\n",
              "      <td>0.000000</td>\n",
              "    </tr>\n",
              "    <tr>\n",
              "      <th>[SEP]</th>\n",
              "      <td>0.000000</td>\n",
              "      <td>0.000000</td>\n",
              "    </tr>\n",
              "    <tr>\n",
              "      <th>##s</th>\n",
              "      <td>-0.000075</td>\n",
              "      <td>0.000075</td>\n",
              "    </tr>\n",
              "    <tr>\n",
              "      <th>time</th>\n",
              "      <td>0.001069</td>\n",
              "      <td>-0.001069</td>\n",
              "    </tr>\n",
              "    <tr>\n",
              "      <th>said</th>\n",
              "      <td>0.030959</td>\n",
              "      <td>-0.030959</td>\n",
              "    </tr>\n",
              "    <tr>\n",
              "      <th>...</th>\n",
              "      <td>...</td>\n",
              "      <td>...</td>\n",
              "    </tr>\n",
              "    <tr>\n",
              "      <th>towels</th>\n",
              "      <td>0.002572</td>\n",
              "      <td>-0.002572</td>\n",
              "    </tr>\n",
              "    <tr>\n",
              "      <th>overwhelmingly</th>\n",
              "      <td>0.000000</td>\n",
              "      <td>0.000000</td>\n",
              "    </tr>\n",
              "    <tr>\n",
              "      <th>bingo</th>\n",
              "      <td>0.000000</td>\n",
              "      <td>0.000000</td>\n",
              "    </tr>\n",
              "    <tr>\n",
              "      <th>##nery</th>\n",
              "      <td>0.000000</td>\n",
              "      <td>0.000000</td>\n",
              "    </tr>\n",
              "    <tr>\n",
              "      <th>PREDICTION</th>\n",
              "      <td>1.000000</td>\n",
              "      <td>1.000000</td>\n",
              "    </tr>\n",
              "  </tbody>\n",
              "</table>\n",
              "<p>110 rows × 2 columns</p>\n",
              "</div>"
            ],
            "text/plain": [
              "                negative  positive\n",
              "[CLS]           0.000000  0.000000\n",
              "[SEP]           0.000000  0.000000\n",
              "##s            -0.000075  0.000075\n",
              "time            0.001069 -0.001069\n",
              "said            0.030959 -0.030959\n",
              "...                  ...       ...\n",
              "towels          0.002572 -0.002572\n",
              "overwhelmingly  0.000000  0.000000\n",
              "bingo           0.000000  0.000000\n",
              "##nery          0.000000  0.000000\n",
              "PREDICTION      1.000000  1.000000\n",
              "\n",
              "[110 rows x 2 columns]"
            ]
          },
          "metadata": {
            "tags": []
          },
          "execution_count": 293
        }
      ]
    },
    {
      "cell_type": "code",
      "metadata": {
        "colab": {
          "base_uri": "https://localhost:8080/",
          "height": 266
        },
        "id": "ItSS3dNFyghI",
        "outputId": "aa5cebc7-5cca-4b76-c5ba-1f3bce8e6ce6"
      },
      "source": [
        "#relevant-top positive features\n",
        "df[df['positive'] > 0.01].sort_values(by=['positive'], ascending=False)"
      ],
      "execution_count": null,
      "outputs": [
        {
          "output_type": "execute_result",
          "data": {
            "text/html": [
              "<div>\n",
              "<style scoped>\n",
              "    .dataframe tbody tr th:only-of-type {\n",
              "        vertical-align: middle;\n",
              "    }\n",
              "\n",
              "    .dataframe tbody tr th {\n",
              "        vertical-align: top;\n",
              "    }\n",
              "\n",
              "    .dataframe thead th {\n",
              "        text-align: right;\n",
              "    }\n",
              "</style>\n",
              "<table border=\"1\" class=\"dataframe\">\n",
              "  <thead>\n",
              "    <tr style=\"text-align: right;\">\n",
              "      <th></th>\n",
              "      <th>negative</th>\n",
              "      <th>positive</th>\n",
              "    </tr>\n",
              "  </thead>\n",
              "  <tbody>\n",
              "    <tr>\n",
              "      <th>PREDICTION</th>\n",
              "      <td>1.000000</td>\n",
              "      <td>1.000000</td>\n",
              "    </tr>\n",
              "    <tr>\n",
              "      <th>awesome</th>\n",
              "      <td>-0.032386</td>\n",
              "      <td>0.032386</td>\n",
              "    </tr>\n",
              "    <tr>\n",
              "      <th>loved</th>\n",
              "      <td>-0.030384</td>\n",
              "      <td>0.030384</td>\n",
              "    </tr>\n",
              "    <tr>\n",
              "      <th>great</th>\n",
              "      <td>-0.030374</td>\n",
              "      <td>0.030374</td>\n",
              "    </tr>\n",
              "    <tr>\n",
              "      <th>friendly</th>\n",
              "      <td>-0.025242</td>\n",
              "      <td>0.025242</td>\n",
              "    </tr>\n",
              "    <tr>\n",
              "      <th>favorite</th>\n",
              "      <td>-0.023705</td>\n",
              "      <td>0.023705</td>\n",
              "    </tr>\n",
              "    <tr>\n",
              "      <th>fun</th>\n",
              "      <td>-0.018110</td>\n",
              "      <td>0.018110</td>\n",
              "    </tr>\n",
              "  </tbody>\n",
              "</table>\n",
              "</div>"
            ],
            "text/plain": [
              "            negative  positive\n",
              "PREDICTION  1.000000  1.000000\n",
              "awesome    -0.032386  0.032386\n",
              "loved      -0.030384  0.030384\n",
              "great      -0.030374  0.030374\n",
              "friendly   -0.025242  0.025242\n",
              "favorite   -0.023705  0.023705\n",
              "fun        -0.018110  0.018110"
            ]
          },
          "metadata": {
            "tags": []
          },
          "execution_count": 294
        }
      ]
    },
    {
      "cell_type": "code",
      "metadata": {
        "colab": {
          "base_uri": "https://localhost:8080/",
          "height": 328
        },
        "id": "aGT9vK5j3vee",
        "outputId": "b10bc3ab-fb65-4067-c619-7c36f863f512"
      },
      "source": [
        "#relevant-top positive features\n",
        "df[df['negative'] > 0.01].sort_values(by=['positive'], ascending=True)"
      ],
      "execution_count": null,
      "outputs": [
        {
          "output_type": "execute_result",
          "data": {
            "text/html": [
              "<div>\n",
              "<style scoped>\n",
              "    .dataframe tbody tr th:only-of-type {\n",
              "        vertical-align: middle;\n",
              "    }\n",
              "\n",
              "    .dataframe tbody tr th {\n",
              "        vertical-align: top;\n",
              "    }\n",
              "\n",
              "    .dataframe thead th {\n",
              "        text-align: right;\n",
              "    }\n",
              "</style>\n",
              "<table border=\"1\" class=\"dataframe\">\n",
              "  <thead>\n",
              "    <tr style=\"text-align: right;\">\n",
              "      <th></th>\n",
              "      <th>negative</th>\n",
              "      <th>positive</th>\n",
              "    </tr>\n",
              "  </thead>\n",
              "  <tbody>\n",
              "    <tr>\n",
              "      <th>said</th>\n",
              "      <td>0.030959</td>\n",
              "      <td>-0.030959</td>\n",
              "    </tr>\n",
              "    <tr>\n",
              "      <th>minutes</th>\n",
              "      <td>0.027889</td>\n",
              "      <td>-0.027889</td>\n",
              "    </tr>\n",
              "    <tr>\n",
              "      <th>called</th>\n",
              "      <td>0.020335</td>\n",
              "      <td>-0.020335</td>\n",
              "    </tr>\n",
              "    <tr>\n",
              "      <th>took</th>\n",
              "      <td>0.016903</td>\n",
              "      <td>-0.016903</td>\n",
              "    </tr>\n",
              "    <tr>\n",
              "      <th>ask</th>\n",
              "      <td>0.014865</td>\n",
              "      <td>-0.014865</td>\n",
              "    </tr>\n",
              "    <tr>\n",
              "      <th>got</th>\n",
              "      <td>0.014740</td>\n",
              "      <td>-0.014740</td>\n",
              "    </tr>\n",
              "    <tr>\n",
              "      <th>wasn</th>\n",
              "      <td>0.013094</td>\n",
              "      <td>-0.013094</td>\n",
              "    </tr>\n",
              "    <tr>\n",
              "      <th>better</th>\n",
              "      <td>0.011073</td>\n",
              "      <td>-0.011073</td>\n",
              "    </tr>\n",
              "    <tr>\n",
              "      <th>PREDICTION</th>\n",
              "      <td>1.000000</td>\n",
              "      <td>1.000000</td>\n",
              "    </tr>\n",
              "  </tbody>\n",
              "</table>\n",
              "</div>"
            ],
            "text/plain": [
              "            negative  positive\n",
              "said        0.030959 -0.030959\n",
              "minutes     0.027889 -0.027889\n",
              "called      0.020335 -0.020335\n",
              "took        0.016903 -0.016903\n",
              "ask         0.014865 -0.014865\n",
              "got         0.014740 -0.014740\n",
              "wasn        0.013094 -0.013094\n",
              "better      0.011073 -0.011073\n",
              "PREDICTION  1.000000  1.000000"
            ]
          },
          "metadata": {
            "tags": []
          },
          "execution_count": 298
        }
      ]
    },
    {
      "cell_type": "code",
      "metadata": {
        "colab": {
          "base_uri": "https://localhost:8080/",
          "height": 328
        },
        "id": "M5_hyRTx1KBv",
        "outputId": "d0363b9c-6672-4d5c-dc0e-7fe986d9d8e4"
      },
      "source": [
        "#relevant/top negative\n",
        "df[df['negative'] > 0.01].sort_values(by=['negative'], ascending=True)"
      ],
      "execution_count": null,
      "outputs": [
        {
          "output_type": "execute_result",
          "data": {
            "text/html": [
              "<div>\n",
              "<style scoped>\n",
              "    .dataframe tbody tr th:only-of-type {\n",
              "        vertical-align: middle;\n",
              "    }\n",
              "\n",
              "    .dataframe tbody tr th {\n",
              "        vertical-align: top;\n",
              "    }\n",
              "\n",
              "    .dataframe thead th {\n",
              "        text-align: right;\n",
              "    }\n",
              "</style>\n",
              "<table border=\"1\" class=\"dataframe\">\n",
              "  <thead>\n",
              "    <tr style=\"text-align: right;\">\n",
              "      <th></th>\n",
              "      <th>negative</th>\n",
              "      <th>positive</th>\n",
              "    </tr>\n",
              "  </thead>\n",
              "  <tbody>\n",
              "    <tr>\n",
              "      <th>better</th>\n",
              "      <td>0.011073</td>\n",
              "      <td>-0.011073</td>\n",
              "    </tr>\n",
              "    <tr>\n",
              "      <th>wasn</th>\n",
              "      <td>0.013094</td>\n",
              "      <td>-0.013094</td>\n",
              "    </tr>\n",
              "    <tr>\n",
              "      <th>got</th>\n",
              "      <td>0.014740</td>\n",
              "      <td>-0.014740</td>\n",
              "    </tr>\n",
              "    <tr>\n",
              "      <th>ask</th>\n",
              "      <td>0.014865</td>\n",
              "      <td>-0.014865</td>\n",
              "    </tr>\n",
              "    <tr>\n",
              "      <th>took</th>\n",
              "      <td>0.016903</td>\n",
              "      <td>-0.016903</td>\n",
              "    </tr>\n",
              "    <tr>\n",
              "      <th>called</th>\n",
              "      <td>0.020335</td>\n",
              "      <td>-0.020335</td>\n",
              "    </tr>\n",
              "    <tr>\n",
              "      <th>minutes</th>\n",
              "      <td>0.027889</td>\n",
              "      <td>-0.027889</td>\n",
              "    </tr>\n",
              "    <tr>\n",
              "      <th>said</th>\n",
              "      <td>0.030959</td>\n",
              "      <td>-0.030959</td>\n",
              "    </tr>\n",
              "    <tr>\n",
              "      <th>PREDICTION</th>\n",
              "      <td>1.000000</td>\n",
              "      <td>1.000000</td>\n",
              "    </tr>\n",
              "  </tbody>\n",
              "</table>\n",
              "</div>"
            ],
            "text/plain": [
              "            negative  positive\n",
              "better      0.011073 -0.011073\n",
              "wasn        0.013094 -0.013094\n",
              "got         0.014740 -0.014740\n",
              "ask         0.014865 -0.014865\n",
              "took        0.016903 -0.016903\n",
              "called      0.020335 -0.020335\n",
              "minutes     0.027889 -0.027889\n",
              "said        0.030959 -0.030959\n",
              "PREDICTION  1.000000  1.000000"
            ]
          },
          "metadata": {
            "tags": []
          },
          "execution_count": 299
        }
      ]
    },
    {
      "cell_type": "code",
      "metadata": {
        "id": "9Z_U99L33oxN"
      },
      "source": [
        "summary1 = pd.read_pickle('/content/drive/MyDrive/Yelp/results1.pkl')\n",
        "summary1['index'][5833]"
      ],
      "execution_count": null,
      "outputs": []
    },
    {
      "cell_type": "code",
      "metadata": {
        "colab": {
          "base_uri": "https://localhost:8080/",
          "height": 86
        },
        "id": "agGUtr4OZA8C",
        "outputId": "41b9aa66-7286-4280-8e32-1632aec8261d"
      },
      "source": [
        "summary2.clean_text[13]"
      ],
      "execution_count": null,
      "outputs": [
        {
          "output_type": "execute_result",
          "data": {
            "application/vnd.google.colaboratory.intrinsic+json": {
              "type": "string"
            },
            "text/plain": [
              "'fingers hand pretty decent arena way way seats course sucks shoot mid level feel like touch performers leg know breathing air large screens main stage necessarily miss action feel like watching flea circus spaces rows fairly decent petite lil thing space issue violating stairs aren super scary steep gals stilettos afraid plenty bathroom stalls concession stands rent binoculars'"
            ]
          },
          "metadata": {
            "tags": []
          },
          "execution_count": 21
        }
      ]
    },
    {
      "cell_type": "code",
      "metadata": {
        "colab": {
          "base_uri": "https://localhost:8080/",
          "height": 1000
        },
        "id": "XPH3nUMwYIak",
        "outputId": "b7c0b83d-c1bf-41f9-eccb-3a214101e3f6"
      },
      "source": [
        "summary2 = pd.read_pickle('/content/drive/MyDrive/Yelp/results2.pkl')\n",
        "summary2"
      ],
      "execution_count": null,
      "outputs": [
        {
          "output_type": "execute_result",
          "data": {
            "text/html": [
              "<div>\n",
              "<style scoped>\n",
              "    .dataframe tbody tr th:only-of-type {\n",
              "        vertical-align: middle;\n",
              "    }\n",
              "\n",
              "    .dataframe tbody tr th {\n",
              "        vertical-align: top;\n",
              "    }\n",
              "\n",
              "    .dataframe thead th {\n",
              "        text-align: right;\n",
              "    }\n",
              "</style>\n",
              "<table border=\"1\" class=\"dataframe\">\n",
              "  <thead>\n",
              "    <tr style=\"text-align: right;\">\n",
              "      <th></th>\n",
              "      <th>index</th>\n",
              "      <th>text</th>\n",
              "      <th>label</th>\n",
              "      <th>categories</th>\n",
              "      <th>clean_text</th>\n",
              "      <th>category</th>\n",
              "      <th>length</th>\n",
              "      <th>bert_pred</th>\n",
              "      <th>positive_c</th>\n",
              "      <th>negative_c</th>\n",
              "      <th>rf_pred</th>\n",
              "    </tr>\n",
              "  </thead>\n",
              "  <tbody>\n",
              "    <tr>\n",
              "      <th>0</th>\n",
              "      <td>555</td>\n",
              "      <td>I went to the Fragrance department to pick up ...</td>\n",
              "      <td>0</td>\n",
              "      <td>Department Stores, Fashion, Men's Clothing, Wo...</td>\n",
              "      <td>went fragrance department pick bottle versace ...</td>\n",
              "      <td>Other Industries</td>\n",
              "      <td>54</td>\n",
              "      <td>0</td>\n",
              "      <td>{'mall': 0.0014292788633557055, 'er': 0.001085...</td>\n",
              "      <td>{'asked': 0.051271851229870706, 'said': 0.0446...</td>\n",
              "      <td>0</td>\n",
              "    </tr>\n",
              "    <tr>\n",
              "      <th>1</th>\n",
              "      <td>855</td>\n",
              "      <td>My friend found a hair in his food. Definitely...</td>\n",
              "      <td>0</td>\n",
              "      <td>Arts &amp; Entertainment, Nightlife, Breakfast &amp; B...</td>\n",
              "      <td>friend hair food definitely lost appetite pull...</td>\n",
              "      <td>Restaurant Industry</td>\n",
              "      <td>19</td>\n",
              "      <td>0</td>\n",
              "      <td>{'definitely': 0.07466639315626142, 'good': 0....</td>\n",
              "      <td>{'wasn': 0.043493839409041064, 'lost': 0.02648...</td>\n",
              "      <td>0</td>\n",
              "    </tr>\n",
              "    <tr>\n",
              "      <th>2</th>\n",
              "      <td>1158</td>\n",
              "      <td>Some selections are pretty good. Unfortunately...</td>\n",
              "      <td>0</td>\n",
              "      <td>Asian Fusion, Event Planning &amp; Services, Resta...</td>\n",
              "      <td>selections pretty good unfortunately dishes we...</td>\n",
              "      <td>Hotel Industry</td>\n",
              "      <td>21</td>\n",
              "      <td>0</td>\n",
              "      <td>{'great': 0.06918939498428471, 'good': 0.01815...</td>\n",
              "      <td>{'unfortunately': 0.08739752310228917, 'wasn':...</td>\n",
              "      <td>0</td>\n",
              "    </tr>\n",
              "    <tr>\n",
              "      <th>3</th>\n",
              "      <td>1404</td>\n",
              "      <td>WTF!!  WTF!!  WTF!!\\n1st off this place was do...</td>\n",
              "      <td>0</td>\n",
              "      <td>Laundry Services, Dry Cleaning &amp; Laundry, Loca...</td>\n",
              "      <td>wtf wtf wtf place downright filthy walked righ...</td>\n",
              "      <td>Service Industry</td>\n",
              "      <td>75</td>\n",
              "      <td>0</td>\n",
              "      <td>{'clean': 0.012399755825582762, 'soft': 0.0095...</td>\n",
              "      <td>{'said': 0.0466807978957219, 'dirty': 0.039079...</td>\n",
              "      <td>0</td>\n",
              "    </tr>\n",
              "    <tr>\n",
              "      <th>4</th>\n",
              "      <td>3825</td>\n",
              "      <td>We got very lucky as far as insurance coverage...</td>\n",
              "      <td>0</td>\n",
              "      <td>Shopping, Health &amp; Medical, Ophthalmologists, ...</td>\n",
              "      <td>got lucky far insurance coverage goes new glas...</td>\n",
              "      <td>Other Industries</td>\n",
              "      <td>33</td>\n",
              "      <td>0</td>\n",
              "      <td>{'knowledge': 0.0352074956753434, 'professiona...</td>\n",
              "      <td>{'left': 0.04591727101771179, 'took': 0.034729...</td>\n",
              "      <td>0</td>\n",
              "    </tr>\n",
              "    <tr>\n",
              "      <th>5</th>\n",
              "      <td>3954</td>\n",
              "      <td>The office manager is not accountable and has ...</td>\n",
              "      <td>0</td>\n",
              "      <td>Urgent Care, Physical Therapy, Health &amp; Medica...</td>\n",
              "      <td>office manager accountable cost job misplacing...</td>\n",
              "      <td>Other Industries</td>\n",
              "      <td>94</td>\n",
              "      <td>0</td>\n",
              "      <td>{'great': 0.05475795823907564, 'staff': 0.0069...</td>\n",
              "      <td>{'told': 0.07567785760798497, 'manager': 0.063...</td>\n",
              "      <td>0</td>\n",
              "    </tr>\n",
              "    <tr>\n",
              "      <th>6</th>\n",
              "      <td>4210</td>\n",
              "      <td>They have implemented a $15 MINIMUM fee, regar...</td>\n",
              "      <td>0</td>\n",
              "      <td>Local Services, Printing Services</td>\n",
              "      <td>implemented minimum fee regardless papers need...</td>\n",
              "      <td>Service Industry</td>\n",
              "      <td>11</td>\n",
              "      <td>0</td>\n",
              "      <td>{'[PAD]': 0.0002893095330370151}</td>\n",
              "      <td>{'need': 0.024926748908336342, 'website': 0.01...</td>\n",
              "      <td>0</td>\n",
              "    </tr>\n",
              "    <tr>\n",
              "      <th>7</th>\n",
              "      <td>4281</td>\n",
              "      <td>Worst experience ever. I've They charged me a ...</td>\n",
              "      <td>0</td>\n",
              "      <td>Hotels &amp; Travel, Car Rental</td>\n",
              "      <td>worst experience charged time booking rental c...</td>\n",
              "      <td>Hotel Industry</td>\n",
              "      <td>53</td>\n",
              "      <td>0</td>\n",
              "      <td>{'recommend': 0.018213364599606065, 'price': 0...</td>\n",
              "      <td>{'worst': 0.0714872458168004, 'horrible': 0.06...</td>\n",
              "      <td>0</td>\n",
              "    </tr>\n",
              "    <tr>\n",
              "      <th>8</th>\n",
              "      <td>5013</td>\n",
              "      <td>No stars should be an option. Shitty connectio...</td>\n",
              "      <td>0</td>\n",
              "      <td>Internet Service Providers, Home Services, Pro...</td>\n",
              "      <td>stars option shitty connections store turn old...</td>\n",
              "      <td>Service Industry</td>\n",
              "      <td>25</td>\n",
              "      <td>0</td>\n",
              "      <td>{'best': 0.06604296374981053, '##m': 0.0055044...</td>\n",
              "      <td>{'money': 0.08283710883889309, 'ask': 0.025563...</td>\n",
              "      <td>0</td>\n",
              "    </tr>\n",
              "    <tr>\n",
              "      <th>9</th>\n",
              "      <td>5231</td>\n",
              "      <td>Let me start by saying that I absolutely LOVED...</td>\n",
              "      <td>0</td>\n",
              "      <td>Restaurants, Spanish, Cuban, Caribbean</td>\n",
              "      <td>let start saying absolutely loved food dinner ...</td>\n",
              "      <td>Restaurant Industry</td>\n",
              "      <td>25</td>\n",
              "      <td>0</td>\n",
              "      <td>{'loved': 0.06388472875707339, 'spot': 0.03130...</td>\n",
              "      <td>{'average': 0.03416436856008317, 'saying': 0.0...</td>\n",
              "      <td>1</td>\n",
              "    </tr>\n",
              "    <tr>\n",
              "      <th>10</th>\n",
              "      <td>5285</td>\n",
              "      <td>I went to eat the specials they have, and the ...</td>\n",
              "      <td>0</td>\n",
              "      <td>Steakhouses, Event Planning &amp; Services, Beauty...</td>\n",
              "      <td>went eat specials person gave service slow wai...</td>\n",
              "      <td>Hotel Industry</td>\n",
              "      <td>14</td>\n",
              "      <td>0</td>\n",
              "      <td>{'specials': 0.003928477904777821, 'lot': 0.00...</td>\n",
              "      <td>{'slow': 0.07232180560551178, 'hour': 0.042610...</td>\n",
              "      <td>0</td>\n",
              "    </tr>\n",
              "    <tr>\n",
              "      <th>11</th>\n",
              "      <td>5468</td>\n",
              "      <td>This is the third of the cheaper, off-strip Ve...</td>\n",
              "      <td>1</td>\n",
              "      <td>Active Life, Bowling, Cinema, Arts &amp; Entertain...</td>\n",
              "      <td>cheaper strip vegas hotels stayed sam town eas...</td>\n",
              "      <td>Hotel Industry</td>\n",
              "      <td>235</td>\n",
              "      <td>1</td>\n",
              "      <td>{'awesome': 0.032386167310061456, 'loved': 0.0...</td>\n",
              "      <td>{'said': 0.030959331020176437, 'minutes': 0.02...</td>\n",
              "      <td>1</td>\n",
              "    </tr>\n",
              "    <tr>\n",
              "      <th>12</th>\n",
              "      <td>5601</td>\n",
              "      <td>Moved here and needed to get my hair highlight...</td>\n",
              "      <td>0</td>\n",
              "      <td>Beauty &amp; Spas, Hair Salons</td>\n",
              "      <td>moved needed hair highlighted calling places p...</td>\n",
              "      <td>Beauty Industry</td>\n",
              "      <td>28</td>\n",
              "      <td>0</td>\n",
              "      <td>{'cheap': 0.006218366755223987, 'places': 0.00...</td>\n",
              "      <td>{'told': 0.07518740537861232, 'paid': 0.056226...</td>\n",
              "      <td>0</td>\n",
              "    </tr>\n",
              "    <tr>\n",
              "      <th>13</th>\n",
              "      <td>5833</td>\n",
              "      <td>I've been here as there are fingers on my hand...</td>\n",
              "      <td>1</td>\n",
              "      <td>Stadiums &amp; Arenas, Event Planning &amp; Services, ...</td>\n",
              "      <td>fingers hand pretty decent arena way way seats...</td>\n",
              "      <td>Service Industry</td>\n",
              "      <td>58</td>\n",
              "      <td>0</td>\n",
              "      <td>{'plenty': 0.03561418192738246, 'super': 0.011...</td>\n",
              "      <td>{'sucks': 0.05640739009788366, 'know': 0.02083...</td>\n",
              "      <td>0</td>\n",
              "    </tr>\n",
              "    <tr>\n",
              "      <th>14</th>\n",
              "      <td>6274</td>\n",
              "      <td>I recently moved to Anthem Highlands, and went...</td>\n",
              "      <td>1</td>\n",
              "      <td>Barbers, Beauty &amp; Spas</td>\n",
              "      <td>recently moved anthem highlands went looking l...</td>\n",
              "      <td>Beauty Industry</td>\n",
              "      <td>38</td>\n",
              "      <td>1</td>\n",
              "      <td>{'friendly': 0.07226082576505377, 'definitely'...</td>\n",
              "      <td>{'asked': 0.09053513015929748, 'went': 0.01487...</td>\n",
              "      <td>1</td>\n",
              "    </tr>\n",
              "    <tr>\n",
              "      <th>15</th>\n",
              "      <td>7737</td>\n",
              "      <td>My husband and I went for a 60 minutes couples...</td>\n",
              "      <td>0</td>\n",
              "      <td>Waxing, Hair Removal, Massage, Health &amp; Medica...</td>\n",
              "      <td>husband went minutes couples massage setting a...</td>\n",
              "      <td>Beauty Industry</td>\n",
              "      <td>78</td>\n",
              "      <td>0</td>\n",
              "      <td>{'great': 0.029007422775332393, 'recommend': 0...</td>\n",
              "      <td>{'rude': 0.035631956678124826, 'asked': 0.0335...</td>\n",
              "      <td>0</td>\n",
              "    </tr>\n",
              "    <tr>\n",
              "      <th>16</th>\n",
              "      <td>9048</td>\n",
              "      <td>Daniel is a good manager and a good tech. He k...</td>\n",
              "      <td>1</td>\n",
              "      <td>Nail Salons, Massage, Waxing, Hair Removal, Da...</td>\n",
              "      <td>daniel good manager good tech knows right staf...</td>\n",
              "      <td>Beauty Industry</td>\n",
              "      <td>20</td>\n",
              "      <td>1</td>\n",
              "      <td>{'recommend': 0.04306196800723211, 'good': 0.0...</td>\n",
              "      <td>{'manager': 0.10722669011098743, 'woman': 0.01...</td>\n",
              "      <td>0</td>\n",
              "    </tr>\n",
              "    <tr>\n",
              "      <th>17</th>\n",
              "      <td>11020</td>\n",
              "      <td>Not as good as the sushi at Sushi Sam's in San...</td>\n",
              "      <td>1</td>\n",
              "      <td>Japanese, Sushi Bars, Restaurants</td>\n",
              "      <td>good sushi sushi sam san mateo probably best s...</td>\n",
              "      <td>Restaurant Industry</td>\n",
              "      <td>82</td>\n",
              "      <td>1</td>\n",
              "      <td>{'delicious': 0.05625792549538685, 'definitely...</td>\n",
              "      <td>{'order': 0.01761592712949648, 'hour': 0.01554...</td>\n",
              "      <td>1</td>\n",
              "    </tr>\n",
              "    <tr>\n",
              "      <th>18</th>\n",
              "      <td>11251</td>\n",
              "      <td>FRIED CHICKEN FRIED CHICKEN FRIED CHICKEN FRIE...</td>\n",
              "      <td>1</td>\n",
              "      <td>Restaurants, American (Traditional), Barbeque</td>\n",
              "      <td>fried chicken fried chicken fried chicken frie...</td>\n",
              "      <td>Restaurant Industry</td>\n",
              "      <td>46</td>\n",
              "      <td>1</td>\n",
              "      <td>{'perfect': 0.07949921123342628, 'excellent': ...</td>\n",
              "      <td>{'sorry': 0.04507658268964135, 'wasn': 0.03023...</td>\n",
              "      <td>1</td>\n",
              "    </tr>\n",
              "    <tr>\n",
              "      <th>19</th>\n",
              "      <td>11952</td>\n",
              "      <td>You will not find a more caring, knowledgeable...</td>\n",
              "      <td>1</td>\n",
              "      <td>Orthodontists, Health &amp; Medical, Cosmetic Dent...</td>\n",
              "      <td>caring knowledgeable trustworthy wonderful den...</td>\n",
              "      <td>Other Industries</td>\n",
              "      <td>16</td>\n",
              "      <td>1</td>\n",
              "      <td>{'wonderful': 0.12852834662018367, 'knowledge'...</td>\n",
              "      <td>{'reason': 0.00859504034201479, 'patients': 0....</td>\n",
              "      <td>1</td>\n",
              "    </tr>\n",
              "  </tbody>\n",
              "</table>\n",
              "</div>"
            ],
            "text/plain": [
              "    index  ... rf_pred\n",
              "0     555  ...       0\n",
              "1     855  ...       0\n",
              "2    1158  ...       0\n",
              "3    1404  ...       0\n",
              "4    3825  ...       0\n",
              "5    3954  ...       0\n",
              "6    4210  ...       0\n",
              "7    4281  ...       0\n",
              "8    5013  ...       0\n",
              "9    5231  ...       1\n",
              "10   5285  ...       0\n",
              "11   5468  ...       1\n",
              "12   5601  ...       0\n",
              "13   5833  ...       0\n",
              "14   6274  ...       1\n",
              "15   7737  ...       0\n",
              "16   9048  ...       0\n",
              "17  11020  ...       1\n",
              "18  11251  ...       1\n",
              "19  11952  ...       1\n",
              "\n",
              "[20 rows x 11 columns]"
            ]
          },
          "metadata": {
            "tags": []
          },
          "execution_count": 10
        }
      ]
    },
    {
      "cell_type": "code",
      "metadata": {
        "colab": {
          "base_uri": "https://localhost:8080/",
          "height": 289
        },
        "id": "YKOi4yfUYd43",
        "outputId": "7e4869ee-abbf-4e9b-e8ac-c70001d5b068"
      },
      "source": [
        "summary3 = pd.read_csv('/content/drive/MyDrive/Yelp/results3.csv')\n",
        "summary3"
      ],
      "execution_count": null,
      "outputs": [
        {
          "output_type": "execute_result",
          "data": {
            "text/html": [
              "<div>\n",
              "<style scoped>\n",
              "    .dataframe tbody tr th:only-of-type {\n",
              "        vertical-align: middle;\n",
              "    }\n",
              "\n",
              "    .dataframe tbody tr th {\n",
              "        vertical-align: top;\n",
              "    }\n",
              "\n",
              "    .dataframe thead th {\n",
              "        text-align: right;\n",
              "    }\n",
              "</style>\n",
              "<table border=\"1\" class=\"dataframe\">\n",
              "  <thead>\n",
              "    <tr style=\"text-align: right;\">\n",
              "      <th></th>\n",
              "      <th>Unnamed: 0</th>\n",
              "      <th>index</th>\n",
              "      <th>label</th>\n",
              "      <th>bert_pred</th>\n",
              "      <th>rf_pred</th>\n",
              "      <th>category</th>\n",
              "      <th>length</th>\n",
              "      <th>r_pos_c</th>\n",
              "      <th>r_neg_c</th>\n",
              "    </tr>\n",
              "  </thead>\n",
              "  <tbody>\n",
              "    <tr>\n",
              "      <th>0</th>\n",
              "      <td>0</td>\n",
              "      <td>5685</td>\n",
              "      <td>1</td>\n",
              "      <td>1</td>\n",
              "      <td>1.0</td>\n",
              "      <td>Restaurant Industry</td>\n",
              "      <td>27</td>\n",
              "      <td>['helpful: 0.069', 'good: 0.026', 'reasonably:...</td>\n",
              "      <td>['company: 0.017', 'going: 0.016']</td>\n",
              "    </tr>\n",
              "    <tr>\n",
              "      <th>1</th>\n",
              "      <td>1</td>\n",
              "      <td>6654</td>\n",
              "      <td>1</td>\n",
              "      <td>1</td>\n",
              "      <td>1.0</td>\n",
              "      <td>Hotel Industry</td>\n",
              "      <td>27</td>\n",
              "      <td>['fantastic: 0.106', 'spot: 0.041', 'lovely: 0...</td>\n",
              "      <td>['know: 0.019']</td>\n",
              "    </tr>\n",
              "    <tr>\n",
              "      <th>2</th>\n",
              "      <td>2</td>\n",
              "      <td>8455</td>\n",
              "      <td>1</td>\n",
              "      <td>1</td>\n",
              "      <td>1.0</td>\n",
              "      <td>Beauty Industry</td>\n",
              "      <td>28</td>\n",
              "      <td>['definitely: 0.069', 'best: 0.063', 'perfectl...</td>\n",
              "      <td>['like: 0.012']</td>\n",
              "    </tr>\n",
              "    <tr>\n",
              "      <th>3</th>\n",
              "      <td>3</td>\n",
              "      <td>8662</td>\n",
              "      <td>1</td>\n",
              "      <td>1</td>\n",
              "      <td>1.0</td>\n",
              "      <td>Other Industries</td>\n",
              "      <td>32</td>\n",
              "      <td>['amazing: 0.06', 'awesome: 0.06', 'great: 0.0...</td>\n",
              "      <td>['minutes: 0.068']</td>\n",
              "    </tr>\n",
              "    <tr>\n",
              "      <th>4</th>\n",
              "      <td>4</td>\n",
              "      <td>8973</td>\n",
              "      <td>1</td>\n",
              "      <td>1</td>\n",
              "      <td>1.0</td>\n",
              "      <td>Service Industry</td>\n",
              "      <td>26</td>\n",
              "      <td>['nice: 0.067', 'fresh: 0.059']</td>\n",
              "      <td>[]</td>\n",
              "    </tr>\n",
              "  </tbody>\n",
              "</table>\n",
              "</div>"
            ],
            "text/plain": [
              "   Unnamed: 0  ...                             r_neg_c\n",
              "0           0  ...  ['company: 0.017', 'going: 0.016']\n",
              "1           1  ...                     ['know: 0.019']\n",
              "2           2  ...                     ['like: 0.012']\n",
              "3           3  ...                  ['minutes: 0.068']\n",
              "4           4  ...                                  []\n",
              "\n",
              "[5 rows x 9 columns]"
            ]
          },
          "metadata": {
            "tags": []
          },
          "execution_count": 9
        }
      ]
    },
    {
      "cell_type": "code",
      "metadata": {
        "id": "QP5iPzZSYpLU"
      },
      "source": [
        ""
      ],
      "execution_count": null,
      "outputs": []
    }
  ]
}